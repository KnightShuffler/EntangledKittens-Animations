{
 "cells": [
  {
   "cell_type": "code",
   "execution_count": 1,
   "id": "f024b509",
   "metadata": {},
   "outputs": [
    {
     "data": {
      "text/html": [
       "<pre style=\"white-space:pre;overflow-x:auto;line-height:normal;font-family:Menlo,'DejaVu Sans Mono',consolas,'Courier New',monospace\">Manim Community <span style=\"color: #008000; text-decoration-color: #008000\">v0.15.2</span>\n",
       "\n",
       "</pre>\n"
      ],
      "text/plain": [
       "Manim Community \u001b[32mv0.\u001b[0m\u001b[32m15.2\u001b[0m\n",
       "\n"
      ]
     },
     "metadata": {},
     "output_type": "display_data"
    }
   ],
   "source": [
    "import jupyter_manim\n",
    "from manim import *"
   ]
  },
  {
   "cell_type": "markdown",
   "id": "f5da85d7",
   "metadata": {},
   "source": [
    "# Grover's Algorithm Visualized\n",
    "* A graph plotting the real amplitudes of the basis kets.\n",
    "* A dashed line at the mean value of the amplitudes\n",
    "* When flipping an amplitude, draw a vector from the base to the tip, fade out the amplitude bars, flip the vectors about the base and then fade in the new amplitude bars"
   ]
  },
  {
   "cell_type": "code",
   "execution_count": 2,
   "id": "01b09bb3",
   "metadata": {},
   "outputs": [
    {
     "data": {
      "text/html": [
       "<pre style=\"white-space:pre;overflow-x:auto;line-height:normal;font-family:Menlo,'DejaVu Sans Mono',consolas,'Courier New',monospace\"><span style=\"color: #7fbfbf; text-decoration-color: #7fbfbf\">[06/24/22 16:16:12] </span><span style=\"color: #008000; text-decoration-color: #008000\">INFO    </span> Caching disabled.                           <a href=\"file://C:\\Users\\swaga\\miniconda3\\envs\\manim\\lib\\site-packages\\manim\\renderer\\cairo_renderer.py\" target=\"_blank\"><span style=\"color: #7f7f7f; text-decoration-color: #7f7f7f\">cairo_renderer.py</span></a><span style=\"color: #7f7f7f; text-decoration-color: #7f7f7f\">:</span><a href=\"file://C:\\Users\\swaga\\miniconda3\\envs\\manim\\lib\\site-packages\\manim\\renderer\\cairo_renderer.py#65\" target=\"_blank\"><span style=\"color: #7f7f7f; text-decoration-color: #7f7f7f\">65</span></a>\n",
       "</pre>\n"
      ],
      "text/plain": [
       "\u001b[2;36m[06/24/22 16:16:12]\u001b[0m\u001b[2;36m \u001b[0m\u001b[32mINFO    \u001b[0m Caching disabled.                           \u001b]8;id=783560;file://C:\\Users\\swaga\\miniconda3\\envs\\manim\\lib\\site-packages\\manim\\renderer\\cairo_renderer.py\u001b\\\u001b[2mcairo_renderer.py\u001b[0m\u001b]8;;\u001b\\\u001b[2m:\u001b[0m\u001b]8;id=637709;file://C:\\Users\\swaga\\miniconda3\\envs\\manim\\lib\\site-packages\\manim\\renderer\\cairo_renderer.py#65\u001b\\\u001b[2m65\u001b[0m\u001b]8;;\u001b\\\n"
      ]
     },
     "metadata": {},
     "output_type": "display_data"
    },
    {
     "name": "stderr",
     "output_type": "stream",
     "text": [
      "                                                                                                                       \r"
     ]
    },
    {
     "data": {
      "text/html": [
       "<pre style=\"white-space:pre;overflow-x:auto;line-height:normal;font-family:Menlo,'DejaVu Sans Mono',consolas,'Courier New',monospace\"><span style=\"color: #7fbfbf; text-decoration-color: #7fbfbf\">[06/24/22 16:16:22] </span><span style=\"color: #008000; text-decoration-color: #008000\">INFO    </span> Animation <span style=\"color: #008000; text-decoration-color: #008000\">0</span> : Partial movie file        <a href=\"file://C:\\Users\\swaga\\miniconda3\\envs\\manim\\lib\\site-packages\\manim\\scene\\scene_file_writer.py\" target=\"_blank\"><span style=\"color: #7f7f7f; text-decoration-color: #7f7f7f\">scene_file_writer.py</span></a><span style=\"color: #7f7f7f; text-decoration-color: #7f7f7f\">:</span><a href=\"file://C:\\Users\\swaga\\miniconda3\\envs\\manim\\lib\\site-packages\\manim\\scene\\scene_file_writer.py#504\" target=\"_blank\"><span style=\"color: #7f7f7f; text-decoration-color: #7f7f7f\">504</span></a>\n",
       "<span style=\"color: #7fbfbf; text-decoration-color: #7fbfbf\">                    </span>         written in <span style=\"color: #008000; text-decoration-color: #008000\">'C:\\Users\\swaga\\Documents\\En</span> <span style=\"color: #7f7f7f; text-decoration-color: #7f7f7f\">                        </span>\n",
       "<span style=\"color: #7fbfbf; text-decoration-color: #7fbfbf\">                    </span>         <span style=\"color: #008000; text-decoration-color: #008000\">tangledKittens\\media\\videos\\EntangledKi</span> <span style=\"color: #7f7f7f; text-decoration-color: #7f7f7f\">                        </span>\n",
       "<span style=\"color: #7fbfbf; text-decoration-color: #7fbfbf\">                    </span>         <span style=\"color: #008000; text-decoration-color: #008000\">ttens\\1080p60\\partial_movie_files\\Grove</span> <span style=\"color: #7f7f7f; text-decoration-color: #7f7f7f\">                        </span>\n",
       "<span style=\"color: #7fbfbf; text-decoration-color: #7fbfbf\">                    </span>         <span style=\"color: #008000; text-decoration-color: #008000\">rSAT4\\uncached_00000.mp4'</span>               <span style=\"color: #7f7f7f; text-decoration-color: #7f7f7f\">                        </span>\n",
       "</pre>\n"
      ],
      "text/plain": [
       "\u001b[2;36m[06/24/22 16:16:22]\u001b[0m\u001b[2;36m \u001b[0m\u001b[32mINFO    \u001b[0m Animation \u001b[32m0\u001b[0m : Partial movie file        \u001b]8;id=903123;file://C:\\Users\\swaga\\miniconda3\\envs\\manim\\lib\\site-packages\\manim\\scene\\scene_file_writer.py\u001b\\\u001b[2mscene_file_writer.py\u001b[0m\u001b]8;;\u001b\\\u001b[2m:\u001b[0m\u001b]8;id=913882;file://C:\\Users\\swaga\\miniconda3\\envs\\manim\\lib\\site-packages\\manim\\scene\\scene_file_writer.py#504\u001b\\\u001b[2m504\u001b[0m\u001b]8;;\u001b\\\n",
       "\u001b[2;36m                    \u001b[0m         written in \u001b[32m'C:\\Users\\swaga\\Documents\\En\u001b[0m \u001b[2m                        \u001b[0m\n",
       "\u001b[2;36m                    \u001b[0m         \u001b[32mtangledKittens\\media\\videos\\EntangledKi\u001b[0m \u001b[2m                        \u001b[0m\n",
       "\u001b[2;36m                    \u001b[0m         \u001b[32mttens\\1080p60\\partial_movie_files\\Grove\u001b[0m \u001b[2m                        \u001b[0m\n",
       "\u001b[2;36m                    \u001b[0m         \u001b[32mrSAT4\\uncached_00000.mp4'\u001b[0m               \u001b[2m                        \u001b[0m\n"
      ]
     },
     "metadata": {},
     "output_type": "display_data"
    },
    {
     "data": {
      "text/html": [
       "<pre style=\"white-space:pre;overflow-x:auto;line-height:normal;font-family:Menlo,'DejaVu Sans Mono',consolas,'Courier New',monospace\"><span style=\"color: #7fbfbf; text-decoration-color: #7fbfbf\">[06/24/22 16:16:23] </span><span style=\"color: #008000; text-decoration-color: #008000\">INFO    </span> Caching disabled.                           <a href=\"file://C:\\Users\\swaga\\miniconda3\\envs\\manim\\lib\\site-packages\\manim\\renderer\\cairo_renderer.py\" target=\"_blank\"><span style=\"color: #7f7f7f; text-decoration-color: #7f7f7f\">cairo_renderer.py</span></a><span style=\"color: #7f7f7f; text-decoration-color: #7f7f7f\">:</span><a href=\"file://C:\\Users\\swaga\\miniconda3\\envs\\manim\\lib\\site-packages\\manim\\renderer\\cairo_renderer.py#65\" target=\"_blank\"><span style=\"color: #7f7f7f; text-decoration-color: #7f7f7f\">65</span></a>\n",
       "</pre>\n"
      ],
      "text/plain": [
       "\u001b[2;36m[06/24/22 16:16:23]\u001b[0m\u001b[2;36m \u001b[0m\u001b[32mINFO    \u001b[0m Caching disabled.                           \u001b]8;id=979278;file://C:\\Users\\swaga\\miniconda3\\envs\\manim\\lib\\site-packages\\manim\\renderer\\cairo_renderer.py\u001b\\\u001b[2mcairo_renderer.py\u001b[0m\u001b]8;;\u001b\\\u001b[2m:\u001b[0m\u001b]8;id=57441;file://C:\\Users\\swaga\\miniconda3\\envs\\manim\\lib\\site-packages\\manim\\renderer\\cairo_renderer.py#65\u001b\\\u001b[2m65\u001b[0m\u001b]8;;\u001b\\\n"
      ]
     },
     "metadata": {},
     "output_type": "display_data"
    },
    {
     "name": "stderr",
     "output_type": "stream",
     "text": [
      "                                                                                                                       \r"
     ]
    },
    {
     "data": {
      "text/html": [
       "<pre style=\"white-space:pre;overflow-x:auto;line-height:normal;font-family:Menlo,'DejaVu Sans Mono',consolas,'Courier New',monospace\"><span style=\"color: #7fbfbf; text-decoration-color: #7fbfbf\">[06/24/22 16:16:28] </span><span style=\"color: #008000; text-decoration-color: #008000\">INFO    </span> Animation <span style=\"color: #008000; text-decoration-color: #008000\">1</span> : Partial movie file        <a href=\"file://C:\\Users\\swaga\\miniconda3\\envs\\manim\\lib\\site-packages\\manim\\scene\\scene_file_writer.py\" target=\"_blank\"><span style=\"color: #7f7f7f; text-decoration-color: #7f7f7f\">scene_file_writer.py</span></a><span style=\"color: #7f7f7f; text-decoration-color: #7f7f7f\">:</span><a href=\"file://C:\\Users\\swaga\\miniconda3\\envs\\manim\\lib\\site-packages\\manim\\scene\\scene_file_writer.py#504\" target=\"_blank\"><span style=\"color: #7f7f7f; text-decoration-color: #7f7f7f\">504</span></a>\n",
       "<span style=\"color: #7fbfbf; text-decoration-color: #7fbfbf\">                    </span>         written in <span style=\"color: #008000; text-decoration-color: #008000\">'C:\\Users\\swaga\\Documents\\En</span> <span style=\"color: #7f7f7f; text-decoration-color: #7f7f7f\">                        </span>\n",
       "<span style=\"color: #7fbfbf; text-decoration-color: #7fbfbf\">                    </span>         <span style=\"color: #008000; text-decoration-color: #008000\">tangledKittens\\media\\videos\\EntangledKi</span> <span style=\"color: #7f7f7f; text-decoration-color: #7f7f7f\">                        </span>\n",
       "<span style=\"color: #7fbfbf; text-decoration-color: #7fbfbf\">                    </span>         <span style=\"color: #008000; text-decoration-color: #008000\">ttens\\1080p60\\partial_movie_files\\Grove</span> <span style=\"color: #7f7f7f; text-decoration-color: #7f7f7f\">                        </span>\n",
       "<span style=\"color: #7fbfbf; text-decoration-color: #7fbfbf\">                    </span>         <span style=\"color: #008000; text-decoration-color: #008000\">rSAT4\\uncached_00001.mp4'</span>               <span style=\"color: #7f7f7f; text-decoration-color: #7f7f7f\">                        </span>\n",
       "</pre>\n"
      ],
      "text/plain": [
       "\u001b[2;36m[06/24/22 16:16:28]\u001b[0m\u001b[2;36m \u001b[0m\u001b[32mINFO    \u001b[0m Animation \u001b[32m1\u001b[0m : Partial movie file        \u001b]8;id=160064;file://C:\\Users\\swaga\\miniconda3\\envs\\manim\\lib\\site-packages\\manim\\scene\\scene_file_writer.py\u001b\\\u001b[2mscene_file_writer.py\u001b[0m\u001b]8;;\u001b\\\u001b[2m:\u001b[0m\u001b]8;id=123784;file://C:\\Users\\swaga\\miniconda3\\envs\\manim\\lib\\site-packages\\manim\\scene\\scene_file_writer.py#504\u001b\\\u001b[2m504\u001b[0m\u001b]8;;\u001b\\\n",
       "\u001b[2;36m                    \u001b[0m         written in \u001b[32m'C:\\Users\\swaga\\Documents\\En\u001b[0m \u001b[2m                        \u001b[0m\n",
       "\u001b[2;36m                    \u001b[0m         \u001b[32mtangledKittens\\media\\videos\\EntangledKi\u001b[0m \u001b[2m                        \u001b[0m\n",
       "\u001b[2;36m                    \u001b[0m         \u001b[32mttens\\1080p60\\partial_movie_files\\Grove\u001b[0m \u001b[2m                        \u001b[0m\n",
       "\u001b[2;36m                    \u001b[0m         \u001b[32mrSAT4\\uncached_00001.mp4'\u001b[0m               \u001b[2m                        \u001b[0m\n"
      ]
     },
     "metadata": {},
     "output_type": "display_data"
    },
    {
     "data": {
      "text/html": [
       "<pre style=\"white-space:pre;overflow-x:auto;line-height:normal;font-family:Menlo,'DejaVu Sans Mono',consolas,'Courier New',monospace\"><span style=\"color: #7fbfbf; text-decoration-color: #7fbfbf\">                    </span><span style=\"color: #008000; text-decoration-color: #008000\">INFO    </span> Caching disabled.                           <a href=\"file://C:\\Users\\swaga\\miniconda3\\envs\\manim\\lib\\site-packages\\manim\\renderer\\cairo_renderer.py\" target=\"_blank\"><span style=\"color: #7f7f7f; text-decoration-color: #7f7f7f\">cairo_renderer.py</span></a><span style=\"color: #7f7f7f; text-decoration-color: #7f7f7f\">:</span><a href=\"file://C:\\Users\\swaga\\miniconda3\\envs\\manim\\lib\\site-packages\\manim\\renderer\\cairo_renderer.py#65\" target=\"_blank\"><span style=\"color: #7f7f7f; text-decoration-color: #7f7f7f\">65</span></a>\n",
       "</pre>\n"
      ],
      "text/plain": [
       "\u001b[2;36m                   \u001b[0m\u001b[2;36m \u001b[0m\u001b[32mINFO    \u001b[0m Caching disabled.                           \u001b]8;id=657792;file://C:\\Users\\swaga\\miniconda3\\envs\\manim\\lib\\site-packages\\manim\\renderer\\cairo_renderer.py\u001b\\\u001b[2mcairo_renderer.py\u001b[0m\u001b]8;;\u001b\\\u001b[2m:\u001b[0m\u001b]8;id=387558;file://C:\\Users\\swaga\\miniconda3\\envs\\manim\\lib\\site-packages\\manim\\renderer\\cairo_renderer.py#65\u001b\\\u001b[2m65\u001b[0m\u001b]8;;\u001b\\\n"
      ]
     },
     "metadata": {},
     "output_type": "display_data"
    },
    {
     "name": "stderr",
     "output_type": "stream",
     "text": [
      "                                                                                                                       \r"
     ]
    },
    {
     "data": {
      "text/html": [
       "<pre style=\"white-space:pre;overflow-x:auto;line-height:normal;font-family:Menlo,'DejaVu Sans Mono',consolas,'Courier New',monospace\"><span style=\"color: #7fbfbf; text-decoration-color: #7fbfbf\">[06/24/22 16:16:31] </span><span style=\"color: #008000; text-decoration-color: #008000\">INFO    </span> Animation <span style=\"color: #008000; text-decoration-color: #008000\">2</span> : Partial movie file        <a href=\"file://C:\\Users\\swaga\\miniconda3\\envs\\manim\\lib\\site-packages\\manim\\scene\\scene_file_writer.py\" target=\"_blank\"><span style=\"color: #7f7f7f; text-decoration-color: #7f7f7f\">scene_file_writer.py</span></a><span style=\"color: #7f7f7f; text-decoration-color: #7f7f7f\">:</span><a href=\"file://C:\\Users\\swaga\\miniconda3\\envs\\manim\\lib\\site-packages\\manim\\scene\\scene_file_writer.py#504\" target=\"_blank\"><span style=\"color: #7f7f7f; text-decoration-color: #7f7f7f\">504</span></a>\n",
       "<span style=\"color: #7fbfbf; text-decoration-color: #7fbfbf\">                    </span>         written in <span style=\"color: #008000; text-decoration-color: #008000\">'C:\\Users\\swaga\\Documents\\En</span> <span style=\"color: #7f7f7f; text-decoration-color: #7f7f7f\">                        </span>\n",
       "<span style=\"color: #7fbfbf; text-decoration-color: #7fbfbf\">                    </span>         <span style=\"color: #008000; text-decoration-color: #008000\">tangledKittens\\media\\videos\\EntangledKi</span> <span style=\"color: #7f7f7f; text-decoration-color: #7f7f7f\">                        </span>\n",
       "<span style=\"color: #7fbfbf; text-decoration-color: #7fbfbf\">                    </span>         <span style=\"color: #008000; text-decoration-color: #008000\">ttens\\1080p60\\partial_movie_files\\Grove</span> <span style=\"color: #7f7f7f; text-decoration-color: #7f7f7f\">                        </span>\n",
       "<span style=\"color: #7fbfbf; text-decoration-color: #7fbfbf\">                    </span>         <span style=\"color: #008000; text-decoration-color: #008000\">rSAT4\\uncached_00002.mp4'</span>               <span style=\"color: #7f7f7f; text-decoration-color: #7f7f7f\">                        </span>\n",
       "</pre>\n"
      ],
      "text/plain": [
       "\u001b[2;36m[06/24/22 16:16:31]\u001b[0m\u001b[2;36m \u001b[0m\u001b[32mINFO    \u001b[0m Animation \u001b[32m2\u001b[0m : Partial movie file        \u001b]8;id=31388;file://C:\\Users\\swaga\\miniconda3\\envs\\manim\\lib\\site-packages\\manim\\scene\\scene_file_writer.py\u001b\\\u001b[2mscene_file_writer.py\u001b[0m\u001b]8;;\u001b\\\u001b[2m:\u001b[0m\u001b]8;id=727127;file://C:\\Users\\swaga\\miniconda3\\envs\\manim\\lib\\site-packages\\manim\\scene\\scene_file_writer.py#504\u001b\\\u001b[2m504\u001b[0m\u001b]8;;\u001b\\\n",
       "\u001b[2;36m                    \u001b[0m         written in \u001b[32m'C:\\Users\\swaga\\Documents\\En\u001b[0m \u001b[2m                        \u001b[0m\n",
       "\u001b[2;36m                    \u001b[0m         \u001b[32mtangledKittens\\media\\videos\\EntangledKi\u001b[0m \u001b[2m                        \u001b[0m\n",
       "\u001b[2;36m                    \u001b[0m         \u001b[32mttens\\1080p60\\partial_movie_files\\Grove\u001b[0m \u001b[2m                        \u001b[0m\n",
       "\u001b[2;36m                    \u001b[0m         \u001b[32mrSAT4\\uncached_00002.mp4'\u001b[0m               \u001b[2m                        \u001b[0m\n"
      ]
     },
     "metadata": {},
     "output_type": "display_data"
    },
    {
     "data": {
      "text/html": [
       "<pre style=\"white-space:pre;overflow-x:auto;line-height:normal;font-family:Menlo,'DejaVu Sans Mono',consolas,'Courier New',monospace\"><span style=\"color: #7fbfbf; text-decoration-color: #7fbfbf\">                    </span><span style=\"color: #008000; text-decoration-color: #008000\">INFO    </span> Caching disabled.                           <a href=\"file://C:\\Users\\swaga\\miniconda3\\envs\\manim\\lib\\site-packages\\manim\\renderer\\cairo_renderer.py\" target=\"_blank\"><span style=\"color: #7f7f7f; text-decoration-color: #7f7f7f\">cairo_renderer.py</span></a><span style=\"color: #7f7f7f; text-decoration-color: #7f7f7f\">:</span><a href=\"file://C:\\Users\\swaga\\miniconda3\\envs\\manim\\lib\\site-packages\\manim\\renderer\\cairo_renderer.py#65\" target=\"_blank\"><span style=\"color: #7f7f7f; text-decoration-color: #7f7f7f\">65</span></a>\n",
       "</pre>\n"
      ],
      "text/plain": [
       "\u001b[2;36m                   \u001b[0m\u001b[2;36m \u001b[0m\u001b[32mINFO    \u001b[0m Caching disabled.                           \u001b]8;id=534339;file://C:\\Users\\swaga\\miniconda3\\envs\\manim\\lib\\site-packages\\manim\\renderer\\cairo_renderer.py\u001b\\\u001b[2mcairo_renderer.py\u001b[0m\u001b]8;;\u001b\\\u001b[2m:\u001b[0m\u001b]8;id=790038;file://C:\\Users\\swaga\\miniconda3\\envs\\manim\\lib\\site-packages\\manim\\renderer\\cairo_renderer.py#65\u001b\\\u001b[2m65\u001b[0m\u001b]8;;\u001b\\\n"
      ]
     },
     "metadata": {},
     "output_type": "display_data"
    },
    {
     "name": "stderr",
     "output_type": "stream",
     "text": [
      "                                                                                                                       \r"
     ]
    },
    {
     "data": {
      "text/html": [
       "<pre style=\"white-space:pre;overflow-x:auto;line-height:normal;font-family:Menlo,'DejaVu Sans Mono',consolas,'Courier New',monospace\"><span style=\"color: #7fbfbf; text-decoration-color: #7fbfbf\">[06/24/22 16:16:37] </span><span style=\"color: #008000; text-decoration-color: #008000\">INFO    </span> Animation <span style=\"color: #008000; text-decoration-color: #008000\">3</span> : Partial movie file        <a href=\"file://C:\\Users\\swaga\\miniconda3\\envs\\manim\\lib\\site-packages\\manim\\scene\\scene_file_writer.py\" target=\"_blank\"><span style=\"color: #7f7f7f; text-decoration-color: #7f7f7f\">scene_file_writer.py</span></a><span style=\"color: #7f7f7f; text-decoration-color: #7f7f7f\">:</span><a href=\"file://C:\\Users\\swaga\\miniconda3\\envs\\manim\\lib\\site-packages\\manim\\scene\\scene_file_writer.py#504\" target=\"_blank\"><span style=\"color: #7f7f7f; text-decoration-color: #7f7f7f\">504</span></a>\n",
       "<span style=\"color: #7fbfbf; text-decoration-color: #7fbfbf\">                    </span>         written in <span style=\"color: #008000; text-decoration-color: #008000\">'C:\\Users\\swaga\\Documents\\En</span> <span style=\"color: #7f7f7f; text-decoration-color: #7f7f7f\">                        </span>\n",
       "<span style=\"color: #7fbfbf; text-decoration-color: #7fbfbf\">                    </span>         <span style=\"color: #008000; text-decoration-color: #008000\">tangledKittens\\media\\videos\\EntangledKi</span> <span style=\"color: #7f7f7f; text-decoration-color: #7f7f7f\">                        </span>\n",
       "<span style=\"color: #7fbfbf; text-decoration-color: #7fbfbf\">                    </span>         <span style=\"color: #008000; text-decoration-color: #008000\">ttens\\1080p60\\partial_movie_files\\Grove</span> <span style=\"color: #7f7f7f; text-decoration-color: #7f7f7f\">                        </span>\n",
       "<span style=\"color: #7fbfbf; text-decoration-color: #7fbfbf\">                    </span>         <span style=\"color: #008000; text-decoration-color: #008000\">rSAT4\\uncached_00003.mp4'</span>               <span style=\"color: #7f7f7f; text-decoration-color: #7f7f7f\">                        </span>\n",
       "</pre>\n"
      ],
      "text/plain": [
       "\u001b[2;36m[06/24/22 16:16:37]\u001b[0m\u001b[2;36m \u001b[0m\u001b[32mINFO    \u001b[0m Animation \u001b[32m3\u001b[0m : Partial movie file        \u001b]8;id=809569;file://C:\\Users\\swaga\\miniconda3\\envs\\manim\\lib\\site-packages\\manim\\scene\\scene_file_writer.py\u001b\\\u001b[2mscene_file_writer.py\u001b[0m\u001b]8;;\u001b\\\u001b[2m:\u001b[0m\u001b]8;id=209109;file://C:\\Users\\swaga\\miniconda3\\envs\\manim\\lib\\site-packages\\manim\\scene\\scene_file_writer.py#504\u001b\\\u001b[2m504\u001b[0m\u001b]8;;\u001b\\\n",
       "\u001b[2;36m                    \u001b[0m         written in \u001b[32m'C:\\Users\\swaga\\Documents\\En\u001b[0m \u001b[2m                        \u001b[0m\n",
       "\u001b[2;36m                    \u001b[0m         \u001b[32mtangledKittens\\media\\videos\\EntangledKi\u001b[0m \u001b[2m                        \u001b[0m\n",
       "\u001b[2;36m                    \u001b[0m         \u001b[32mttens\\1080p60\\partial_movie_files\\Grove\u001b[0m \u001b[2m                        \u001b[0m\n",
       "\u001b[2;36m                    \u001b[0m         \u001b[32mrSAT4\\uncached_00003.mp4'\u001b[0m               \u001b[2m                        \u001b[0m\n"
      ]
     },
     "metadata": {},
     "output_type": "display_data"
    },
    {
     "data": {
      "text/html": [
       "<pre style=\"white-space:pre;overflow-x:auto;line-height:normal;font-family:Menlo,'DejaVu Sans Mono',consolas,'Courier New',monospace\"><span style=\"color: #7fbfbf; text-decoration-color: #7fbfbf\">                    </span><span style=\"color: #008000; text-decoration-color: #008000\">INFO    </span> Caching disabled.                           <a href=\"file://C:\\Users\\swaga\\miniconda3\\envs\\manim\\lib\\site-packages\\manim\\renderer\\cairo_renderer.py\" target=\"_blank\"><span style=\"color: #7f7f7f; text-decoration-color: #7f7f7f\">cairo_renderer.py</span></a><span style=\"color: #7f7f7f; text-decoration-color: #7f7f7f\">:</span><a href=\"file://C:\\Users\\swaga\\miniconda3\\envs\\manim\\lib\\site-packages\\manim\\renderer\\cairo_renderer.py#65\" target=\"_blank\"><span style=\"color: #7f7f7f; text-decoration-color: #7f7f7f\">65</span></a>\n",
       "</pre>\n"
      ],
      "text/plain": [
       "\u001b[2;36m                   \u001b[0m\u001b[2;36m \u001b[0m\u001b[32mINFO    \u001b[0m Caching disabled.                           \u001b]8;id=830554;file://C:\\Users\\swaga\\miniconda3\\envs\\manim\\lib\\site-packages\\manim\\renderer\\cairo_renderer.py\u001b\\\u001b[2mcairo_renderer.py\u001b[0m\u001b]8;;\u001b\\\u001b[2m:\u001b[0m\u001b]8;id=140399;file://C:\\Users\\swaga\\miniconda3\\envs\\manim\\lib\\site-packages\\manim\\renderer\\cairo_renderer.py#65\u001b\\\u001b[2m65\u001b[0m\u001b]8;;\u001b\\\n"
      ]
     },
     "metadata": {},
     "output_type": "display_data"
    },
    {
     "name": "stderr",
     "output_type": "stream",
     "text": [
      "                                                                                                                       \r"
     ]
    },
    {
     "data": {
      "text/html": [
       "<pre style=\"white-space:pre;overflow-x:auto;line-height:normal;font-family:Menlo,'DejaVu Sans Mono',consolas,'Courier New',monospace\"><span style=\"color: #7fbfbf; text-decoration-color: #7fbfbf\">[06/24/22 16:16:41] </span><span style=\"color: #008000; text-decoration-color: #008000\">INFO    </span> Animation <span style=\"color: #008000; text-decoration-color: #008000\">4</span> : Partial movie file        <a href=\"file://C:\\Users\\swaga\\miniconda3\\envs\\manim\\lib\\site-packages\\manim\\scene\\scene_file_writer.py\" target=\"_blank\"><span style=\"color: #7f7f7f; text-decoration-color: #7f7f7f\">scene_file_writer.py</span></a><span style=\"color: #7f7f7f; text-decoration-color: #7f7f7f\">:</span><a href=\"file://C:\\Users\\swaga\\miniconda3\\envs\\manim\\lib\\site-packages\\manim\\scene\\scene_file_writer.py#504\" target=\"_blank\"><span style=\"color: #7f7f7f; text-decoration-color: #7f7f7f\">504</span></a>\n",
       "<span style=\"color: #7fbfbf; text-decoration-color: #7fbfbf\">                    </span>         written in <span style=\"color: #008000; text-decoration-color: #008000\">'C:\\Users\\swaga\\Documents\\En</span> <span style=\"color: #7f7f7f; text-decoration-color: #7f7f7f\">                        </span>\n",
       "<span style=\"color: #7fbfbf; text-decoration-color: #7fbfbf\">                    </span>         <span style=\"color: #008000; text-decoration-color: #008000\">tangledKittens\\media\\videos\\EntangledKi</span> <span style=\"color: #7f7f7f; text-decoration-color: #7f7f7f\">                        </span>\n",
       "<span style=\"color: #7fbfbf; text-decoration-color: #7fbfbf\">                    </span>         <span style=\"color: #008000; text-decoration-color: #008000\">ttens\\1080p60\\partial_movie_files\\Grove</span> <span style=\"color: #7f7f7f; text-decoration-color: #7f7f7f\">                        </span>\n",
       "<span style=\"color: #7fbfbf; text-decoration-color: #7fbfbf\">                    </span>         <span style=\"color: #008000; text-decoration-color: #008000\">rSAT4\\uncached_00004.mp4'</span>               <span style=\"color: #7f7f7f; text-decoration-color: #7f7f7f\">                        </span>\n",
       "</pre>\n"
      ],
      "text/plain": [
       "\u001b[2;36m[06/24/22 16:16:41]\u001b[0m\u001b[2;36m \u001b[0m\u001b[32mINFO    \u001b[0m Animation \u001b[32m4\u001b[0m : Partial movie file        \u001b]8;id=359467;file://C:\\Users\\swaga\\miniconda3\\envs\\manim\\lib\\site-packages\\manim\\scene\\scene_file_writer.py\u001b\\\u001b[2mscene_file_writer.py\u001b[0m\u001b]8;;\u001b\\\u001b[2m:\u001b[0m\u001b]8;id=223154;file://C:\\Users\\swaga\\miniconda3\\envs\\manim\\lib\\site-packages\\manim\\scene\\scene_file_writer.py#504\u001b\\\u001b[2m504\u001b[0m\u001b]8;;\u001b\\\n",
       "\u001b[2;36m                    \u001b[0m         written in \u001b[32m'C:\\Users\\swaga\\Documents\\En\u001b[0m \u001b[2m                        \u001b[0m\n",
       "\u001b[2;36m                    \u001b[0m         \u001b[32mtangledKittens\\media\\videos\\EntangledKi\u001b[0m \u001b[2m                        \u001b[0m\n",
       "\u001b[2;36m                    \u001b[0m         \u001b[32mttens\\1080p60\\partial_movie_files\\Grove\u001b[0m \u001b[2m                        \u001b[0m\n",
       "\u001b[2;36m                    \u001b[0m         \u001b[32mrSAT4\\uncached_00004.mp4'\u001b[0m               \u001b[2m                        \u001b[0m\n"
      ]
     },
     "metadata": {},
     "output_type": "display_data"
    },
    {
     "data": {
      "text/html": [
       "<pre style=\"white-space:pre;overflow-x:auto;line-height:normal;font-family:Menlo,'DejaVu Sans Mono',consolas,'Courier New',monospace\"><span style=\"color: #7fbfbf; text-decoration-color: #7fbfbf\">                    </span><span style=\"color: #008000; text-decoration-color: #008000\">INFO    </span> Caching disabled.                           <a href=\"file://C:\\Users\\swaga\\miniconda3\\envs\\manim\\lib\\site-packages\\manim\\renderer\\cairo_renderer.py\" target=\"_blank\"><span style=\"color: #7f7f7f; text-decoration-color: #7f7f7f\">cairo_renderer.py</span></a><span style=\"color: #7f7f7f; text-decoration-color: #7f7f7f\">:</span><a href=\"file://C:\\Users\\swaga\\miniconda3\\envs\\manim\\lib\\site-packages\\manim\\renderer\\cairo_renderer.py#65\" target=\"_blank\"><span style=\"color: #7f7f7f; text-decoration-color: #7f7f7f\">65</span></a>\n",
       "</pre>\n"
      ],
      "text/plain": [
       "\u001b[2;36m                   \u001b[0m\u001b[2;36m \u001b[0m\u001b[32mINFO    \u001b[0m Caching disabled.                           \u001b]8;id=699342;file://C:\\Users\\swaga\\miniconda3\\envs\\manim\\lib\\site-packages\\manim\\renderer\\cairo_renderer.py\u001b\\\u001b[2mcairo_renderer.py\u001b[0m\u001b]8;;\u001b\\\u001b[2m:\u001b[0m\u001b]8;id=699359;file://C:\\Users\\swaga\\miniconda3\\envs\\manim\\lib\\site-packages\\manim\\renderer\\cairo_renderer.py#65\u001b\\\u001b[2m65\u001b[0m\u001b]8;;\u001b\\\n"
      ]
     },
     "metadata": {},
     "output_type": "display_data"
    },
    {
     "name": "stderr",
     "output_type": "stream",
     "text": [
      "                                                                                                                       \r"
     ]
    },
    {
     "data": {
      "text/html": [
       "<pre style=\"white-space:pre;overflow-x:auto;line-height:normal;font-family:Menlo,'DejaVu Sans Mono',consolas,'Courier New',monospace\"><span style=\"color: #7fbfbf; text-decoration-color: #7fbfbf\">[06/24/22 16:16:45] </span><span style=\"color: #008000; text-decoration-color: #008000\">INFO    </span> Animation <span style=\"color: #008000; text-decoration-color: #008000\">5</span> : Partial movie file        <a href=\"file://C:\\Users\\swaga\\miniconda3\\envs\\manim\\lib\\site-packages\\manim\\scene\\scene_file_writer.py\" target=\"_blank\"><span style=\"color: #7f7f7f; text-decoration-color: #7f7f7f\">scene_file_writer.py</span></a><span style=\"color: #7f7f7f; text-decoration-color: #7f7f7f\">:</span><a href=\"file://C:\\Users\\swaga\\miniconda3\\envs\\manim\\lib\\site-packages\\manim\\scene\\scene_file_writer.py#504\" target=\"_blank\"><span style=\"color: #7f7f7f; text-decoration-color: #7f7f7f\">504</span></a>\n",
       "<span style=\"color: #7fbfbf; text-decoration-color: #7fbfbf\">                    </span>         written in <span style=\"color: #008000; text-decoration-color: #008000\">'C:\\Users\\swaga\\Documents\\En</span> <span style=\"color: #7f7f7f; text-decoration-color: #7f7f7f\">                        </span>\n",
       "<span style=\"color: #7fbfbf; text-decoration-color: #7fbfbf\">                    </span>         <span style=\"color: #008000; text-decoration-color: #008000\">tangledKittens\\media\\videos\\EntangledKi</span> <span style=\"color: #7f7f7f; text-decoration-color: #7f7f7f\">                        </span>\n",
       "<span style=\"color: #7fbfbf; text-decoration-color: #7fbfbf\">                    </span>         <span style=\"color: #008000; text-decoration-color: #008000\">ttens\\1080p60\\partial_movie_files\\Grove</span> <span style=\"color: #7f7f7f; text-decoration-color: #7f7f7f\">                        </span>\n",
       "<span style=\"color: #7fbfbf; text-decoration-color: #7fbfbf\">                    </span>         <span style=\"color: #008000; text-decoration-color: #008000\">rSAT4\\uncached_00005.mp4'</span>               <span style=\"color: #7f7f7f; text-decoration-color: #7f7f7f\">                        </span>\n",
       "</pre>\n"
      ],
      "text/plain": [
       "\u001b[2;36m[06/24/22 16:16:45]\u001b[0m\u001b[2;36m \u001b[0m\u001b[32mINFO    \u001b[0m Animation \u001b[32m5\u001b[0m : Partial movie file        \u001b]8;id=690851;file://C:\\Users\\swaga\\miniconda3\\envs\\manim\\lib\\site-packages\\manim\\scene\\scene_file_writer.py\u001b\\\u001b[2mscene_file_writer.py\u001b[0m\u001b]8;;\u001b\\\u001b[2m:\u001b[0m\u001b]8;id=629326;file://C:\\Users\\swaga\\miniconda3\\envs\\manim\\lib\\site-packages\\manim\\scene\\scene_file_writer.py#504\u001b\\\u001b[2m504\u001b[0m\u001b]8;;\u001b\\\n",
       "\u001b[2;36m                    \u001b[0m         written in \u001b[32m'C:\\Users\\swaga\\Documents\\En\u001b[0m \u001b[2m                        \u001b[0m\n",
       "\u001b[2;36m                    \u001b[0m         \u001b[32mtangledKittens\\media\\videos\\EntangledKi\u001b[0m \u001b[2m                        \u001b[0m\n",
       "\u001b[2;36m                    \u001b[0m         \u001b[32mttens\\1080p60\\partial_movie_files\\Grove\u001b[0m \u001b[2m                        \u001b[0m\n",
       "\u001b[2;36m                    \u001b[0m         \u001b[32mrSAT4\\uncached_00005.mp4'\u001b[0m               \u001b[2m                        \u001b[0m\n"
      ]
     },
     "metadata": {},
     "output_type": "display_data"
    },
    {
     "data": {
      "text/html": [
       "<pre style=\"white-space:pre;overflow-x:auto;line-height:normal;font-family:Menlo,'DejaVu Sans Mono',consolas,'Courier New',monospace\"><span style=\"color: #7fbfbf; text-decoration-color: #7fbfbf\">                    </span><span style=\"color: #008000; text-decoration-color: #008000\">INFO    </span> Caching disabled.                           <a href=\"file://C:\\Users\\swaga\\miniconda3\\envs\\manim\\lib\\site-packages\\manim\\renderer\\cairo_renderer.py\" target=\"_blank\"><span style=\"color: #7f7f7f; text-decoration-color: #7f7f7f\">cairo_renderer.py</span></a><span style=\"color: #7f7f7f; text-decoration-color: #7f7f7f\">:</span><a href=\"file://C:\\Users\\swaga\\miniconda3\\envs\\manim\\lib\\site-packages\\manim\\renderer\\cairo_renderer.py#65\" target=\"_blank\"><span style=\"color: #7f7f7f; text-decoration-color: #7f7f7f\">65</span></a>\n",
       "</pre>\n"
      ],
      "text/plain": [
       "\u001b[2;36m                   \u001b[0m\u001b[2;36m \u001b[0m\u001b[32mINFO    \u001b[0m Caching disabled.                           \u001b]8;id=213480;file://C:\\Users\\swaga\\miniconda3\\envs\\manim\\lib\\site-packages\\manim\\renderer\\cairo_renderer.py\u001b\\\u001b[2mcairo_renderer.py\u001b[0m\u001b]8;;\u001b\\\u001b[2m:\u001b[0m\u001b]8;id=125702;file://C:\\Users\\swaga\\miniconda3\\envs\\manim\\lib\\site-packages\\manim\\renderer\\cairo_renderer.py#65\u001b\\\u001b[2m65\u001b[0m\u001b]8;;\u001b\\\n"
      ]
     },
     "metadata": {},
     "output_type": "display_data"
    },
    {
     "name": "stderr",
     "output_type": "stream",
     "text": [
      "                                                                                                                       \r"
     ]
    },
    {
     "data": {
      "text/html": [
       "<pre style=\"white-space:pre;overflow-x:auto;line-height:normal;font-family:Menlo,'DejaVu Sans Mono',consolas,'Courier New',monospace\"><span style=\"color: #7fbfbf; text-decoration-color: #7fbfbf\">[06/24/22 16:16:48] </span><span style=\"color: #008000; text-decoration-color: #008000\">INFO    </span> Animation <span style=\"color: #008000; text-decoration-color: #008000\">6</span> : Partial movie file        <a href=\"file://C:\\Users\\swaga\\miniconda3\\envs\\manim\\lib\\site-packages\\manim\\scene\\scene_file_writer.py\" target=\"_blank\"><span style=\"color: #7f7f7f; text-decoration-color: #7f7f7f\">scene_file_writer.py</span></a><span style=\"color: #7f7f7f; text-decoration-color: #7f7f7f\">:</span><a href=\"file://C:\\Users\\swaga\\miniconda3\\envs\\manim\\lib\\site-packages\\manim\\scene\\scene_file_writer.py#504\" target=\"_blank\"><span style=\"color: #7f7f7f; text-decoration-color: #7f7f7f\">504</span></a>\n",
       "<span style=\"color: #7fbfbf; text-decoration-color: #7fbfbf\">                    </span>         written in <span style=\"color: #008000; text-decoration-color: #008000\">'C:\\Users\\swaga\\Documents\\En</span> <span style=\"color: #7f7f7f; text-decoration-color: #7f7f7f\">                        </span>\n",
       "<span style=\"color: #7fbfbf; text-decoration-color: #7fbfbf\">                    </span>         <span style=\"color: #008000; text-decoration-color: #008000\">tangledKittens\\media\\videos\\EntangledKi</span> <span style=\"color: #7f7f7f; text-decoration-color: #7f7f7f\">                        </span>\n",
       "<span style=\"color: #7fbfbf; text-decoration-color: #7fbfbf\">                    </span>         <span style=\"color: #008000; text-decoration-color: #008000\">ttens\\1080p60\\partial_movie_files\\Grove</span> <span style=\"color: #7f7f7f; text-decoration-color: #7f7f7f\">                        </span>\n",
       "<span style=\"color: #7fbfbf; text-decoration-color: #7fbfbf\">                    </span>         <span style=\"color: #008000; text-decoration-color: #008000\">rSAT4\\uncached_00006.mp4'</span>               <span style=\"color: #7f7f7f; text-decoration-color: #7f7f7f\">                        </span>\n",
       "</pre>\n"
      ],
      "text/plain": [
       "\u001b[2;36m[06/24/22 16:16:48]\u001b[0m\u001b[2;36m \u001b[0m\u001b[32mINFO    \u001b[0m Animation \u001b[32m6\u001b[0m : Partial movie file        \u001b]8;id=690018;file://C:\\Users\\swaga\\miniconda3\\envs\\manim\\lib\\site-packages\\manim\\scene\\scene_file_writer.py\u001b\\\u001b[2mscene_file_writer.py\u001b[0m\u001b]8;;\u001b\\\u001b[2m:\u001b[0m\u001b]8;id=605714;file://C:\\Users\\swaga\\miniconda3\\envs\\manim\\lib\\site-packages\\manim\\scene\\scene_file_writer.py#504\u001b\\\u001b[2m504\u001b[0m\u001b]8;;\u001b\\\n",
       "\u001b[2;36m                    \u001b[0m         written in \u001b[32m'C:\\Users\\swaga\\Documents\\En\u001b[0m \u001b[2m                        \u001b[0m\n",
       "\u001b[2;36m                    \u001b[0m         \u001b[32mtangledKittens\\media\\videos\\EntangledKi\u001b[0m \u001b[2m                        \u001b[0m\n",
       "\u001b[2;36m                    \u001b[0m         \u001b[32mttens\\1080p60\\partial_movie_files\\Grove\u001b[0m \u001b[2m                        \u001b[0m\n",
       "\u001b[2;36m                    \u001b[0m         \u001b[32mrSAT4\\uncached_00006.mp4'\u001b[0m               \u001b[2m                        \u001b[0m\n"
      ]
     },
     "metadata": {},
     "output_type": "display_data"
    },
    {
     "data": {
      "text/html": [
       "<pre style=\"white-space:pre;overflow-x:auto;line-height:normal;font-family:Menlo,'DejaVu Sans Mono',consolas,'Courier New',monospace\"><span style=\"color: #7fbfbf; text-decoration-color: #7fbfbf\">                    </span><span style=\"color: #008000; text-decoration-color: #008000\">INFO    </span> Caching disabled.                           <a href=\"file://C:\\Users\\swaga\\miniconda3\\envs\\manim\\lib\\site-packages\\manim\\renderer\\cairo_renderer.py\" target=\"_blank\"><span style=\"color: #7f7f7f; text-decoration-color: #7f7f7f\">cairo_renderer.py</span></a><span style=\"color: #7f7f7f; text-decoration-color: #7f7f7f\">:</span><a href=\"file://C:\\Users\\swaga\\miniconda3\\envs\\manim\\lib\\site-packages\\manim\\renderer\\cairo_renderer.py#65\" target=\"_blank\"><span style=\"color: #7f7f7f; text-decoration-color: #7f7f7f\">65</span></a>\n",
       "</pre>\n"
      ],
      "text/plain": [
       "\u001b[2;36m                   \u001b[0m\u001b[2;36m \u001b[0m\u001b[32mINFO    \u001b[0m Caching disabled.                           \u001b]8;id=157933;file://C:\\Users\\swaga\\miniconda3\\envs\\manim\\lib\\site-packages\\manim\\renderer\\cairo_renderer.py\u001b\\\u001b[2mcairo_renderer.py\u001b[0m\u001b]8;;\u001b\\\u001b[2m:\u001b[0m\u001b]8;id=847986;file://C:\\Users\\swaga\\miniconda3\\envs\\manim\\lib\\site-packages\\manim\\renderer\\cairo_renderer.py#65\u001b\\\u001b[2m65\u001b[0m\u001b]8;;\u001b\\\n"
      ]
     },
     "metadata": {},
     "output_type": "display_data"
    },
    {
     "name": "stderr",
     "output_type": "stream",
     "text": [
      "                                                                                                                       \r"
     ]
    },
    {
     "data": {
      "text/html": [
       "<pre style=\"white-space:pre;overflow-x:auto;line-height:normal;font-family:Menlo,'DejaVu Sans Mono',consolas,'Courier New',monospace\"><span style=\"color: #7fbfbf; text-decoration-color: #7fbfbf\">[06/24/22 16:16:52] </span><span style=\"color: #008000; text-decoration-color: #008000\">INFO    </span> Animation <span style=\"color: #008000; text-decoration-color: #008000\">7</span> : Partial movie file        <a href=\"file://C:\\Users\\swaga\\miniconda3\\envs\\manim\\lib\\site-packages\\manim\\scene\\scene_file_writer.py\" target=\"_blank\"><span style=\"color: #7f7f7f; text-decoration-color: #7f7f7f\">scene_file_writer.py</span></a><span style=\"color: #7f7f7f; text-decoration-color: #7f7f7f\">:</span><a href=\"file://C:\\Users\\swaga\\miniconda3\\envs\\manim\\lib\\site-packages\\manim\\scene\\scene_file_writer.py#504\" target=\"_blank\"><span style=\"color: #7f7f7f; text-decoration-color: #7f7f7f\">504</span></a>\n",
       "<span style=\"color: #7fbfbf; text-decoration-color: #7fbfbf\">                    </span>         written in <span style=\"color: #008000; text-decoration-color: #008000\">'C:\\Users\\swaga\\Documents\\En</span> <span style=\"color: #7f7f7f; text-decoration-color: #7f7f7f\">                        </span>\n",
       "<span style=\"color: #7fbfbf; text-decoration-color: #7fbfbf\">                    </span>         <span style=\"color: #008000; text-decoration-color: #008000\">tangledKittens\\media\\videos\\EntangledKi</span> <span style=\"color: #7f7f7f; text-decoration-color: #7f7f7f\">                        </span>\n",
       "<span style=\"color: #7fbfbf; text-decoration-color: #7fbfbf\">                    </span>         <span style=\"color: #008000; text-decoration-color: #008000\">ttens\\1080p60\\partial_movie_files\\Grove</span> <span style=\"color: #7f7f7f; text-decoration-color: #7f7f7f\">                        </span>\n",
       "<span style=\"color: #7fbfbf; text-decoration-color: #7fbfbf\">                    </span>         <span style=\"color: #008000; text-decoration-color: #008000\">rSAT4\\uncached_00007.mp4'</span>               <span style=\"color: #7f7f7f; text-decoration-color: #7f7f7f\">                        </span>\n",
       "</pre>\n"
      ],
      "text/plain": [
       "\u001b[2;36m[06/24/22 16:16:52]\u001b[0m\u001b[2;36m \u001b[0m\u001b[32mINFO    \u001b[0m Animation \u001b[32m7\u001b[0m : Partial movie file        \u001b]8;id=116353;file://C:\\Users\\swaga\\miniconda3\\envs\\manim\\lib\\site-packages\\manim\\scene\\scene_file_writer.py\u001b\\\u001b[2mscene_file_writer.py\u001b[0m\u001b]8;;\u001b\\\u001b[2m:\u001b[0m\u001b]8;id=376414;file://C:\\Users\\swaga\\miniconda3\\envs\\manim\\lib\\site-packages\\manim\\scene\\scene_file_writer.py#504\u001b\\\u001b[2m504\u001b[0m\u001b]8;;\u001b\\\n",
       "\u001b[2;36m                    \u001b[0m         written in \u001b[32m'C:\\Users\\swaga\\Documents\\En\u001b[0m \u001b[2m                        \u001b[0m\n",
       "\u001b[2;36m                    \u001b[0m         \u001b[32mtangledKittens\\media\\videos\\EntangledKi\u001b[0m \u001b[2m                        \u001b[0m\n",
       "\u001b[2;36m                    \u001b[0m         \u001b[32mttens\\1080p60\\partial_movie_files\\Grove\u001b[0m \u001b[2m                        \u001b[0m\n",
       "\u001b[2;36m                    \u001b[0m         \u001b[32mrSAT4\\uncached_00007.mp4'\u001b[0m               \u001b[2m                        \u001b[0m\n"
      ]
     },
     "metadata": {},
     "output_type": "display_data"
    },
    {
     "data": {
      "text/html": [
       "<pre style=\"white-space:pre;overflow-x:auto;line-height:normal;font-family:Menlo,'DejaVu Sans Mono',consolas,'Courier New',monospace\"><span style=\"color: #7fbfbf; text-decoration-color: #7fbfbf\">                    </span><span style=\"color: #008000; text-decoration-color: #008000\">INFO    </span> Caching disabled.                           <a href=\"file://C:\\Users\\swaga\\miniconda3\\envs\\manim\\lib\\site-packages\\manim\\renderer\\cairo_renderer.py\" target=\"_blank\"><span style=\"color: #7f7f7f; text-decoration-color: #7f7f7f\">cairo_renderer.py</span></a><span style=\"color: #7f7f7f; text-decoration-color: #7f7f7f\">:</span><a href=\"file://C:\\Users\\swaga\\miniconda3\\envs\\manim\\lib\\site-packages\\manim\\renderer\\cairo_renderer.py#65\" target=\"_blank\"><span style=\"color: #7f7f7f; text-decoration-color: #7f7f7f\">65</span></a>\n",
       "</pre>\n"
      ],
      "text/plain": [
       "\u001b[2;36m                   \u001b[0m\u001b[2;36m \u001b[0m\u001b[32mINFO    \u001b[0m Caching disabled.                           \u001b]8;id=25171;file://C:\\Users\\swaga\\miniconda3\\envs\\manim\\lib\\site-packages\\manim\\renderer\\cairo_renderer.py\u001b\\\u001b[2mcairo_renderer.py\u001b[0m\u001b]8;;\u001b\\\u001b[2m:\u001b[0m\u001b]8;id=940179;file://C:\\Users\\swaga\\miniconda3\\envs\\manim\\lib\\site-packages\\manim\\renderer\\cairo_renderer.py#65\u001b\\\u001b[2m65\u001b[0m\u001b]8;;\u001b\\\n"
      ]
     },
     "metadata": {},
     "output_type": "display_data"
    },
    {
     "name": "stderr",
     "output_type": "stream",
     "text": [
      "                                                                                                                       \r"
     ]
    },
    {
     "data": {
      "text/html": [
       "<pre style=\"white-space:pre;overflow-x:auto;line-height:normal;font-family:Menlo,'DejaVu Sans Mono',consolas,'Courier New',monospace\"><span style=\"color: #7fbfbf; text-decoration-color: #7fbfbf\">[06/24/22 16:16:55] </span><span style=\"color: #008000; text-decoration-color: #008000\">INFO    </span> Animation <span style=\"color: #008000; text-decoration-color: #008000\">8</span> : Partial movie file        <a href=\"file://C:\\Users\\swaga\\miniconda3\\envs\\manim\\lib\\site-packages\\manim\\scene\\scene_file_writer.py\" target=\"_blank\"><span style=\"color: #7f7f7f; text-decoration-color: #7f7f7f\">scene_file_writer.py</span></a><span style=\"color: #7f7f7f; text-decoration-color: #7f7f7f\">:</span><a href=\"file://C:\\Users\\swaga\\miniconda3\\envs\\manim\\lib\\site-packages\\manim\\scene\\scene_file_writer.py#504\" target=\"_blank\"><span style=\"color: #7f7f7f; text-decoration-color: #7f7f7f\">504</span></a>\n",
       "<span style=\"color: #7fbfbf; text-decoration-color: #7fbfbf\">                    </span>         written in <span style=\"color: #008000; text-decoration-color: #008000\">'C:\\Users\\swaga\\Documents\\En</span> <span style=\"color: #7f7f7f; text-decoration-color: #7f7f7f\">                        </span>\n",
       "<span style=\"color: #7fbfbf; text-decoration-color: #7fbfbf\">                    </span>         <span style=\"color: #008000; text-decoration-color: #008000\">tangledKittens\\media\\videos\\EntangledKi</span> <span style=\"color: #7f7f7f; text-decoration-color: #7f7f7f\">                        </span>\n",
       "<span style=\"color: #7fbfbf; text-decoration-color: #7fbfbf\">                    </span>         <span style=\"color: #008000; text-decoration-color: #008000\">ttens\\1080p60\\partial_movie_files\\Grove</span> <span style=\"color: #7f7f7f; text-decoration-color: #7f7f7f\">                        </span>\n",
       "<span style=\"color: #7fbfbf; text-decoration-color: #7fbfbf\">                    </span>         <span style=\"color: #008000; text-decoration-color: #008000\">rSAT4\\uncached_00008.mp4'</span>               <span style=\"color: #7f7f7f; text-decoration-color: #7f7f7f\">                        </span>\n",
       "</pre>\n"
      ],
      "text/plain": [
       "\u001b[2;36m[06/24/22 16:16:55]\u001b[0m\u001b[2;36m \u001b[0m\u001b[32mINFO    \u001b[0m Animation \u001b[32m8\u001b[0m : Partial movie file        \u001b]8;id=359129;file://C:\\Users\\swaga\\miniconda3\\envs\\manim\\lib\\site-packages\\manim\\scene\\scene_file_writer.py\u001b\\\u001b[2mscene_file_writer.py\u001b[0m\u001b]8;;\u001b\\\u001b[2m:\u001b[0m\u001b]8;id=519177;file://C:\\Users\\swaga\\miniconda3\\envs\\manim\\lib\\site-packages\\manim\\scene\\scene_file_writer.py#504\u001b\\\u001b[2m504\u001b[0m\u001b]8;;\u001b\\\n",
       "\u001b[2;36m                    \u001b[0m         written in \u001b[32m'C:\\Users\\swaga\\Documents\\En\u001b[0m \u001b[2m                        \u001b[0m\n",
       "\u001b[2;36m                    \u001b[0m         \u001b[32mtangledKittens\\media\\videos\\EntangledKi\u001b[0m \u001b[2m                        \u001b[0m\n",
       "\u001b[2;36m                    \u001b[0m         \u001b[32mttens\\1080p60\\partial_movie_files\\Grove\u001b[0m \u001b[2m                        \u001b[0m\n",
       "\u001b[2;36m                    \u001b[0m         \u001b[32mrSAT4\\uncached_00008.mp4'\u001b[0m               \u001b[2m                        \u001b[0m\n"
      ]
     },
     "metadata": {},
     "output_type": "display_data"
    },
    {
     "data": {
      "text/html": [
       "<pre style=\"white-space:pre;overflow-x:auto;line-height:normal;font-family:Menlo,'DejaVu Sans Mono',consolas,'Courier New',monospace\"><span style=\"color: #7fbfbf; text-decoration-color: #7fbfbf\">                    </span><span style=\"color: #008000; text-decoration-color: #008000\">INFO    </span> Caching disabled.                           <a href=\"file://C:\\Users\\swaga\\miniconda3\\envs\\manim\\lib\\site-packages\\manim\\renderer\\cairo_renderer.py\" target=\"_blank\"><span style=\"color: #7f7f7f; text-decoration-color: #7f7f7f\">cairo_renderer.py</span></a><span style=\"color: #7f7f7f; text-decoration-color: #7f7f7f\">:</span><a href=\"file://C:\\Users\\swaga\\miniconda3\\envs\\manim\\lib\\site-packages\\manim\\renderer\\cairo_renderer.py#65\" target=\"_blank\"><span style=\"color: #7f7f7f; text-decoration-color: #7f7f7f\">65</span></a>\n",
       "</pre>\n"
      ],
      "text/plain": [
       "\u001b[2;36m                   \u001b[0m\u001b[2;36m \u001b[0m\u001b[32mINFO    \u001b[0m Caching disabled.                           \u001b]8;id=835873;file://C:\\Users\\swaga\\miniconda3\\envs\\manim\\lib\\site-packages\\manim\\renderer\\cairo_renderer.py\u001b\\\u001b[2mcairo_renderer.py\u001b[0m\u001b]8;;\u001b\\\u001b[2m:\u001b[0m\u001b]8;id=676941;file://C:\\Users\\swaga\\miniconda3\\envs\\manim\\lib\\site-packages\\manim\\renderer\\cairo_renderer.py#65\u001b\\\u001b[2m65\u001b[0m\u001b]8;;\u001b\\\n"
      ]
     },
     "metadata": {},
     "output_type": "display_data"
    },
    {
     "name": "stderr",
     "output_type": "stream",
     "text": [
      "                                                                                                                       \r"
     ]
    },
    {
     "data": {
      "text/html": [
       "<pre style=\"white-space:pre;overflow-x:auto;line-height:normal;font-family:Menlo,'DejaVu Sans Mono',consolas,'Courier New',monospace\"><span style=\"color: #7fbfbf; text-decoration-color: #7fbfbf\">[06/24/22 16:16:58] </span><span style=\"color: #008000; text-decoration-color: #008000\">INFO    </span> Animation <span style=\"color: #008000; text-decoration-color: #008000\">9</span> : Partial movie file        <a href=\"file://C:\\Users\\swaga\\miniconda3\\envs\\manim\\lib\\site-packages\\manim\\scene\\scene_file_writer.py\" target=\"_blank\"><span style=\"color: #7f7f7f; text-decoration-color: #7f7f7f\">scene_file_writer.py</span></a><span style=\"color: #7f7f7f; text-decoration-color: #7f7f7f\">:</span><a href=\"file://C:\\Users\\swaga\\miniconda3\\envs\\manim\\lib\\site-packages\\manim\\scene\\scene_file_writer.py#504\" target=\"_blank\"><span style=\"color: #7f7f7f; text-decoration-color: #7f7f7f\">504</span></a>\n",
       "<span style=\"color: #7fbfbf; text-decoration-color: #7fbfbf\">                    </span>         written in <span style=\"color: #008000; text-decoration-color: #008000\">'C:\\Users\\swaga\\Documents\\En</span> <span style=\"color: #7f7f7f; text-decoration-color: #7f7f7f\">                        </span>\n",
       "<span style=\"color: #7fbfbf; text-decoration-color: #7fbfbf\">                    </span>         <span style=\"color: #008000; text-decoration-color: #008000\">tangledKittens\\media\\videos\\EntangledKi</span> <span style=\"color: #7f7f7f; text-decoration-color: #7f7f7f\">                        </span>\n",
       "<span style=\"color: #7fbfbf; text-decoration-color: #7fbfbf\">                    </span>         <span style=\"color: #008000; text-decoration-color: #008000\">ttens\\1080p60\\partial_movie_files\\Grove</span> <span style=\"color: #7f7f7f; text-decoration-color: #7f7f7f\">                        </span>\n",
       "<span style=\"color: #7fbfbf; text-decoration-color: #7fbfbf\">                    </span>         <span style=\"color: #008000; text-decoration-color: #008000\">rSAT4\\uncached_00009.mp4'</span>               <span style=\"color: #7f7f7f; text-decoration-color: #7f7f7f\">                        </span>\n",
       "</pre>\n"
      ],
      "text/plain": [
       "\u001b[2;36m[06/24/22 16:16:58]\u001b[0m\u001b[2;36m \u001b[0m\u001b[32mINFO    \u001b[0m Animation \u001b[32m9\u001b[0m : Partial movie file        \u001b]8;id=216365;file://C:\\Users\\swaga\\miniconda3\\envs\\manim\\lib\\site-packages\\manim\\scene\\scene_file_writer.py\u001b\\\u001b[2mscene_file_writer.py\u001b[0m\u001b]8;;\u001b\\\u001b[2m:\u001b[0m\u001b]8;id=803318;file://C:\\Users\\swaga\\miniconda3\\envs\\manim\\lib\\site-packages\\manim\\scene\\scene_file_writer.py#504\u001b\\\u001b[2m504\u001b[0m\u001b]8;;\u001b\\\n",
       "\u001b[2;36m                    \u001b[0m         written in \u001b[32m'C:\\Users\\swaga\\Documents\\En\u001b[0m \u001b[2m                        \u001b[0m\n",
       "\u001b[2;36m                    \u001b[0m         \u001b[32mtangledKittens\\media\\videos\\EntangledKi\u001b[0m \u001b[2m                        \u001b[0m\n",
       "\u001b[2;36m                    \u001b[0m         \u001b[32mttens\\1080p60\\partial_movie_files\\Grove\u001b[0m \u001b[2m                        \u001b[0m\n",
       "\u001b[2;36m                    \u001b[0m         \u001b[32mrSAT4\\uncached_00009.mp4'\u001b[0m               \u001b[2m                        \u001b[0m\n"
      ]
     },
     "metadata": {},
     "output_type": "display_data"
    },
    {
     "data": {
      "text/html": [
       "<pre style=\"white-space:pre;overflow-x:auto;line-height:normal;font-family:Menlo,'DejaVu Sans Mono',consolas,'Courier New',monospace\"><span style=\"color: #7fbfbf; text-decoration-color: #7fbfbf\">                    </span><span style=\"color: #008000; text-decoration-color: #008000\">INFO    </span> Caching disabled.                           <a href=\"file://C:\\Users\\swaga\\miniconda3\\envs\\manim\\lib\\site-packages\\manim\\renderer\\cairo_renderer.py\" target=\"_blank\"><span style=\"color: #7f7f7f; text-decoration-color: #7f7f7f\">cairo_renderer.py</span></a><span style=\"color: #7f7f7f; text-decoration-color: #7f7f7f\">:</span><a href=\"file://C:\\Users\\swaga\\miniconda3\\envs\\manim\\lib\\site-packages\\manim\\renderer\\cairo_renderer.py#65\" target=\"_blank\"><span style=\"color: #7f7f7f; text-decoration-color: #7f7f7f\">65</span></a>\n",
       "</pre>\n"
      ],
      "text/plain": [
       "\u001b[2;36m                   \u001b[0m\u001b[2;36m \u001b[0m\u001b[32mINFO    \u001b[0m Caching disabled.                           \u001b]8;id=906663;file://C:\\Users\\swaga\\miniconda3\\envs\\manim\\lib\\site-packages\\manim\\renderer\\cairo_renderer.py\u001b\\\u001b[2mcairo_renderer.py\u001b[0m\u001b]8;;\u001b\\\u001b[2m:\u001b[0m\u001b]8;id=113814;file://C:\\Users\\swaga\\miniconda3\\envs\\manim\\lib\\site-packages\\manim\\renderer\\cairo_renderer.py#65\u001b\\\u001b[2m65\u001b[0m\u001b]8;;\u001b\\\n"
      ]
     },
     "metadata": {},
     "output_type": "display_data"
    },
    {
     "name": "stderr",
     "output_type": "stream",
     "text": [
      "                                                                                                                       \r"
     ]
    },
    {
     "data": {
      "text/html": [
       "<pre style=\"white-space:pre;overflow-x:auto;line-height:normal;font-family:Menlo,'DejaVu Sans Mono',consolas,'Courier New',monospace\"><span style=\"color: #7fbfbf; text-decoration-color: #7fbfbf\">[06/24/22 16:17:01] </span><span style=\"color: #008000; text-decoration-color: #008000\">INFO    </span> Animation <span style=\"color: #008000; text-decoration-color: #008000\">10</span> : Partial movie file       <a href=\"file://C:\\Users\\swaga\\miniconda3\\envs\\manim\\lib\\site-packages\\manim\\scene\\scene_file_writer.py\" target=\"_blank\"><span style=\"color: #7f7f7f; text-decoration-color: #7f7f7f\">scene_file_writer.py</span></a><span style=\"color: #7f7f7f; text-decoration-color: #7f7f7f\">:</span><a href=\"file://C:\\Users\\swaga\\miniconda3\\envs\\manim\\lib\\site-packages\\manim\\scene\\scene_file_writer.py#504\" target=\"_blank\"><span style=\"color: #7f7f7f; text-decoration-color: #7f7f7f\">504</span></a>\n",
       "<span style=\"color: #7fbfbf; text-decoration-color: #7fbfbf\">                    </span>         written in <span style=\"color: #008000; text-decoration-color: #008000\">'C:\\Users\\swaga\\Documents\\En</span> <span style=\"color: #7f7f7f; text-decoration-color: #7f7f7f\">                        </span>\n",
       "<span style=\"color: #7fbfbf; text-decoration-color: #7fbfbf\">                    </span>         <span style=\"color: #008000; text-decoration-color: #008000\">tangledKittens\\media\\videos\\EntangledKi</span> <span style=\"color: #7f7f7f; text-decoration-color: #7f7f7f\">                        </span>\n",
       "<span style=\"color: #7fbfbf; text-decoration-color: #7fbfbf\">                    </span>         <span style=\"color: #008000; text-decoration-color: #008000\">ttens\\1080p60\\partial_movie_files\\Grove</span> <span style=\"color: #7f7f7f; text-decoration-color: #7f7f7f\">                        </span>\n",
       "<span style=\"color: #7fbfbf; text-decoration-color: #7fbfbf\">                    </span>         <span style=\"color: #008000; text-decoration-color: #008000\">rSAT4\\uncached_00010.mp4'</span>               <span style=\"color: #7f7f7f; text-decoration-color: #7f7f7f\">                        </span>\n",
       "</pre>\n"
      ],
      "text/plain": [
       "\u001b[2;36m[06/24/22 16:17:01]\u001b[0m\u001b[2;36m \u001b[0m\u001b[32mINFO    \u001b[0m Animation \u001b[32m10\u001b[0m : Partial movie file       \u001b]8;id=531793;file://C:\\Users\\swaga\\miniconda3\\envs\\manim\\lib\\site-packages\\manim\\scene\\scene_file_writer.py\u001b\\\u001b[2mscene_file_writer.py\u001b[0m\u001b]8;;\u001b\\\u001b[2m:\u001b[0m\u001b]8;id=862052;file://C:\\Users\\swaga\\miniconda3\\envs\\manim\\lib\\site-packages\\manim\\scene\\scene_file_writer.py#504\u001b\\\u001b[2m504\u001b[0m\u001b]8;;\u001b\\\n",
       "\u001b[2;36m                    \u001b[0m         written in \u001b[32m'C:\\Users\\swaga\\Documents\\En\u001b[0m \u001b[2m                        \u001b[0m\n",
       "\u001b[2;36m                    \u001b[0m         \u001b[32mtangledKittens\\media\\videos\\EntangledKi\u001b[0m \u001b[2m                        \u001b[0m\n",
       "\u001b[2;36m                    \u001b[0m         \u001b[32mttens\\1080p60\\partial_movie_files\\Grove\u001b[0m \u001b[2m                        \u001b[0m\n",
       "\u001b[2;36m                    \u001b[0m         \u001b[32mrSAT4\\uncached_00010.mp4'\u001b[0m               \u001b[2m                        \u001b[0m\n"
      ]
     },
     "metadata": {},
     "output_type": "display_data"
    },
    {
     "data": {
      "text/html": [
       "<pre style=\"white-space:pre;overflow-x:auto;line-height:normal;font-family:Menlo,'DejaVu Sans Mono',consolas,'Courier New',monospace\"><span style=\"color: #7fbfbf; text-decoration-color: #7fbfbf\">                    </span><span style=\"color: #008000; text-decoration-color: #008000\">INFO    </span> Caching disabled.                           <a href=\"file://C:\\Users\\swaga\\miniconda3\\envs\\manim\\lib\\site-packages\\manim\\renderer\\cairo_renderer.py\" target=\"_blank\"><span style=\"color: #7f7f7f; text-decoration-color: #7f7f7f\">cairo_renderer.py</span></a><span style=\"color: #7f7f7f; text-decoration-color: #7f7f7f\">:</span><a href=\"file://C:\\Users\\swaga\\miniconda3\\envs\\manim\\lib\\site-packages\\manim\\renderer\\cairo_renderer.py#65\" target=\"_blank\"><span style=\"color: #7f7f7f; text-decoration-color: #7f7f7f\">65</span></a>\n",
       "</pre>\n"
      ],
      "text/plain": [
       "\u001b[2;36m                   \u001b[0m\u001b[2;36m \u001b[0m\u001b[32mINFO    \u001b[0m Caching disabled.                           \u001b]8;id=541200;file://C:\\Users\\swaga\\miniconda3\\envs\\manim\\lib\\site-packages\\manim\\renderer\\cairo_renderer.py\u001b\\\u001b[2mcairo_renderer.py\u001b[0m\u001b]8;;\u001b\\\u001b[2m:\u001b[0m\u001b]8;id=404681;file://C:\\Users\\swaga\\miniconda3\\envs\\manim\\lib\\site-packages\\manim\\renderer\\cairo_renderer.py#65\u001b\\\u001b[2m65\u001b[0m\u001b]8;;\u001b\\\n"
      ]
     },
     "metadata": {},
     "output_type": "display_data"
    },
    {
     "name": "stderr",
     "output_type": "stream",
     "text": [
      "                                                                                                                       \r"
     ]
    },
    {
     "data": {
      "text/html": [
       "<pre style=\"white-space:pre;overflow-x:auto;line-height:normal;font-family:Menlo,'DejaVu Sans Mono',consolas,'Courier New',monospace\"><span style=\"color: #7fbfbf; text-decoration-color: #7fbfbf\">[06/24/22 16:17:04] </span><span style=\"color: #008000; text-decoration-color: #008000\">INFO    </span> Animation <span style=\"color: #008000; text-decoration-color: #008000\">11</span> : Partial movie file       <a href=\"file://C:\\Users\\swaga\\miniconda3\\envs\\manim\\lib\\site-packages\\manim\\scene\\scene_file_writer.py\" target=\"_blank\"><span style=\"color: #7f7f7f; text-decoration-color: #7f7f7f\">scene_file_writer.py</span></a><span style=\"color: #7f7f7f; text-decoration-color: #7f7f7f\">:</span><a href=\"file://C:\\Users\\swaga\\miniconda3\\envs\\manim\\lib\\site-packages\\manim\\scene\\scene_file_writer.py#504\" target=\"_blank\"><span style=\"color: #7f7f7f; text-decoration-color: #7f7f7f\">504</span></a>\n",
       "<span style=\"color: #7fbfbf; text-decoration-color: #7fbfbf\">                    </span>         written in <span style=\"color: #008000; text-decoration-color: #008000\">'C:\\Users\\swaga\\Documents\\En</span> <span style=\"color: #7f7f7f; text-decoration-color: #7f7f7f\">                        </span>\n",
       "<span style=\"color: #7fbfbf; text-decoration-color: #7fbfbf\">                    </span>         <span style=\"color: #008000; text-decoration-color: #008000\">tangledKittens\\media\\videos\\EntangledKi</span> <span style=\"color: #7f7f7f; text-decoration-color: #7f7f7f\">                        </span>\n",
       "<span style=\"color: #7fbfbf; text-decoration-color: #7fbfbf\">                    </span>         <span style=\"color: #008000; text-decoration-color: #008000\">ttens\\1080p60\\partial_movie_files\\Grove</span> <span style=\"color: #7f7f7f; text-decoration-color: #7f7f7f\">                        </span>\n",
       "<span style=\"color: #7fbfbf; text-decoration-color: #7fbfbf\">                    </span>         <span style=\"color: #008000; text-decoration-color: #008000\">rSAT4\\uncached_00011.mp4'</span>               <span style=\"color: #7f7f7f; text-decoration-color: #7f7f7f\">                        </span>\n",
       "</pre>\n"
      ],
      "text/plain": [
       "\u001b[2;36m[06/24/22 16:17:04]\u001b[0m\u001b[2;36m \u001b[0m\u001b[32mINFO    \u001b[0m Animation \u001b[32m11\u001b[0m : Partial movie file       \u001b]8;id=103800;file://C:\\Users\\swaga\\miniconda3\\envs\\manim\\lib\\site-packages\\manim\\scene\\scene_file_writer.py\u001b\\\u001b[2mscene_file_writer.py\u001b[0m\u001b]8;;\u001b\\\u001b[2m:\u001b[0m\u001b]8;id=549450;file://C:\\Users\\swaga\\miniconda3\\envs\\manim\\lib\\site-packages\\manim\\scene\\scene_file_writer.py#504\u001b\\\u001b[2m504\u001b[0m\u001b]8;;\u001b\\\n",
       "\u001b[2;36m                    \u001b[0m         written in \u001b[32m'C:\\Users\\swaga\\Documents\\En\u001b[0m \u001b[2m                        \u001b[0m\n",
       "\u001b[2;36m                    \u001b[0m         \u001b[32mtangledKittens\\media\\videos\\EntangledKi\u001b[0m \u001b[2m                        \u001b[0m\n",
       "\u001b[2;36m                    \u001b[0m         \u001b[32mttens\\1080p60\\partial_movie_files\\Grove\u001b[0m \u001b[2m                        \u001b[0m\n",
       "\u001b[2;36m                    \u001b[0m         \u001b[32mrSAT4\\uncached_00011.mp4'\u001b[0m               \u001b[2m                        \u001b[0m\n"
      ]
     },
     "metadata": {},
     "output_type": "display_data"
    },
    {
     "data": {
      "text/html": [
       "<pre style=\"white-space:pre;overflow-x:auto;line-height:normal;font-family:Menlo,'DejaVu Sans Mono',consolas,'Courier New',monospace\"><span style=\"color: #7fbfbf; text-decoration-color: #7fbfbf\">                    </span><span style=\"color: #008000; text-decoration-color: #008000\">INFO    </span> Caching disabled.                           <a href=\"file://C:\\Users\\swaga\\miniconda3\\envs\\manim\\lib\\site-packages\\manim\\renderer\\cairo_renderer.py\" target=\"_blank\"><span style=\"color: #7f7f7f; text-decoration-color: #7f7f7f\">cairo_renderer.py</span></a><span style=\"color: #7f7f7f; text-decoration-color: #7f7f7f\">:</span><a href=\"file://C:\\Users\\swaga\\miniconda3\\envs\\manim\\lib\\site-packages\\manim\\renderer\\cairo_renderer.py#65\" target=\"_blank\"><span style=\"color: #7f7f7f; text-decoration-color: #7f7f7f\">65</span></a>\n",
       "</pre>\n"
      ],
      "text/plain": [
       "\u001b[2;36m                   \u001b[0m\u001b[2;36m \u001b[0m\u001b[32mINFO    \u001b[0m Caching disabled.                           \u001b]8;id=156348;file://C:\\Users\\swaga\\miniconda3\\envs\\manim\\lib\\site-packages\\manim\\renderer\\cairo_renderer.py\u001b\\\u001b[2mcairo_renderer.py\u001b[0m\u001b]8;;\u001b\\\u001b[2m:\u001b[0m\u001b]8;id=941470;file://C:\\Users\\swaga\\miniconda3\\envs\\manim\\lib\\site-packages\\manim\\renderer\\cairo_renderer.py#65\u001b\\\u001b[2m65\u001b[0m\u001b]8;;\u001b\\\n"
      ]
     },
     "metadata": {},
     "output_type": "display_data"
    },
    {
     "data": {
      "text/html": [
       "<pre style=\"white-space:pre;overflow-x:auto;line-height:normal;font-family:Menlo,'DejaVu Sans Mono',consolas,'Courier New',monospace\"><span style=\"color: #7fbfbf; text-decoration-color: #7fbfbf\">[06/24/22 16:17:05] </span><span style=\"color: #008000; text-decoration-color: #008000\">INFO    </span> Animation <span style=\"color: #008000; text-decoration-color: #008000\">12</span> : Partial movie file       <a href=\"file://C:\\Users\\swaga\\miniconda3\\envs\\manim\\lib\\site-packages\\manim\\scene\\scene_file_writer.py\" target=\"_blank\"><span style=\"color: #7f7f7f; text-decoration-color: #7f7f7f\">scene_file_writer.py</span></a><span style=\"color: #7f7f7f; text-decoration-color: #7f7f7f\">:</span><a href=\"file://C:\\Users\\swaga\\miniconda3\\envs\\manim\\lib\\site-packages\\manim\\scene\\scene_file_writer.py#504\" target=\"_blank\"><span style=\"color: #7f7f7f; text-decoration-color: #7f7f7f\">504</span></a>\n",
       "<span style=\"color: #7fbfbf; text-decoration-color: #7fbfbf\">                    </span>         written in <span style=\"color: #008000; text-decoration-color: #008000\">'C:\\Users\\swaga\\Documents\\En</span> <span style=\"color: #7f7f7f; text-decoration-color: #7f7f7f\">                        </span>\n",
       "<span style=\"color: #7fbfbf; text-decoration-color: #7fbfbf\">                    </span>         <span style=\"color: #008000; text-decoration-color: #008000\">tangledKittens\\media\\videos\\EntangledKi</span> <span style=\"color: #7f7f7f; text-decoration-color: #7f7f7f\">                        </span>\n",
       "<span style=\"color: #7fbfbf; text-decoration-color: #7fbfbf\">                    </span>         <span style=\"color: #008000; text-decoration-color: #008000\">ttens\\1080p60\\partial_movie_files\\Grove</span> <span style=\"color: #7f7f7f; text-decoration-color: #7f7f7f\">                        </span>\n",
       "<span style=\"color: #7fbfbf; text-decoration-color: #7fbfbf\">                    </span>         <span style=\"color: #008000; text-decoration-color: #008000\">rSAT4\\uncached_00012.mp4'</span>               <span style=\"color: #7f7f7f; text-decoration-color: #7f7f7f\">                        </span>\n",
       "</pre>\n"
      ],
      "text/plain": [
       "\u001b[2;36m[06/24/22 16:17:05]\u001b[0m\u001b[2;36m \u001b[0m\u001b[32mINFO    \u001b[0m Animation \u001b[32m12\u001b[0m : Partial movie file       \u001b]8;id=192995;file://C:\\Users\\swaga\\miniconda3\\envs\\manim\\lib\\site-packages\\manim\\scene\\scene_file_writer.py\u001b\\\u001b[2mscene_file_writer.py\u001b[0m\u001b]8;;\u001b\\\u001b[2m:\u001b[0m\u001b]8;id=660485;file://C:\\Users\\swaga\\miniconda3\\envs\\manim\\lib\\site-packages\\manim\\scene\\scene_file_writer.py#504\u001b\\\u001b[2m504\u001b[0m\u001b]8;;\u001b\\\n",
       "\u001b[2;36m                    \u001b[0m         written in \u001b[32m'C:\\Users\\swaga\\Documents\\En\u001b[0m \u001b[2m                        \u001b[0m\n",
       "\u001b[2;36m                    \u001b[0m         \u001b[32mtangledKittens\\media\\videos\\EntangledKi\u001b[0m \u001b[2m                        \u001b[0m\n",
       "\u001b[2;36m                    \u001b[0m         \u001b[32mttens\\1080p60\\partial_movie_files\\Grove\u001b[0m \u001b[2m                        \u001b[0m\n",
       "\u001b[2;36m                    \u001b[0m         \u001b[32mrSAT4\\uncached_00012.mp4'\u001b[0m               \u001b[2m                        \u001b[0m\n"
      ]
     },
     "metadata": {},
     "output_type": "display_data"
    },
    {
     "data": {
      "text/html": [
       "<pre style=\"white-space:pre;overflow-x:auto;line-height:normal;font-family:Menlo,'DejaVu Sans Mono',consolas,'Courier New',monospace\"><span style=\"color: #7fbfbf; text-decoration-color: #7fbfbf\">                    </span><span style=\"color: #008000; text-decoration-color: #008000\">INFO    </span> Combining to Movie file.                <a href=\"file://C:\\Users\\swaga\\miniconda3\\envs\\manim\\lib\\site-packages\\manim\\scene\\scene_file_writer.py\" target=\"_blank\"><span style=\"color: #7f7f7f; text-decoration-color: #7f7f7f\">scene_file_writer.py</span></a><span style=\"color: #7f7f7f; text-decoration-color: #7f7f7f\">:</span><a href=\"file://C:\\Users\\swaga\\miniconda3\\envs\\manim\\lib\\site-packages\\manim\\scene\\scene_file_writer.py#597\" target=\"_blank\"><span style=\"color: #7f7f7f; text-decoration-color: #7f7f7f\">597</span></a>\n",
       "</pre>\n"
      ],
      "text/plain": [
       "\u001b[2;36m                   \u001b[0m\u001b[2;36m \u001b[0m\u001b[32mINFO    \u001b[0m Combining to Movie file.                \u001b]8;id=71738;file://C:\\Users\\swaga\\miniconda3\\envs\\manim\\lib\\site-packages\\manim\\scene\\scene_file_writer.py\u001b\\\u001b[2mscene_file_writer.py\u001b[0m\u001b]8;;\u001b\\\u001b[2m:\u001b[0m\u001b]8;id=333930;file://C:\\Users\\swaga\\miniconda3\\envs\\manim\\lib\\site-packages\\manim\\scene\\scene_file_writer.py#597\u001b\\\u001b[2m597\u001b[0m\u001b]8;;\u001b\\\n"
      ]
     },
     "metadata": {},
     "output_type": "display_data"
    },
    {
     "data": {
      "text/html": [
       "<pre style=\"white-space:pre;overflow-x:auto;line-height:normal;font-family:Menlo,'DejaVu Sans Mono',consolas,'Courier New',monospace\"><span style=\"color: #7fbfbf; text-decoration-color: #7fbfbf\">[06/24/22 16:17:06] </span><span style=\"color: #008000; text-decoration-color: #008000\">INFO    </span>                                         <a href=\"file://C:\\Users\\swaga\\miniconda3\\envs\\manim\\lib\\site-packages\\manim\\scene\\scene_file_writer.py\" target=\"_blank\"><span style=\"color: #7f7f7f; text-decoration-color: #7f7f7f\">scene_file_writer.py</span></a><span style=\"color: #7f7f7f; text-decoration-color: #7f7f7f\">:</span><a href=\"file://C:\\Users\\swaga\\miniconda3\\envs\\manim\\lib\\site-packages\\manim\\scene\\scene_file_writer.py#718\" target=\"_blank\"><span style=\"color: #7f7f7f; text-decoration-color: #7f7f7f\">718</span></a>\n",
       "<span style=\"color: #7fbfbf; text-decoration-color: #7fbfbf\">                    </span>         <span style=\"color: #808000; text-decoration-color: #808000; font-weight: bold\">File</span> ready at <span style=\"color: #008000; text-decoration-color: #008000\">'C:\\Users\\swaga\\Documents</span> <span style=\"color: #7f7f7f; text-decoration-color: #7f7f7f\">                        </span>\n",
       "<span style=\"color: #7fbfbf; text-decoration-color: #7fbfbf\">                    </span>         <span style=\"color: #008000; text-decoration-color: #008000\">\\EntangledKittens\\media\\videos\\Entangle</span> <span style=\"color: #7f7f7f; text-decoration-color: #7f7f7f\">                        </span>\n",
       "<span style=\"color: #7fbfbf; text-decoration-color: #7fbfbf\">                    </span>         <span style=\"color: #008000; text-decoration-color: #008000\">dKittens\\1080p60\\GroverSAT4.mp4'</span>        <span style=\"color: #7f7f7f; text-decoration-color: #7f7f7f\">                        </span>\n",
       "<span style=\"color: #7fbfbf; text-decoration-color: #7fbfbf\">                    </span>                                                 <span style=\"color: #7f7f7f; text-decoration-color: #7f7f7f\">                        </span>\n",
       "</pre>\n"
      ],
      "text/plain": [
       "\u001b[2;36m[06/24/22 16:17:06]\u001b[0m\u001b[2;36m \u001b[0m\u001b[32mINFO    \u001b[0m                                         \u001b]8;id=673628;file://C:\\Users\\swaga\\miniconda3\\envs\\manim\\lib\\site-packages\\manim\\scene\\scene_file_writer.py\u001b\\\u001b[2mscene_file_writer.py\u001b[0m\u001b]8;;\u001b\\\u001b[2m:\u001b[0m\u001b]8;id=746817;file://C:\\Users\\swaga\\miniconda3\\envs\\manim\\lib\\site-packages\\manim\\scene\\scene_file_writer.py#718\u001b\\\u001b[2m718\u001b[0m\u001b]8;;\u001b\\\n",
       "\u001b[2;36m                    \u001b[0m         \u001b[1;33mFile\u001b[0m ready at \u001b[32m'C:\\Users\\swaga\\Documents\u001b[0m \u001b[2m                        \u001b[0m\n",
       "\u001b[2;36m                    \u001b[0m         \u001b[32m\\EntangledKittens\\media\\videos\\Entangle\u001b[0m \u001b[2m                        \u001b[0m\n",
       "\u001b[2;36m                    \u001b[0m         \u001b[32mdKittens\\1080p60\\GroverSAT4.mp4'\u001b[0m        \u001b[2m                        \u001b[0m\n",
       "\u001b[2;36m                    \u001b[0m                                                 \u001b[2m                        \u001b[0m\n"
      ]
     },
     "metadata": {},
     "output_type": "display_data"
    },
    {
     "data": {
      "text/html": [
       "<pre style=\"white-space:pre;overflow-x:auto;line-height:normal;font-family:Menlo,'DejaVu Sans Mono',consolas,'Courier New',monospace\"><span style=\"color: #7fbfbf; text-decoration-color: #7fbfbf\">                    </span><span style=\"color: #008000; text-decoration-color: #008000\">INFO    </span> <span style=\"color: #808000; text-decoration-color: #808000; font-weight: bold\">Rendered</span> GroverSAT4                                 <a href=\"file://C:\\Users\\swaga\\miniconda3\\envs\\manim\\lib\\site-packages\\manim\\scene\\scene.py\" target=\"_blank\"><span style=\"color: #7f7f7f; text-decoration-color: #7f7f7f\">scene.py</span></a><span style=\"color: #7f7f7f; text-decoration-color: #7f7f7f\">:</span><a href=\"file://C:\\Users\\swaga\\miniconda3\\envs\\manim\\lib\\site-packages\\manim\\scene\\scene.py#240\" target=\"_blank\"><span style=\"color: #7f7f7f; text-decoration-color: #7f7f7f\">240</span></a>\n",
       "<span style=\"color: #7fbfbf; text-decoration-color: #7fbfbf\">                    </span>         <span style=\"color: #808000; text-decoration-color: #808000; font-weight: bold\">Played</span> <span style=\"color: #008000; text-decoration-color: #008000\">13</span> <span style=\"color: #808000; text-decoration-color: #808000; font-weight: bold\">animations</span>                                <span style=\"color: #7f7f7f; text-decoration-color: #7f7f7f\">            </span>\n",
       "</pre>\n"
      ],
      "text/plain": [
       "\u001b[2;36m                   \u001b[0m\u001b[2;36m \u001b[0m\u001b[32mINFO    \u001b[0m \u001b[1;33mRendered\u001b[0m GroverSAT4                                 \u001b]8;id=128432;file://C:\\Users\\swaga\\miniconda3\\envs\\manim\\lib\\site-packages\\manim\\scene\\scene.py\u001b\\\u001b[2mscene.py\u001b[0m\u001b]8;;\u001b\\\u001b[2m:\u001b[0m\u001b]8;id=715266;file://C:\\Users\\swaga\\miniconda3\\envs\\manim\\lib\\site-packages\\manim\\scene\\scene.py#240\u001b\\\u001b[2m240\u001b[0m\u001b]8;;\u001b\\\n",
       "\u001b[2;36m                    \u001b[0m         \u001b[1;33mPlayed\u001b[0m \u001b[32m13\u001b[0m \u001b[1;33manimations\u001b[0m                                \u001b[2m            \u001b[0m\n"
      ]
     },
     "metadata": {},
     "output_type": "display_data"
    },
    {
     "data": {
      "text/html": [
       "<video src=\"media\\jupyter\\GroverSAT4@2022-06-24@16-17-06.mp4\" controls autoplay loop style=\"max-width: 60%;\"  >\n",
       "      Your browser does not support the <code>video</code> element.\n",
       "    </video>"
      ],
      "text/plain": [
       "<IPython.core.display.Video object>"
      ]
     },
     "metadata": {},
     "output_type": "display_data"
    }
   ],
   "source": [
    "%%manim --disable_caching GroverSAT4\n",
    "\n",
    "class GroverSAT4(Scene):\n",
    "    def construct(self):\n",
    "        myTemplate = TexTemplate()\n",
    "        myTemplate.add_to_preamble(r'\\usepackage{amsmath}')\n",
    "        myTemplate.add_to_preamble(r'\\usepackage{amssymb}')\n",
    "        myTemplate.add_to_preamble(r'\\usepackage{braket}')\n",
    "        \n",
    "        # Start state\n",
    "        amps = np.array([0.5, 0.5, 0.5, 0.5])\n",
    "        mean = np.mean(amps)\n",
    "        \n",
    "        # Constructing the graph's skeleton\n",
    "        self.x_scale = 1\n",
    "        self.y_scale = 2\n",
    "        \n",
    "        x_len = 4.5*self.x_scale\n",
    "        y_len = 1.25*self.y_scale\n",
    "        \n",
    "        x_axis = Line([0,0,0],[x_len,0,0])\n",
    "        y_axis = Line([0,-y_len,0],[0,y_len,0])\n",
    "        axes = VGroup(x_axis,y_axis)\n",
    "        \n",
    "        TICK_LEN = 0.2\n",
    "        ticks = VGroup(\n",
    "            Line([0,self.y_scale,0],[-TICK_LEN,self.y_scale,0]), \n",
    "            Line([0,-self.y_scale,0],[-TICK_LEN,-self.y_scale,0]),\n",
    "            Line([0,0,0],[-TICK_LEN,0,0])\n",
    "        )\n",
    "        y_lab_size = 36\n",
    "        y_labels = VGroup(\n",
    "            Tex('1.00', font_size=y_lab_size).next_to(ticks[0],LEFT), \n",
    "            Tex('-1.00',font_size=y_lab_size).next_to(ticks[1],LEFT),\n",
    "            Tex('0.00', font_size=y_lab_size).next_to(ticks[2],LEFT) \n",
    "        )\n",
    "        y_name = Tex('Amplitudes', font_size=30).rotate(np.pi/2).next_to(y_labels, LEFT)\n",
    "        \n",
    "        x_points = Group(*[ Point(location=[self.x_scale * i, 0, 0]) for i in range(1,5) ])\n",
    "        x_lab_size = 24\n",
    "        x_labels = VGroup(\n",
    "            MathTex(r'\\ket{00}', font_size=x_lab_size, tex_template=myTemplate).move_to([x_points[0].get_center()[0], y_len+0.5, 0]),\n",
    "            MathTex(r'\\ket{01}', font_size=x_lab_size, tex_template=myTemplate).move_to([x_points[1].get_center()[0], y_len+0.5, 0]),\n",
    "            MathTex(r'\\ket{10}', font_size=x_lab_size, tex_template=myTemplate).move_to([x_points[2].get_center()[0], y_len+0.5, 0]),\n",
    "            MathTex(r'\\ket{11}', font_size=x_lab_size, tex_template=myTemplate).move_to([x_points[3].get_center()[0], y_len+0.5, 0]),\n",
    "        )\n",
    "        x_name = Tex('Basis States', font_size=22).next_to(x_labels, 1.5*LEFT)\n",
    "        \n",
    "        probs = VGroup(*[\n",
    "            DecimalNumber().set_value(amps[i]**2).scale(0.5).next_to(x_labels[i], 1.5*UP) for i in range(4)\n",
    "        ])\n",
    "        prob_label = Tex('Measurement\\n\\nProbabilities', font_size=22).next_to(probs, 1.5*LEFT)\n",
    "        \n",
    "        # Group the graph skeleton and move it to the center of the screen\n",
    "        graph_group = Group(axes, ticks, y_labels, x_points, x_labels,x_name, y_name, probs, prob_label)\n",
    "        graph_group.move_to([0,0,0])\n",
    "        \n",
    "        # Draw the graph\n",
    "        self.play(Create(axes), Create(ticks), Write(y_labels), Write(y_name),lag_ratio=0.0)\n",
    "        \n",
    "        # Amplitude Bars\n",
    "        amp_bars = VGroup(*[\n",
    "            Line(x_points[i].get_center(), x_points[i].get_center() + self.y_scale*amps[i]*UP, stroke_width=10) for i in range(4)\n",
    "        ])\n",
    "        mean_line = DashedLine([y_axis.get_center()[0], self.y_scale*mean + x_axis.get_center()[1], 0], [y_axis.get_center()[0]+x_len, self.y_scale*mean + x_axis.get_center()[1], 0], \n",
    "                               dash_length=x_len/16, dashed_ratio=0.8, color='yellow', stroke_width=2, )\n",
    "        mean_number = DecimalNumber().set_value(np.mean(amps)).set_color(YELLOW).scale(0.5)\n",
    "        mean_number.add_updater(lambda number: number.next_to(mean_line, LEFT))\n",
    "        mean_number.add_updater(lambda number: number.set_value( (mean_line.get_center()[1] - x_axis.get_center()[1])/self.y_scale ))\n",
    "        mean_label = Tex('Mean Amplitude', font_size=24).set_color(YELLOW).next_to(mean_line, RIGHT)\n",
    "        mean_label.add_updater(lambda label: label.next_to(mean_line, RIGHT))\n",
    "        \n",
    "        self.play(Write(x_name), Write(x_labels), lag_ratio=0.0)\n",
    "        self.play(Create(amp_bars), lag_ratio=0.0)\n",
    "        self.play(Write(probs), Write(prob_label), lag_ratio=0.0)\n",
    "        self.play(Create(mean_line), Write(mean_number), Write(mean_label), lag_ratio=0.0)\n",
    "        self.play(*[\n",
    "            ReplacementTransform(x_labels[i], MathTex('\\ket{{{:02b}}}\\ket{{{:01b}}}'.format(i, int(i==3)), font_size=x_lab_size, tex_template=myTemplate).move_to(x_points[i].get_center() + np.array([0,y_len+0.5, 0]) ) )\n",
    "            for i in range(4)\n",
    "        ])\n",
    "        def get_mean_transition(amps, target, val):\n",
    "            b = amps.copy()\n",
    "            b[target] = val\n",
    "            return np.mean(b)\n",
    "\n",
    "        def flip_target(target):\n",
    "            amp = amps[target]\n",
    "            p1 = Dot().move_to(x_points[target].get_center())#.set_color(rgba_to_color())\n",
    "            p2 = Dot(radius=0.05).move_to(p1).shift(amp*self.y_scale*UP).set_color(RED)\n",
    "            arrow = Line(p1.get_center(), p2.get_center(), buff=0).set_color(RED)\n",
    "            \n",
    "            theta = ValueTracker(0)\n",
    "            \n",
    "            p2.add_updater(lambda p: p.set_y(p1.get_y() + amp * self.y_scale * np.cos(theta.get_value())))\n",
    "            arrow.add_updater(lambda l: l.become(Line (p1.get_center(), p2.get_center(), buff=0).set_color(RED) ))\n",
    "            \n",
    "            mean_line.add_updater(lambda l:\n",
    "                                 l.become(DashedLine(\n",
    "                                     [y_axis.get_center()[0], \n",
    "                                      self.y_scale*get_mean_transition(amps, target, amp*np.cos(theta.get_value())) + x_axis.get_center()[1], \n",
    "                                      0], \n",
    "                                     [y_axis.get_center()[0]+x_len, \n",
    "                                      self.y_scale*get_mean_transition(amps, target, amp*np.cos(theta.get_value())) + x_axis.get_center()[1], \n",
    "                                      0], \n",
    "                                     dash_length=x_len/16, dashed_ratio=0.8, color='yellow', stroke_width=2\n",
    "                                 )))\n",
    "            \n",
    "            self.play(FadeOut(amp_bars[target]), Create(arrow), Create(p2))\n",
    "            self.play(theta.animate.increment_value(np.pi), rate_func=linear, run_time=1)\n",
    "            p2.clear_updaters()\n",
    "            arrow.clear_updaters()\n",
    "            \n",
    "            amps[target] = -amp\n",
    "            amp_bars[target].become(Line(x_points[target].get_center(), x_points[target].get_center() + self.y_scale*amps[target]*UP, stroke_width=10))\n",
    "            self.play(FadeOut(arrow), FadeOut(p2), Create(amp_bars[target]))\n",
    "            \n",
    "            mean_line.clear_updaters()\n",
    "            global mean\n",
    "            mean = np.mean(amps)\n",
    "        \n",
    "        def flip_about_mean(amps):\n",
    "            global mean\n",
    "            p1 = [Dot().move_to(x_points[i].get_center() + mean*self.y_scale*UP) for i in range(4)]\n",
    "            p2 = [Dot(radius=0.05).move_to(p1[i]).shift((amps[i] - mean)*self.y_scale*UP).set_color(RED) for i in range(4)]\n",
    "            arrows = [Line(p1[i].get_center(), p2[i].get_center(), buff=0).set_color(RED) for i in range(4)]\n",
    "            \n",
    "            theta = ValueTracker(0)\n",
    "            for i in range(4):\n",
    "                p2[i].add_updater(lambda p, i=i: p.set_y(p1[i].get_y() + (amps[i]-mean) * self.y_scale * np.cos(theta.get_value())))\n",
    "                arrows[i].add_updater(lambda l, i=i: l.become(Line (p1[i].get_center(), p2[i].get_center(), buff=0).set_color(RED) ))\n",
    "                        \n",
    "            self.play(FadeOut(amp_bars), *[Create(arrow) for arrow in arrows], *[Create(p) for p in p2])\n",
    "            self.play(theta.animate.increment_value(np.pi),\n",
    "                      *[probs[i].animate.set_value((2*mean - amps[i])**2) for i in range(4)],\n",
    "                      rate_func=linear, run_time=1)\n",
    "            for i in range(4):\n",
    "                p2[i].clear_updaters()\n",
    "                arrows[i].clear_updaters()\n",
    "            # calculate new mean and amplitudes\n",
    "            amps *= -1\n",
    "            amps += 2*mean\n",
    "            mean = np.mean(amps)\n",
    "            for i in range(4):\n",
    "                amp_bars[i].become(Line(x_points[i].get_center(), p2[i].get_center(), stroke_width=10))\n",
    "            \n",
    "            self.play(*[FadeOut(arrow) for arrow in arrows], \n",
    "                      *[FadeOut(p) for p in p2], \n",
    "                      *[Create(amp_bar) for amp_bar in amp_bars],\n",
    "                      mean_line.animate.move_to(x_axis.get_center() + self.y_scale*mean*UP),\n",
    "                     )\n",
    "            return amps\n",
    "        \n",
    "        flip_target(3)\n",
    "        amps = flip_about_mean(amps)\n",
    "        \n",
    "        self.wait(1)\n",
    "        "
   ]
  },
  {
   "cell_type": "markdown",
   "id": "8da2b906",
   "metadata": {},
   "source": [
    "# Testing Image Mobjects to see if I can animate sprites"
   ]
  },
  {
   "cell_type": "code",
   "execution_count": 49,
   "id": "5bc1b922",
   "metadata": {},
   "outputs": [
    {
     "data": {
      "text/html": [
       "<pre style=\"white-space:pre;overflow-x:auto;line-height:normal;font-family:Menlo,'DejaVu Sans Mono',consolas,'Courier New',monospace\"><span style=\"color: #7fbfbf; text-decoration-color: #7fbfbf\">[06/24/22 17:27:31] </span><span style=\"color: #008000; text-decoration-color: #008000\">INFO    </span> Caching disabled.                           <a href=\"file://C:\\Users\\swaga\\miniconda3\\envs\\manim\\lib\\site-packages\\manim\\renderer\\cairo_renderer.py\" target=\"_blank\"><span style=\"color: #7f7f7f; text-decoration-color: #7f7f7f\">cairo_renderer.py</span></a><span style=\"color: #7f7f7f; text-decoration-color: #7f7f7f\">:</span><a href=\"file://C:\\Users\\swaga\\miniconda3\\envs\\manim\\lib\\site-packages\\manim\\renderer\\cairo_renderer.py#65\" target=\"_blank\"><span style=\"color: #7f7f7f; text-decoration-color: #7f7f7f\">65</span></a>\n",
       "</pre>\n"
      ],
      "text/plain": [
       "\u001b[2;36m[06/24/22 17:27:31]\u001b[0m\u001b[2;36m \u001b[0m\u001b[32mINFO    \u001b[0m Caching disabled.                           \u001b]8;id=964150;file://C:\\Users\\swaga\\miniconda3\\envs\\manim\\lib\\site-packages\\manim\\renderer\\cairo_renderer.py\u001b\\\u001b[2mcairo_renderer.py\u001b[0m\u001b]8;;\u001b\\\u001b[2m:\u001b[0m\u001b]8;id=312347;file://C:\\Users\\swaga\\miniconda3\\envs\\manim\\lib\\site-packages\\manim\\renderer\\cairo_renderer.py#65\u001b\\\u001b[2m65\u001b[0m\u001b]8;;\u001b\\\n"
      ]
     },
     "metadata": {},
     "output_type": "display_data"
    },
    {
     "name": "stderr",
     "output_type": "stream",
     "text": [
      "                                                                                                                       \r"
     ]
    },
    {
     "data": {
      "text/html": [
       "<pre style=\"white-space:pre;overflow-x:auto;line-height:normal;font-family:Menlo,'DejaVu Sans Mono',consolas,'Courier New',monospace\"><span style=\"color: #7fbfbf; text-decoration-color: #7fbfbf\">[06/24/22 17:27:44] </span><span style=\"color: #008000; text-decoration-color: #008000\">INFO    </span> Animation <span style=\"color: #008000; text-decoration-color: #008000\">0</span> : Partial movie file        <a href=\"file://C:\\Users\\swaga\\miniconda3\\envs\\manim\\lib\\site-packages\\manim\\scene\\scene_file_writer.py\" target=\"_blank\"><span style=\"color: #7f7f7f; text-decoration-color: #7f7f7f\">scene_file_writer.py</span></a><span style=\"color: #7f7f7f; text-decoration-color: #7f7f7f\">:</span><a href=\"file://C:\\Users\\swaga\\miniconda3\\envs\\manim\\lib\\site-packages\\manim\\scene\\scene_file_writer.py#504\" target=\"_blank\"><span style=\"color: #7f7f7f; text-decoration-color: #7f7f7f\">504</span></a>\n",
       "<span style=\"color: #7fbfbf; text-decoration-color: #7fbfbf\">                    </span>         written in <span style=\"color: #008000; text-decoration-color: #008000\">'C:\\Users\\swaga\\Documents\\En</span> <span style=\"color: #7f7f7f; text-decoration-color: #7f7f7f\">                        </span>\n",
       "<span style=\"color: #7fbfbf; text-decoration-color: #7fbfbf\">                    </span>         <span style=\"color: #008000; text-decoration-color: #008000\">tangledKittens\\media\\videos\\EntangledKi</span> <span style=\"color: #7f7f7f; text-decoration-color: #7f7f7f\">                        </span>\n",
       "<span style=\"color: #7fbfbf; text-decoration-color: #7fbfbf\">                    </span>         <span style=\"color: #008000; text-decoration-color: #008000\">ttens\\1080p60\\partial_movie_files\\Image</span> <span style=\"color: #7f7f7f; text-decoration-color: #7f7f7f\">                        </span>\n",
       "<span style=\"color: #7fbfbf; text-decoration-color: #7fbfbf\">                    </span>         <span style=\"color: #008000; text-decoration-color: #008000\">Test\\uncached_00000.mp4'</span>                <span style=\"color: #7f7f7f; text-decoration-color: #7f7f7f\">                        </span>\n",
       "</pre>\n"
      ],
      "text/plain": [
       "\u001b[2;36m[06/24/22 17:27:44]\u001b[0m\u001b[2;36m \u001b[0m\u001b[32mINFO    \u001b[0m Animation \u001b[32m0\u001b[0m : Partial movie file        \u001b]8;id=586128;file://C:\\Users\\swaga\\miniconda3\\envs\\manim\\lib\\site-packages\\manim\\scene\\scene_file_writer.py\u001b\\\u001b[2mscene_file_writer.py\u001b[0m\u001b]8;;\u001b\\\u001b[2m:\u001b[0m\u001b]8;id=937154;file://C:\\Users\\swaga\\miniconda3\\envs\\manim\\lib\\site-packages\\manim\\scene\\scene_file_writer.py#504\u001b\\\u001b[2m504\u001b[0m\u001b]8;;\u001b\\\n",
       "\u001b[2;36m                    \u001b[0m         written in \u001b[32m'C:\\Users\\swaga\\Documents\\En\u001b[0m \u001b[2m                        \u001b[0m\n",
       "\u001b[2;36m                    \u001b[0m         \u001b[32mtangledKittens\\media\\videos\\EntangledKi\u001b[0m \u001b[2m                        \u001b[0m\n",
       "\u001b[2;36m                    \u001b[0m         \u001b[32mttens\\1080p60\\partial_movie_files\\Image\u001b[0m \u001b[2m                        \u001b[0m\n",
       "\u001b[2;36m                    \u001b[0m         \u001b[32mTest\\uncached_00000.mp4'\u001b[0m                \u001b[2m                        \u001b[0m\n"
      ]
     },
     "metadata": {},
     "output_type": "display_data"
    },
    {
     "data": {
      "text/html": [
       "<pre style=\"white-space:pre;overflow-x:auto;line-height:normal;font-family:Menlo,'DejaVu Sans Mono',consolas,'Courier New',monospace\"><span style=\"color: #7fbfbf; text-decoration-color: #7fbfbf\">                    </span><span style=\"color: #008000; text-decoration-color: #008000\">INFO    </span> Combining to Movie file.                <a href=\"file://C:\\Users\\swaga\\miniconda3\\envs\\manim\\lib\\site-packages\\manim\\scene\\scene_file_writer.py\" target=\"_blank\"><span style=\"color: #7f7f7f; text-decoration-color: #7f7f7f\">scene_file_writer.py</span></a><span style=\"color: #7f7f7f; text-decoration-color: #7f7f7f\">:</span><a href=\"file://C:\\Users\\swaga\\miniconda3\\envs\\manim\\lib\\site-packages\\manim\\scene\\scene_file_writer.py#597\" target=\"_blank\"><span style=\"color: #7f7f7f; text-decoration-color: #7f7f7f\">597</span></a>\n",
       "</pre>\n"
      ],
      "text/plain": [
       "\u001b[2;36m                   \u001b[0m\u001b[2;36m \u001b[0m\u001b[32mINFO    \u001b[0m Combining to Movie file.                \u001b]8;id=806569;file://C:\\Users\\swaga\\miniconda3\\envs\\manim\\lib\\site-packages\\manim\\scene\\scene_file_writer.py\u001b\\\u001b[2mscene_file_writer.py\u001b[0m\u001b]8;;\u001b\\\u001b[2m:\u001b[0m\u001b]8;id=539830;file://C:\\Users\\swaga\\miniconda3\\envs\\manim\\lib\\site-packages\\manim\\scene\\scene_file_writer.py#597\u001b\\\u001b[2m597\u001b[0m\u001b]8;;\u001b\\\n"
      ]
     },
     "metadata": {},
     "output_type": "display_data"
    },
    {
     "data": {
      "text/html": [
       "<pre style=\"white-space:pre;overflow-x:auto;line-height:normal;font-family:Menlo,'DejaVu Sans Mono',consolas,'Courier New',monospace\"><span style=\"color: #7fbfbf; text-decoration-color: #7fbfbf\">                    </span><span style=\"color: #008000; text-decoration-color: #008000\">INFO    </span>                                         <a href=\"file://C:\\Users\\swaga\\miniconda3\\envs\\manim\\lib\\site-packages\\manim\\scene\\scene_file_writer.py\" target=\"_blank\"><span style=\"color: #7f7f7f; text-decoration-color: #7f7f7f\">scene_file_writer.py</span></a><span style=\"color: #7f7f7f; text-decoration-color: #7f7f7f\">:</span><a href=\"file://C:\\Users\\swaga\\miniconda3\\envs\\manim\\lib\\site-packages\\manim\\scene\\scene_file_writer.py#718\" target=\"_blank\"><span style=\"color: #7f7f7f; text-decoration-color: #7f7f7f\">718</span></a>\n",
       "<span style=\"color: #7fbfbf; text-decoration-color: #7fbfbf\">                    </span>         <span style=\"color: #808000; text-decoration-color: #808000; font-weight: bold\">File</span> ready at <span style=\"color: #008000; text-decoration-color: #008000\">'C:\\Users\\swaga\\Documents</span> <span style=\"color: #7f7f7f; text-decoration-color: #7f7f7f\">                        </span>\n",
       "<span style=\"color: #7fbfbf; text-decoration-color: #7fbfbf\">                    </span>         <span style=\"color: #008000; text-decoration-color: #008000\">\\EntangledKittens\\media\\videos\\Entangle</span> <span style=\"color: #7f7f7f; text-decoration-color: #7f7f7f\">                        </span>\n",
       "<span style=\"color: #7fbfbf; text-decoration-color: #7fbfbf\">                    </span>         <span style=\"color: #008000; text-decoration-color: #008000\">dKittens\\1080p60\\ImageTest.mp4'</span>         <span style=\"color: #7f7f7f; text-decoration-color: #7f7f7f\">                        </span>\n",
       "<span style=\"color: #7fbfbf; text-decoration-color: #7fbfbf\">                    </span>                                                 <span style=\"color: #7f7f7f; text-decoration-color: #7f7f7f\">                        </span>\n",
       "</pre>\n"
      ],
      "text/plain": [
       "\u001b[2;36m                   \u001b[0m\u001b[2;36m \u001b[0m\u001b[32mINFO    \u001b[0m                                         \u001b]8;id=223133;file://C:\\Users\\swaga\\miniconda3\\envs\\manim\\lib\\site-packages\\manim\\scene\\scene_file_writer.py\u001b\\\u001b[2mscene_file_writer.py\u001b[0m\u001b]8;;\u001b\\\u001b[2m:\u001b[0m\u001b]8;id=522835;file://C:\\Users\\swaga\\miniconda3\\envs\\manim\\lib\\site-packages\\manim\\scene\\scene_file_writer.py#718\u001b\\\u001b[2m718\u001b[0m\u001b]8;;\u001b\\\n",
       "\u001b[2;36m                    \u001b[0m         \u001b[1;33mFile\u001b[0m ready at \u001b[32m'C:\\Users\\swaga\\Documents\u001b[0m \u001b[2m                        \u001b[0m\n",
       "\u001b[2;36m                    \u001b[0m         \u001b[32m\\EntangledKittens\\media\\videos\\Entangle\u001b[0m \u001b[2m                        \u001b[0m\n",
       "\u001b[2;36m                    \u001b[0m         \u001b[32mdKittens\\1080p60\\ImageTest.mp4'\u001b[0m         \u001b[2m                        \u001b[0m\n",
       "\u001b[2;36m                    \u001b[0m                                                 \u001b[2m                        \u001b[0m\n"
      ]
     },
     "metadata": {},
     "output_type": "display_data"
    },
    {
     "data": {
      "text/html": [
       "<pre style=\"white-space:pre;overflow-x:auto;line-height:normal;font-family:Menlo,'DejaVu Sans Mono',consolas,'Courier New',monospace\"><span style=\"color: #7fbfbf; text-decoration-color: #7fbfbf\">                    </span><span style=\"color: #008000; text-decoration-color: #008000\">INFO    </span> <span style=\"color: #808000; text-decoration-color: #808000; font-weight: bold\">Rendered</span> ImageTest                                  <a href=\"file://C:\\Users\\swaga\\miniconda3\\envs\\manim\\lib\\site-packages\\manim\\scene\\scene.py\" target=\"_blank\"><span style=\"color: #7f7f7f; text-decoration-color: #7f7f7f\">scene.py</span></a><span style=\"color: #7f7f7f; text-decoration-color: #7f7f7f\">:</span><a href=\"file://C:\\Users\\swaga\\miniconda3\\envs\\manim\\lib\\site-packages\\manim\\scene\\scene.py#240\" target=\"_blank\"><span style=\"color: #7f7f7f; text-decoration-color: #7f7f7f\">240</span></a>\n",
       "<span style=\"color: #7fbfbf; text-decoration-color: #7fbfbf\">                    </span>         <span style=\"color: #808000; text-decoration-color: #808000; font-weight: bold\">Played</span> <span style=\"color: #008000; text-decoration-color: #008000\">1</span> <span style=\"color: #808000; text-decoration-color: #808000; font-weight: bold\">animations</span>                                 <span style=\"color: #7f7f7f; text-decoration-color: #7f7f7f\">            </span>\n",
       "</pre>\n"
      ],
      "text/plain": [
       "\u001b[2;36m                   \u001b[0m\u001b[2;36m \u001b[0m\u001b[32mINFO    \u001b[0m \u001b[1;33mRendered\u001b[0m ImageTest                                  \u001b]8;id=929234;file://C:\\Users\\swaga\\miniconda3\\envs\\manim\\lib\\site-packages\\manim\\scene\\scene.py\u001b\\\u001b[2mscene.py\u001b[0m\u001b]8;;\u001b\\\u001b[2m:\u001b[0m\u001b]8;id=283698;file://C:\\Users\\swaga\\miniconda3\\envs\\manim\\lib\\site-packages\\manim\\scene\\scene.py#240\u001b\\\u001b[2m240\u001b[0m\u001b]8;;\u001b\\\n",
       "\u001b[2;36m                    \u001b[0m         \u001b[1;33mPlayed\u001b[0m \u001b[32m1\u001b[0m \u001b[1;33manimations\u001b[0m                                 \u001b[2m            \u001b[0m\n"
      ]
     },
     "metadata": {},
     "output_type": "display_data"
    },
    {
     "data": {
      "text/html": [
       "<video src=\"media\\jupyter\\ImageTest@2022-06-24@17-27-44.mp4\" controls autoplay loop style=\"max-width: 60%;\"  >\n",
       "      Your browser does not support the <code>video</code> element.\n",
       "    </video>"
      ],
      "text/plain": [
       "<IPython.core.display.Video object>"
      ]
     },
     "metadata": {},
     "output_type": "display_data"
    }
   ],
   "source": [
    "%%manim --disable_caching ImageTest\n",
    "\n",
    "class ImageTest(Scene):\n",
    "    def construct(self):\n",
    "        image_paths = ['./images/01.png', './images/02.png']\n",
    "        images = [None] * len(image_paths)\n",
    "        for i in range(len(image_paths)):\n",
    "            images[i] = ImageMobject(image_paths[i])\n",
    "            images[i].set_resampling_algorithm(RESAMPLING_ALGORITHMS['nearest'])\n",
    "            images[i].scale(10)\n",
    "        \n",
    "        sprite = images[0].copy()\n",
    "        \n",
    "        x = DecimalNumber().set_value(sprite.get_center()[0]).next_to(sprite, UP)\n",
    "        y = DecimalNumber().set_value(sprite.get_center()[1]).next_to(x, RIGHT)\n",
    "        \n",
    "        x.add_updater( lambda x: x.set_value(sprite.get_center()[0]) )\n",
    "        y.add_updater( lambda y: y.set_value(sprite.get_center()[1]) )\n",
    "        \n",
    "        self.FRAME_RATE = 10\n",
    "        self.clock = 0\n",
    "        def update_clock(mob, dt):\n",
    "            self.clock += dt\n",
    "            mob.set_value(self.clock * self.FRAME_RATE)\n",
    "        \n",
    "        dot = Dot().move_to(sprite.get_center())\n",
    "        dot.add_updater(lambda d: d.move_to([np.cos(0.5*np.pi*self.clock), np.sin(0.5*np.pi*self.clock), 0]))\n",
    "        \n",
    "        frame = Integer().set_value(0).next_to(x, 2*UP)\n",
    "        frame.add_updater(update_clock)\n",
    "        frame.update()\n",
    "        c = DecimalNumber().set_value(0).next_to(frame, UP)\n",
    "        c.add_updater(lambda c: c.set_value(self.clock))\n",
    "        sprite.add_updater(lambda s: s.become(images[frame.get_value() % len(images)]))\n",
    "        sprite.add_updater(lambda s: s.move_to(dot.get_center()))\n",
    "        \n",
    "        arrow = Arrow(ORIGIN, sprite.get_center(), buff=0).set_color(YELLOW)\n",
    "        arrow.add_updater(lambda a: a.become(Arrow(ORIGIN, sprite.get_center(), buff=0)).set_color(YELLOW))\n",
    "        \n",
    "        \n",
    "#         self.add(*images)\n",
    "        self.add(sprite, frame, dot, c, arrow)\n",
    "#         self.play(sprite.animate.move_to([2, 0, 0]))\n",
    "#         sprite.update()\n",
    "        self.wait(3)\n",
    "        "
   ]
  },
  {
   "cell_type": "markdown",
   "id": "527c0e45",
   "metadata": {},
   "source": [
    "## Sprite Controller\n",
    "Now that I know that I can do sprite animations, I'm going to make a controller for Mario and Luigi that handles their movement and animations.\n",
    "\n",
    "**Sprites:**\n",
    "* Idle - velocity = 0, duck flag = False\n",
    "* Running - horizontal velocity != 0 and vertical velocity = 0\n",
    "* Jumping - vertical velocity > 0\n",
    "* Falling - vertical velocity < 0\n",
    "* Ducking - velocity = 0, duck flag = True\n",
    "\n",
    "**Variables:**\n",
    "* Direction - Left/Right to see which direction the sprite should face\n",
    "* Position\n",
    "* Velocity\n",
    "* Acceleration\n",
    "* Duck flag\n",
    "* Image Directory (so it's made general for Mario and Luigi)\n",
    "* Boundaries - Boundaries of the box to ensure that the character doesn't leave the screen"
   ]
  },
  {
   "cell_type": "code",
   "execution_count": 2,
   "id": "14546c66",
   "metadata": {},
   "outputs": [],
   "source": [
    "RUN_FRAMERATE = 10\n",
    "class Sprite_Controller:\n",
    "    def __init__(self, img_path, bounds, sprite, v, j, g, scale):\n",
    "        self.v = v # Walking speed\n",
    "        self.j = j # Jumping speed\n",
    "        self.g = g # Gravitational acceleration\n",
    "#         self.scale = scale\n",
    "        \n",
    "        self.pos = sprite.get_center()[0:2]\n",
    "        self.vel = np.zeros(2)\n",
    "        self.acc = np.zeros(2)\n",
    "        \n",
    "        self.h = sprite.get_top()[1] - sprite.get_bottom()[1]\n",
    "        self.w = sprite.get_right()[0] - sprite.get_left()[0]\n",
    "        \n",
    "        self.direction = 1 # +1 for right, -1 for left\n",
    "        self.duck = False \n",
    "        self.running = False\n",
    "        \n",
    "        self.img_path = img_path\n",
    "        \n",
    "        # Left facing frames\n",
    "        self.idle_frame_l = ImageMobject(img_path+'idle.png')\n",
    "        self.run_frames_l = [ImageMobject(img_path+'walk-{}.png'.format(i+1)) for i in range(3) ]\n",
    "        self.jump_frame_l = ImageMobject(img_path+'jump.png')\n",
    "        self.fall_frame_l = ImageMobject(img_path+'fall.png')\n",
    "        self.duck_frame_l = ImageMobject(img_path+'duck.png')\n",
    "        \n",
    "        self.idle_frame_l.set_resampling_algorithm(RESAMPLING_ALGORITHMS['nearest'])\n",
    "        self.jump_frame_l.set_resampling_algorithm(RESAMPLING_ALGORITHMS['nearest'])\n",
    "        self.fall_frame_l.set_resampling_algorithm(RESAMPLING_ALGORITHMS['nearest'])\n",
    "        self.duck_frame_l.set_resampling_algorithm(RESAMPLING_ALGORITHMS['nearest'])\n",
    "        for i in range(3):\n",
    "            self.run_frames_l[i].set_resampling_algorithm(RESAMPLING_ALGORITHMS['nearest'])\n",
    "        \n",
    "        self.idle_frame_l.scale(scale)\n",
    "        self.jump_frame_l.scale(scale)\n",
    "        self.fall_frame_l.scale(scale)\n",
    "        self.duck_frame_l.scale(scale)\n",
    "        for i in range(3):\n",
    "            self.run_frames_l[i].scale(scale)\n",
    "        \n",
    "        # Right facing frames\n",
    "        self.idle_frame_r = ImageMobject(img_path+'idle-r.png')\n",
    "        self.run_frames_r = [ImageMobject(img_path+'walk-{}-r.png'.format(i+1)) for i in range(3) ]\n",
    "        self.jump_frame_r = ImageMobject(img_path+'jump-r.png')\n",
    "        self.fall_frame_r = ImageMobject(img_path+'fall-r.png')\n",
    "        self.duck_frame_r = ImageMobject(img_path+'duck-r.png')\n",
    "        \n",
    "        self.idle_frame_r.set_resampling_algorithm(RESAMPLING_ALGORITHMS['nearest'])\n",
    "        self.jump_frame_r.set_resampling_algorithm(RESAMPLING_ALGORITHMS['nearest'])\n",
    "        self.fall_frame_r.set_resampling_algorithm(RESAMPLING_ALGORITHMS['nearest'])\n",
    "        self.duck_frame_r.set_resampling_algorithm(RESAMPLING_ALGORITHMS['nearest'])\n",
    "        for i in range(3):\n",
    "            self.run_frames_r[i].set_resampling_algorithm(RESAMPLING_ALGORITHMS['nearest'])\n",
    "        \n",
    "        self.idle_frame_r.scale(scale)\n",
    "        self.jump_frame_r.scale(scale)\n",
    "        self.fall_frame_r.scale(scale)\n",
    "        self.duck_frame_r.scale(scale)\n",
    "        for i in range(3):\n",
    "            self.run_frames_r[i].scale(scale)\n",
    "        \n",
    "        \n",
    "        self.bounds = bounds # 4 vec [LEFT, RIGHT, DOWN, UP]\n",
    "        \n",
    "        self.last_frame = 0\n",
    "        self.current_frame = 0\n",
    "        self.running_frame = 0\n",
    "        \n",
    "    def update(self, sprite: Mobject, dt: float, clock: float) -> float:\n",
    "        self.last_frame = int(clock * RUN_FRAMERATE) % 4\n",
    "        clock += dt\n",
    "        self.current_frame = int(clock * RUN_FRAMERATE) % 4\n",
    "        # Integrate to get new position and velocity\n",
    "        new_pos = self.pos + self.vel*dt\n",
    "        new_vel = self.vel + self.acc*dt\n",
    "        \n",
    "        \n",
    "        # Update x position and velocity\n",
    "        if new_pos[0] - self.w/2 <= self.bounds[0]:\n",
    "            self.pos[0] = self.bounds[0] + self.w/2 + 1e-5\n",
    "            self.vel[0] = 0.0\n",
    "        elif new_pos[0] + self.w/2 >= self.bounds[1]:\n",
    "            self.pos[0] = self.bounds[1] - self.w/2 - 1e-5\n",
    "            self.vel[0] = 0.0\n",
    "        else:\n",
    "            self.pos[0] = new_pos[0]\n",
    "            self.vel[0] = new_vel[0]\n",
    "        \n",
    "        # Update y position and velocity\n",
    "        if new_pos[1] - self.h/2 <= self.bounds[2]:\n",
    "            self.pos[1] = self.bounds[2] + self.h/2\n",
    "            if self.vel[1] < 0.0:\n",
    "                self.vel[1] = 0.0\n",
    "                self.acc[1] = 0.0\n",
    "        elif new_pos[1] + self.h/2 >= self.bounds[3]:\n",
    "            self.pos[1] = self.bounds[3] - self.h/2 - 1e-5\n",
    "            if self.vel[1] > 0:\n",
    "                self.vel[1] = 0.0\n",
    "        else:\n",
    "            self.pos[1] = new_pos[1]\n",
    "            self.vel[1] = new_vel[1]\n",
    "            self.acc[1] = -self.g\n",
    "        \n",
    "        # determine the sprite\n",
    "        if self.direction < 0:\n",
    "            if self.vel[1] == 0.0:\n",
    "                if not self.running:\n",
    "                    if not self.duck:\n",
    "                        sprite.become(self.idle_frame_l)\n",
    "                    else:\n",
    "                        sprite.become(self.duck_frame_l)\n",
    "                else:\n",
    "                    if self.current_frame != self.last_frame:\n",
    "                        self.running_frame = (self.running_frame + 1) % 4\n",
    "                    if self.running_frame == 3:\n",
    "                        sprite.become(self.run_frames_l[1])\n",
    "                    else:\n",
    "                        sprite.become(self.run_frames_l[self.running_frame])\n",
    "            else:\n",
    "                if self.vel[1] > 0.0:\n",
    "                    sprite.become(self.jump_frame_l)\n",
    "                else:\n",
    "                    sprite.become(self.fall_frame_l)\n",
    "        else:\n",
    "            if self.vel[1] == 0.0:\n",
    "                if not self.running:\n",
    "                    if not self.duck:\n",
    "                        sprite.become(self.idle_frame_r)\n",
    "                    else:\n",
    "                        sprite.become(self.duck_frame_r)\n",
    "                else:\n",
    "                    if self.current_frame != self.last_frame:\n",
    "                        self.running_frame = (self.running_frame + 1) % 4\n",
    "                    if self.running_frame == 3:\n",
    "                        sprite.become(self.run_frames_r[1])\n",
    "                    else:\n",
    "                        sprite.become(self.run_frames_r[self.running_frame])\n",
    "            else:\n",
    "                if self.vel[1] > 0.0:\n",
    "                    sprite.become(self.jump_frame_r)\n",
    "                else:\n",
    "                    sprite.become(self.fall_frame_r)\n",
    "        \n",
    "        # update the sprite's position\n",
    "        sprite.move_to([self.pos[0], self.pos[1], 0.0])\n",
    "        return clock\n",
    "    \n",
    "    def move_left(self):\n",
    "        self.vel[0] = -self.v\n",
    "        self.running = True\n",
    "        self.direction = -1\n",
    "    def move_right(self):\n",
    "        self.vel[0] = self.v\n",
    "        self.running = True\n",
    "        self.direction = 1\n",
    "    def jump(self):\n",
    "        if self.pos[1] == self.bounds[2] + self.h/2:\n",
    "            self.vel[1] = self.j\n",
    "    def stop(self):\n",
    "        self.vel[0] = 0.0\n",
    "        self.running = False\n",
    "    def duck_(self):\n",
    "        self.stop()\n",
    "        self.duck = True\n",
    "        self.run_frame = 0\n",
    "    def flip(self):\n",
    "        self.direction *= -1\n",
    "        self.vel[0] *= -1"
   ]
  },
  {
   "cell_type": "code",
   "execution_count": 3,
   "id": "e8ef5410",
   "metadata": {},
   "outputs": [
    {
     "data": {
      "text/html": [
       "<pre style=\"white-space:pre;overflow-x:auto;line-height:normal;font-family:Menlo,'DejaVu Sans Mono',consolas,'Courier New',monospace\"><span style=\"color: #7fbfbf; text-decoration-color: #7fbfbf\">[06/25/22 20:25:36] </span><span style=\"color: #008000; text-decoration-color: #008000\">INFO    </span> Caching disabled.                           <a href=\"file://C:\\Users\\swaga\\miniconda3\\lib\\site-packages\\manim\\renderer\\cairo_renderer.py\" target=\"_blank\"><span style=\"color: #7f7f7f; text-decoration-color: #7f7f7f\">cairo_renderer.py</span></a><span style=\"color: #7f7f7f; text-decoration-color: #7f7f7f\">:</span><a href=\"file://C:\\Users\\swaga\\miniconda3\\lib\\site-packages\\manim\\renderer\\cairo_renderer.py#65\" target=\"_blank\"><span style=\"color: #7f7f7f; text-decoration-color: #7f7f7f\">65</span></a>\n",
       "</pre>\n"
      ],
      "text/plain": [
       "\u001b[2;36m[06/25/22 20:25:36]\u001b[0m\u001b[2;36m \u001b[0m\u001b[32mINFO    \u001b[0m Caching disabled.                           \u001b]8;id=536020;file://C:\\Users\\swaga\\miniconda3\\lib\\site-packages\\manim\\renderer\\cairo_renderer.py\u001b\\\u001b[2mcairo_renderer.py\u001b[0m\u001b]8;;\u001b\\\u001b[2m:\u001b[0m\u001b]8;id=700547;file://C:\\Users\\swaga\\miniconda3\\lib\\site-packages\\manim\\renderer\\cairo_renderer.py#65\u001b\\\u001b[2m65\u001b[0m\u001b]8;;\u001b\\\n"
      ]
     },
     "metadata": {},
     "output_type": "display_data"
    },
    {
     "name": "stderr",
     "output_type": "stream",
     "text": [
      "                                                                                                                       \r"
     ]
    },
    {
     "data": {
      "text/html": [
       "<pre style=\"white-space:pre;overflow-x:auto;line-height:normal;font-family:Menlo,'DejaVu Sans Mono',consolas,'Courier New',monospace\"><span style=\"color: #7fbfbf; text-decoration-color: #7fbfbf\">[06/25/22 20:25:48] </span><span style=\"color: #008000; text-decoration-color: #008000\">INFO    </span> Animation <span style=\"color: #008000; text-decoration-color: #008000\">0</span> : Partial movie file        <a href=\"file://C:\\Users\\swaga\\miniconda3\\lib\\site-packages\\manim\\scene\\scene_file_writer.py\" target=\"_blank\"><span style=\"color: #7f7f7f; text-decoration-color: #7f7f7f\">scene_file_writer.py</span></a><span style=\"color: #7f7f7f; text-decoration-color: #7f7f7f\">:</span><a href=\"file://C:\\Users\\swaga\\miniconda3\\lib\\site-packages\\manim\\scene\\scene_file_writer.py#504\" target=\"_blank\"><span style=\"color: #7f7f7f; text-decoration-color: #7f7f7f\">504</span></a>\n",
       "<span style=\"color: #7fbfbf; text-decoration-color: #7fbfbf\">                    </span>         written in <span style=\"color: #008000; text-decoration-color: #008000\">'C:\\Users\\swaga\\Documents\\En</span> <span style=\"color: #7f7f7f; text-decoration-color: #7f7f7f\">                        </span>\n",
       "<span style=\"color: #7fbfbf; text-decoration-color: #7fbfbf\">                    </span>         <span style=\"color: #008000; text-decoration-color: #008000\">tangledKittens\\media\\videos\\EntangledKi</span> <span style=\"color: #7f7f7f; text-decoration-color: #7f7f7f\">                        </span>\n",
       "<span style=\"color: #7fbfbf; text-decoration-color: #7fbfbf\">                    </span>         <span style=\"color: #008000; text-decoration-color: #008000\">ttens\\1080p60\\partial_movie_files\\TestC</span> <span style=\"color: #7f7f7f; text-decoration-color: #7f7f7f\">                        </span>\n",
       "<span style=\"color: #7fbfbf; text-decoration-color: #7fbfbf\">                    </span>         <span style=\"color: #008000; text-decoration-color: #008000\">ontroller\\uncached_00000.mp4'</span>           <span style=\"color: #7f7f7f; text-decoration-color: #7f7f7f\">                        </span>\n",
       "</pre>\n"
      ],
      "text/plain": [
       "\u001b[2;36m[06/25/22 20:25:48]\u001b[0m\u001b[2;36m \u001b[0m\u001b[32mINFO    \u001b[0m Animation \u001b[32m0\u001b[0m : Partial movie file        \u001b]8;id=592184;file://C:\\Users\\swaga\\miniconda3\\lib\\site-packages\\manim\\scene\\scene_file_writer.py\u001b\\\u001b[2mscene_file_writer.py\u001b[0m\u001b]8;;\u001b\\\u001b[2m:\u001b[0m\u001b]8;id=905809;file://C:\\Users\\swaga\\miniconda3\\lib\\site-packages\\manim\\scene\\scene_file_writer.py#504\u001b\\\u001b[2m504\u001b[0m\u001b]8;;\u001b\\\n",
       "\u001b[2;36m                    \u001b[0m         written in \u001b[32m'C:\\Users\\swaga\\Documents\\En\u001b[0m \u001b[2m                        \u001b[0m\n",
       "\u001b[2;36m                    \u001b[0m         \u001b[32mtangledKittens\\media\\videos\\EntangledKi\u001b[0m \u001b[2m                        \u001b[0m\n",
       "\u001b[2;36m                    \u001b[0m         \u001b[32mttens\\1080p60\\partial_movie_files\\TestC\u001b[0m \u001b[2m                        \u001b[0m\n",
       "\u001b[2;36m                    \u001b[0m         \u001b[32montroller\\uncached_00000.mp4'\u001b[0m           \u001b[2m                        \u001b[0m\n"
      ]
     },
     "metadata": {},
     "output_type": "display_data"
    },
    {
     "data": {
      "text/html": [
       "<pre style=\"white-space:pre;overflow-x:auto;line-height:normal;font-family:Menlo,'DejaVu Sans Mono',consolas,'Courier New',monospace\"><span style=\"color: #7fbfbf; text-decoration-color: #7fbfbf\">                    </span><span style=\"color: #008000; text-decoration-color: #008000\">INFO    </span> Caching disabled.                           <a href=\"file://C:\\Users\\swaga\\miniconda3\\lib\\site-packages\\manim\\renderer\\cairo_renderer.py\" target=\"_blank\"><span style=\"color: #7f7f7f; text-decoration-color: #7f7f7f\">cairo_renderer.py</span></a><span style=\"color: #7f7f7f; text-decoration-color: #7f7f7f\">:</span><a href=\"file://C:\\Users\\swaga\\miniconda3\\lib\\site-packages\\manim\\renderer\\cairo_renderer.py#65\" target=\"_blank\"><span style=\"color: #7f7f7f; text-decoration-color: #7f7f7f\">65</span></a>\n",
       "</pre>\n"
      ],
      "text/plain": [
       "\u001b[2;36m                   \u001b[0m\u001b[2;36m \u001b[0m\u001b[32mINFO    \u001b[0m Caching disabled.                           \u001b]8;id=445290;file://C:\\Users\\swaga\\miniconda3\\lib\\site-packages\\manim\\renderer\\cairo_renderer.py\u001b\\\u001b[2mcairo_renderer.py\u001b[0m\u001b]8;;\u001b\\\u001b[2m:\u001b[0m\u001b]8;id=81320;file://C:\\Users\\swaga\\miniconda3\\lib\\site-packages\\manim\\renderer\\cairo_renderer.py#65\u001b\\\u001b[2m65\u001b[0m\u001b]8;;\u001b\\\n"
      ]
     },
     "metadata": {},
     "output_type": "display_data"
    },
    {
     "name": "stderr",
     "output_type": "stream",
     "text": [
      "                                                                                                                       \r"
     ]
    },
    {
     "data": {
      "text/html": [
       "<pre style=\"white-space:pre;overflow-x:auto;line-height:normal;font-family:Menlo,'DejaVu Sans Mono',consolas,'Courier New',monospace\"><span style=\"color: #7fbfbf; text-decoration-color: #7fbfbf\">[06/25/22 20:26:04] </span><span style=\"color: #008000; text-decoration-color: #008000\">INFO    </span> Animation <span style=\"color: #008000; text-decoration-color: #008000\">1</span> : Partial movie file        <a href=\"file://C:\\Users\\swaga\\miniconda3\\lib\\site-packages\\manim\\scene\\scene_file_writer.py\" target=\"_blank\"><span style=\"color: #7f7f7f; text-decoration-color: #7f7f7f\">scene_file_writer.py</span></a><span style=\"color: #7f7f7f; text-decoration-color: #7f7f7f\">:</span><a href=\"file://C:\\Users\\swaga\\miniconda3\\lib\\site-packages\\manim\\scene\\scene_file_writer.py#504\" target=\"_blank\"><span style=\"color: #7f7f7f; text-decoration-color: #7f7f7f\">504</span></a>\n",
       "<span style=\"color: #7fbfbf; text-decoration-color: #7fbfbf\">                    </span>         written in <span style=\"color: #008000; text-decoration-color: #008000\">'C:\\Users\\swaga\\Documents\\En</span> <span style=\"color: #7f7f7f; text-decoration-color: #7f7f7f\">                        </span>\n",
       "<span style=\"color: #7fbfbf; text-decoration-color: #7fbfbf\">                    </span>         <span style=\"color: #008000; text-decoration-color: #008000\">tangledKittens\\media\\videos\\EntangledKi</span> <span style=\"color: #7f7f7f; text-decoration-color: #7f7f7f\">                        </span>\n",
       "<span style=\"color: #7fbfbf; text-decoration-color: #7fbfbf\">                    </span>         <span style=\"color: #008000; text-decoration-color: #008000\">ttens\\1080p60\\partial_movie_files\\TestC</span> <span style=\"color: #7f7f7f; text-decoration-color: #7f7f7f\">                        </span>\n",
       "<span style=\"color: #7fbfbf; text-decoration-color: #7fbfbf\">                    </span>         <span style=\"color: #008000; text-decoration-color: #008000\">ontroller\\uncached_00001.mp4'</span>           <span style=\"color: #7f7f7f; text-decoration-color: #7f7f7f\">                        </span>\n",
       "</pre>\n"
      ],
      "text/plain": [
       "\u001b[2;36m[06/25/22 20:26:04]\u001b[0m\u001b[2;36m \u001b[0m\u001b[32mINFO    \u001b[0m Animation \u001b[32m1\u001b[0m : Partial movie file        \u001b]8;id=995457;file://C:\\Users\\swaga\\miniconda3\\lib\\site-packages\\manim\\scene\\scene_file_writer.py\u001b\\\u001b[2mscene_file_writer.py\u001b[0m\u001b]8;;\u001b\\\u001b[2m:\u001b[0m\u001b]8;id=550609;file://C:\\Users\\swaga\\miniconda3\\lib\\site-packages\\manim\\scene\\scene_file_writer.py#504\u001b\\\u001b[2m504\u001b[0m\u001b]8;;\u001b\\\n",
       "\u001b[2;36m                    \u001b[0m         written in \u001b[32m'C:\\Users\\swaga\\Documents\\En\u001b[0m \u001b[2m                        \u001b[0m\n",
       "\u001b[2;36m                    \u001b[0m         \u001b[32mtangledKittens\\media\\videos\\EntangledKi\u001b[0m \u001b[2m                        \u001b[0m\n",
       "\u001b[2;36m                    \u001b[0m         \u001b[32mttens\\1080p60\\partial_movie_files\\TestC\u001b[0m \u001b[2m                        \u001b[0m\n",
       "\u001b[2;36m                    \u001b[0m         \u001b[32montroller\\uncached_00001.mp4'\u001b[0m           \u001b[2m                        \u001b[0m\n"
      ]
     },
     "metadata": {},
     "output_type": "display_data"
    },
    {
     "data": {
      "text/html": [
       "<pre style=\"white-space:pre;overflow-x:auto;line-height:normal;font-family:Menlo,'DejaVu Sans Mono',consolas,'Courier New',monospace\"><span style=\"color: #7fbfbf; text-decoration-color: #7fbfbf\">                    </span><span style=\"color: #008000; text-decoration-color: #008000\">INFO    </span> Caching disabled.                           <a href=\"file://C:\\Users\\swaga\\miniconda3\\lib\\site-packages\\manim\\renderer\\cairo_renderer.py\" target=\"_blank\"><span style=\"color: #7f7f7f; text-decoration-color: #7f7f7f\">cairo_renderer.py</span></a><span style=\"color: #7f7f7f; text-decoration-color: #7f7f7f\">:</span><a href=\"file://C:\\Users\\swaga\\miniconda3\\lib\\site-packages\\manim\\renderer\\cairo_renderer.py#65\" target=\"_blank\"><span style=\"color: #7f7f7f; text-decoration-color: #7f7f7f\">65</span></a>\n",
       "</pre>\n"
      ],
      "text/plain": [
       "\u001b[2;36m                   \u001b[0m\u001b[2;36m \u001b[0m\u001b[32mINFO    \u001b[0m Caching disabled.                           \u001b]8;id=449318;file://C:\\Users\\swaga\\miniconda3\\lib\\site-packages\\manim\\renderer\\cairo_renderer.py\u001b\\\u001b[2mcairo_renderer.py\u001b[0m\u001b]8;;\u001b\\\u001b[2m:\u001b[0m\u001b]8;id=469185;file://C:\\Users\\swaga\\miniconda3\\lib\\site-packages\\manim\\renderer\\cairo_renderer.py#65\u001b\\\u001b[2m65\u001b[0m\u001b]8;;\u001b\\\n"
      ]
     },
     "metadata": {},
     "output_type": "display_data"
    },
    {
     "name": "stderr",
     "output_type": "stream",
     "text": [
      "                                                                                                                       \r"
     ]
    },
    {
     "data": {
      "text/html": [
       "<pre style=\"white-space:pre;overflow-x:auto;line-height:normal;font-family:Menlo,'DejaVu Sans Mono',consolas,'Courier New',monospace\"><span style=\"color: #7fbfbf; text-decoration-color: #7fbfbf\">[06/25/22 20:26:11] </span><span style=\"color: #008000; text-decoration-color: #008000\">INFO    </span> Animation <span style=\"color: #008000; text-decoration-color: #008000\">2</span> : Partial movie file        <a href=\"file://C:\\Users\\swaga\\miniconda3\\lib\\site-packages\\manim\\scene\\scene_file_writer.py\" target=\"_blank\"><span style=\"color: #7f7f7f; text-decoration-color: #7f7f7f\">scene_file_writer.py</span></a><span style=\"color: #7f7f7f; text-decoration-color: #7f7f7f\">:</span><a href=\"file://C:\\Users\\swaga\\miniconda3\\lib\\site-packages\\manim\\scene\\scene_file_writer.py#504\" target=\"_blank\"><span style=\"color: #7f7f7f; text-decoration-color: #7f7f7f\">504</span></a>\n",
       "<span style=\"color: #7fbfbf; text-decoration-color: #7fbfbf\">                    </span>         written in <span style=\"color: #008000; text-decoration-color: #008000\">'C:\\Users\\swaga\\Documents\\En</span> <span style=\"color: #7f7f7f; text-decoration-color: #7f7f7f\">                        </span>\n",
       "<span style=\"color: #7fbfbf; text-decoration-color: #7fbfbf\">                    </span>         <span style=\"color: #008000; text-decoration-color: #008000\">tangledKittens\\media\\videos\\EntangledKi</span> <span style=\"color: #7f7f7f; text-decoration-color: #7f7f7f\">                        </span>\n",
       "<span style=\"color: #7fbfbf; text-decoration-color: #7fbfbf\">                    </span>         <span style=\"color: #008000; text-decoration-color: #008000\">ttens\\1080p60\\partial_movie_files\\TestC</span> <span style=\"color: #7f7f7f; text-decoration-color: #7f7f7f\">                        </span>\n",
       "<span style=\"color: #7fbfbf; text-decoration-color: #7fbfbf\">                    </span>         <span style=\"color: #008000; text-decoration-color: #008000\">ontroller\\uncached_00002.mp4'</span>           <span style=\"color: #7f7f7f; text-decoration-color: #7f7f7f\">                        </span>\n",
       "</pre>\n"
      ],
      "text/plain": [
       "\u001b[2;36m[06/25/22 20:26:11]\u001b[0m\u001b[2;36m \u001b[0m\u001b[32mINFO    \u001b[0m Animation \u001b[32m2\u001b[0m : Partial movie file        \u001b]8;id=875370;file://C:\\Users\\swaga\\miniconda3\\lib\\site-packages\\manim\\scene\\scene_file_writer.py\u001b\\\u001b[2mscene_file_writer.py\u001b[0m\u001b]8;;\u001b\\\u001b[2m:\u001b[0m\u001b]8;id=264196;file://C:\\Users\\swaga\\miniconda3\\lib\\site-packages\\manim\\scene\\scene_file_writer.py#504\u001b\\\u001b[2m504\u001b[0m\u001b]8;;\u001b\\\n",
       "\u001b[2;36m                    \u001b[0m         written in \u001b[32m'C:\\Users\\swaga\\Documents\\En\u001b[0m \u001b[2m                        \u001b[0m\n",
       "\u001b[2;36m                    \u001b[0m         \u001b[32mtangledKittens\\media\\videos\\EntangledKi\u001b[0m \u001b[2m                        \u001b[0m\n",
       "\u001b[2;36m                    \u001b[0m         \u001b[32mttens\\1080p60\\partial_movie_files\\TestC\u001b[0m \u001b[2m                        \u001b[0m\n",
       "\u001b[2;36m                    \u001b[0m         \u001b[32montroller\\uncached_00002.mp4'\u001b[0m           \u001b[2m                        \u001b[0m\n"
      ]
     },
     "metadata": {},
     "output_type": "display_data"
    },
    {
     "data": {
      "text/html": [
       "<pre style=\"white-space:pre;overflow-x:auto;line-height:normal;font-family:Menlo,'DejaVu Sans Mono',consolas,'Courier New',monospace\"><span style=\"color: #7fbfbf; text-decoration-color: #7fbfbf\">                    </span><span style=\"color: #008000; text-decoration-color: #008000\">INFO    </span> Caching disabled.                           <a href=\"file://C:\\Users\\swaga\\miniconda3\\lib\\site-packages\\manim\\renderer\\cairo_renderer.py\" target=\"_blank\"><span style=\"color: #7f7f7f; text-decoration-color: #7f7f7f\">cairo_renderer.py</span></a><span style=\"color: #7f7f7f; text-decoration-color: #7f7f7f\">:</span><a href=\"file://C:\\Users\\swaga\\miniconda3\\lib\\site-packages\\manim\\renderer\\cairo_renderer.py#65\" target=\"_blank\"><span style=\"color: #7f7f7f; text-decoration-color: #7f7f7f\">65</span></a>\n",
       "</pre>\n"
      ],
      "text/plain": [
       "\u001b[2;36m                   \u001b[0m\u001b[2;36m \u001b[0m\u001b[32mINFO    \u001b[0m Caching disabled.                           \u001b]8;id=520901;file://C:\\Users\\swaga\\miniconda3\\lib\\site-packages\\manim\\renderer\\cairo_renderer.py\u001b\\\u001b[2mcairo_renderer.py\u001b[0m\u001b]8;;\u001b\\\u001b[2m:\u001b[0m\u001b]8;id=312308;file://C:\\Users\\swaga\\miniconda3\\lib\\site-packages\\manim\\renderer\\cairo_renderer.py#65\u001b\\\u001b[2m65\u001b[0m\u001b]8;;\u001b\\\n"
      ]
     },
     "metadata": {},
     "output_type": "display_data"
    },
    {
     "name": "stderr",
     "output_type": "stream",
     "text": [
      "                                                                                                                       \r"
     ]
    },
    {
     "data": {
      "text/html": [
       "<pre style=\"white-space:pre;overflow-x:auto;line-height:normal;font-family:Menlo,'DejaVu Sans Mono',consolas,'Courier New',monospace\"><span style=\"color: #7fbfbf; text-decoration-color: #7fbfbf\">[06/25/22 20:26:33] </span><span style=\"color: #008000; text-decoration-color: #008000\">INFO    </span> Animation <span style=\"color: #008000; text-decoration-color: #008000\">3</span> : Partial movie file        <a href=\"file://C:\\Users\\swaga\\miniconda3\\lib\\site-packages\\manim\\scene\\scene_file_writer.py\" target=\"_blank\"><span style=\"color: #7f7f7f; text-decoration-color: #7f7f7f\">scene_file_writer.py</span></a><span style=\"color: #7f7f7f; text-decoration-color: #7f7f7f\">:</span><a href=\"file://C:\\Users\\swaga\\miniconda3\\lib\\site-packages\\manim\\scene\\scene_file_writer.py#504\" target=\"_blank\"><span style=\"color: #7f7f7f; text-decoration-color: #7f7f7f\">504</span></a>\n",
       "<span style=\"color: #7fbfbf; text-decoration-color: #7fbfbf\">                    </span>         written in <span style=\"color: #008000; text-decoration-color: #008000\">'C:\\Users\\swaga\\Documents\\En</span> <span style=\"color: #7f7f7f; text-decoration-color: #7f7f7f\">                        </span>\n",
       "<span style=\"color: #7fbfbf; text-decoration-color: #7fbfbf\">                    </span>         <span style=\"color: #008000; text-decoration-color: #008000\">tangledKittens\\media\\videos\\EntangledKi</span> <span style=\"color: #7f7f7f; text-decoration-color: #7f7f7f\">                        </span>\n",
       "<span style=\"color: #7fbfbf; text-decoration-color: #7fbfbf\">                    </span>         <span style=\"color: #008000; text-decoration-color: #008000\">ttens\\1080p60\\partial_movie_files\\TestC</span> <span style=\"color: #7f7f7f; text-decoration-color: #7f7f7f\">                        </span>\n",
       "<span style=\"color: #7fbfbf; text-decoration-color: #7fbfbf\">                    </span>         <span style=\"color: #008000; text-decoration-color: #008000\">ontroller\\uncached_00003.mp4'</span>           <span style=\"color: #7f7f7f; text-decoration-color: #7f7f7f\">                        </span>\n",
       "</pre>\n"
      ],
      "text/plain": [
       "\u001b[2;36m[06/25/22 20:26:33]\u001b[0m\u001b[2;36m \u001b[0m\u001b[32mINFO    \u001b[0m Animation \u001b[32m3\u001b[0m : Partial movie file        \u001b]8;id=815532;file://C:\\Users\\swaga\\miniconda3\\lib\\site-packages\\manim\\scene\\scene_file_writer.py\u001b\\\u001b[2mscene_file_writer.py\u001b[0m\u001b]8;;\u001b\\\u001b[2m:\u001b[0m\u001b]8;id=599560;file://C:\\Users\\swaga\\miniconda3\\lib\\site-packages\\manim\\scene\\scene_file_writer.py#504\u001b\\\u001b[2m504\u001b[0m\u001b]8;;\u001b\\\n",
       "\u001b[2;36m                    \u001b[0m         written in \u001b[32m'C:\\Users\\swaga\\Documents\\En\u001b[0m \u001b[2m                        \u001b[0m\n",
       "\u001b[2;36m                    \u001b[0m         \u001b[32mtangledKittens\\media\\videos\\EntangledKi\u001b[0m \u001b[2m                        \u001b[0m\n",
       "\u001b[2;36m                    \u001b[0m         \u001b[32mttens\\1080p60\\partial_movie_files\\TestC\u001b[0m \u001b[2m                        \u001b[0m\n",
       "\u001b[2;36m                    \u001b[0m         \u001b[32montroller\\uncached_00003.mp4'\u001b[0m           \u001b[2m                        \u001b[0m\n"
      ]
     },
     "metadata": {},
     "output_type": "display_data"
    },
    {
     "data": {
      "text/html": [
       "<pre style=\"white-space:pre;overflow-x:auto;line-height:normal;font-family:Menlo,'DejaVu Sans Mono',consolas,'Courier New',monospace\"><span style=\"color: #7fbfbf; text-decoration-color: #7fbfbf\">                    </span><span style=\"color: #008000; text-decoration-color: #008000\">INFO    </span> Caching disabled.                           <a href=\"file://C:\\Users\\swaga\\miniconda3\\lib\\site-packages\\manim\\renderer\\cairo_renderer.py\" target=\"_blank\"><span style=\"color: #7f7f7f; text-decoration-color: #7f7f7f\">cairo_renderer.py</span></a><span style=\"color: #7f7f7f; text-decoration-color: #7f7f7f\">:</span><a href=\"file://C:\\Users\\swaga\\miniconda3\\lib\\site-packages\\manim\\renderer\\cairo_renderer.py#65\" target=\"_blank\"><span style=\"color: #7f7f7f; text-decoration-color: #7f7f7f\">65</span></a>\n",
       "</pre>\n"
      ],
      "text/plain": [
       "\u001b[2;36m                   \u001b[0m\u001b[2;36m \u001b[0m\u001b[32mINFO    \u001b[0m Caching disabled.                           \u001b]8;id=337210;file://C:\\Users\\swaga\\miniconda3\\lib\\site-packages\\manim\\renderer\\cairo_renderer.py\u001b\\\u001b[2mcairo_renderer.py\u001b[0m\u001b]8;;\u001b\\\u001b[2m:\u001b[0m\u001b]8;id=351893;file://C:\\Users\\swaga\\miniconda3\\lib\\site-packages\\manim\\renderer\\cairo_renderer.py#65\u001b\\\u001b[2m65\u001b[0m\u001b]8;;\u001b\\\n"
      ]
     },
     "metadata": {},
     "output_type": "display_data"
    },
    {
     "name": "stderr",
     "output_type": "stream",
     "text": [
      "                                                                                                                       \r"
     ]
    },
    {
     "data": {
      "text/html": [
       "<pre style=\"white-space:pre;overflow-x:auto;line-height:normal;font-family:Menlo,'DejaVu Sans Mono',consolas,'Courier New',monospace\"><span style=\"color: #7fbfbf; text-decoration-color: #7fbfbf\">[06/25/22 20:26:34] </span><span style=\"color: #008000; text-decoration-color: #008000\">INFO    </span> Animation <span style=\"color: #008000; text-decoration-color: #008000\">4</span> : Partial movie file        <a href=\"file://C:\\Users\\swaga\\miniconda3\\lib\\site-packages\\manim\\scene\\scene_file_writer.py\" target=\"_blank\"><span style=\"color: #7f7f7f; text-decoration-color: #7f7f7f\">scene_file_writer.py</span></a><span style=\"color: #7f7f7f; text-decoration-color: #7f7f7f\">:</span><a href=\"file://C:\\Users\\swaga\\miniconda3\\lib\\site-packages\\manim\\scene\\scene_file_writer.py#504\" target=\"_blank\"><span style=\"color: #7f7f7f; text-decoration-color: #7f7f7f\">504</span></a>\n",
       "<span style=\"color: #7fbfbf; text-decoration-color: #7fbfbf\">                    </span>         written in <span style=\"color: #008000; text-decoration-color: #008000\">'C:\\Users\\swaga\\Documents\\En</span> <span style=\"color: #7f7f7f; text-decoration-color: #7f7f7f\">                        </span>\n",
       "<span style=\"color: #7fbfbf; text-decoration-color: #7fbfbf\">                    </span>         <span style=\"color: #008000; text-decoration-color: #008000\">tangledKittens\\media\\videos\\EntangledKi</span> <span style=\"color: #7f7f7f; text-decoration-color: #7f7f7f\">                        </span>\n",
       "<span style=\"color: #7fbfbf; text-decoration-color: #7fbfbf\">                    </span>         <span style=\"color: #008000; text-decoration-color: #008000\">ttens\\1080p60\\partial_movie_files\\TestC</span> <span style=\"color: #7f7f7f; text-decoration-color: #7f7f7f\">                        </span>\n",
       "<span style=\"color: #7fbfbf; text-decoration-color: #7fbfbf\">                    </span>         <span style=\"color: #008000; text-decoration-color: #008000\">ontroller\\uncached_00004.mp4'</span>           <span style=\"color: #7f7f7f; text-decoration-color: #7f7f7f\">                        </span>\n",
       "</pre>\n"
      ],
      "text/plain": [
       "\u001b[2;36m[06/25/22 20:26:34]\u001b[0m\u001b[2;36m \u001b[0m\u001b[32mINFO    \u001b[0m Animation \u001b[32m4\u001b[0m : Partial movie file        \u001b]8;id=437386;file://C:\\Users\\swaga\\miniconda3\\lib\\site-packages\\manim\\scene\\scene_file_writer.py\u001b\\\u001b[2mscene_file_writer.py\u001b[0m\u001b]8;;\u001b\\\u001b[2m:\u001b[0m\u001b]8;id=36122;file://C:\\Users\\swaga\\miniconda3\\lib\\site-packages\\manim\\scene\\scene_file_writer.py#504\u001b\\\u001b[2m504\u001b[0m\u001b]8;;\u001b\\\n",
       "\u001b[2;36m                    \u001b[0m         written in \u001b[32m'C:\\Users\\swaga\\Documents\\En\u001b[0m \u001b[2m                        \u001b[0m\n",
       "\u001b[2;36m                    \u001b[0m         \u001b[32mtangledKittens\\media\\videos\\EntangledKi\u001b[0m \u001b[2m                        \u001b[0m\n",
       "\u001b[2;36m                    \u001b[0m         \u001b[32mttens\\1080p60\\partial_movie_files\\TestC\u001b[0m \u001b[2m                        \u001b[0m\n",
       "\u001b[2;36m                    \u001b[0m         \u001b[32montroller\\uncached_00004.mp4'\u001b[0m           \u001b[2m                        \u001b[0m\n"
      ]
     },
     "metadata": {},
     "output_type": "display_data"
    },
    {
     "data": {
      "text/html": [
       "<pre style=\"white-space:pre;overflow-x:auto;line-height:normal;font-family:Menlo,'DejaVu Sans Mono',consolas,'Courier New',monospace\"><span style=\"color: #7fbfbf; text-decoration-color: #7fbfbf\">                    </span><span style=\"color: #008000; text-decoration-color: #008000\">INFO    </span> Caching disabled.                           <a href=\"file://C:\\Users\\swaga\\miniconda3\\lib\\site-packages\\manim\\renderer\\cairo_renderer.py\" target=\"_blank\"><span style=\"color: #7f7f7f; text-decoration-color: #7f7f7f\">cairo_renderer.py</span></a><span style=\"color: #7f7f7f; text-decoration-color: #7f7f7f\">:</span><a href=\"file://C:\\Users\\swaga\\miniconda3\\lib\\site-packages\\manim\\renderer\\cairo_renderer.py#65\" target=\"_blank\"><span style=\"color: #7f7f7f; text-decoration-color: #7f7f7f\">65</span></a>\n",
       "</pre>\n"
      ],
      "text/plain": [
       "\u001b[2;36m                   \u001b[0m\u001b[2;36m \u001b[0m\u001b[32mINFO    \u001b[0m Caching disabled.                           \u001b]8;id=794863;file://C:\\Users\\swaga\\miniconda3\\lib\\site-packages\\manim\\renderer\\cairo_renderer.py\u001b\\\u001b[2mcairo_renderer.py\u001b[0m\u001b]8;;\u001b\\\u001b[2m:\u001b[0m\u001b]8;id=902676;file://C:\\Users\\swaga\\miniconda3\\lib\\site-packages\\manim\\renderer\\cairo_renderer.py#65\u001b\\\u001b[2m65\u001b[0m\u001b]8;;\u001b\\\n"
      ]
     },
     "metadata": {},
     "output_type": "display_data"
    },
    {
     "name": "stderr",
     "output_type": "stream",
     "text": [
      "                                                                                                                       \r"
     ]
    },
    {
     "data": {
      "text/html": [
       "<pre style=\"white-space:pre;overflow-x:auto;line-height:normal;font-family:Menlo,'DejaVu Sans Mono',consolas,'Courier New',monospace\"><span style=\"color: #7fbfbf; text-decoration-color: #7fbfbf\">[06/25/22 20:26:44] </span><span style=\"color: #008000; text-decoration-color: #008000\">INFO    </span> Animation <span style=\"color: #008000; text-decoration-color: #008000\">5</span> : Partial movie file        <a href=\"file://C:\\Users\\swaga\\miniconda3\\lib\\site-packages\\manim\\scene\\scene_file_writer.py\" target=\"_blank\"><span style=\"color: #7f7f7f; text-decoration-color: #7f7f7f\">scene_file_writer.py</span></a><span style=\"color: #7f7f7f; text-decoration-color: #7f7f7f\">:</span><a href=\"file://C:\\Users\\swaga\\miniconda3\\lib\\site-packages\\manim\\scene\\scene_file_writer.py#504\" target=\"_blank\"><span style=\"color: #7f7f7f; text-decoration-color: #7f7f7f\">504</span></a>\n",
       "<span style=\"color: #7fbfbf; text-decoration-color: #7fbfbf\">                    </span>         written in <span style=\"color: #008000; text-decoration-color: #008000\">'C:\\Users\\swaga\\Documents\\En</span> <span style=\"color: #7f7f7f; text-decoration-color: #7f7f7f\">                        </span>\n",
       "<span style=\"color: #7fbfbf; text-decoration-color: #7fbfbf\">                    </span>         <span style=\"color: #008000; text-decoration-color: #008000\">tangledKittens\\media\\videos\\EntangledKi</span> <span style=\"color: #7f7f7f; text-decoration-color: #7f7f7f\">                        </span>\n",
       "<span style=\"color: #7fbfbf; text-decoration-color: #7fbfbf\">                    </span>         <span style=\"color: #008000; text-decoration-color: #008000\">ttens\\1080p60\\partial_movie_files\\TestC</span> <span style=\"color: #7f7f7f; text-decoration-color: #7f7f7f\">                        </span>\n",
       "<span style=\"color: #7fbfbf; text-decoration-color: #7fbfbf\">                    </span>         <span style=\"color: #008000; text-decoration-color: #008000\">ontroller\\uncached_00005.mp4'</span>           <span style=\"color: #7f7f7f; text-decoration-color: #7f7f7f\">                        </span>\n",
       "</pre>\n"
      ],
      "text/plain": [
       "\u001b[2;36m[06/25/22 20:26:44]\u001b[0m\u001b[2;36m \u001b[0m\u001b[32mINFO    \u001b[0m Animation \u001b[32m5\u001b[0m : Partial movie file        \u001b]8;id=191452;file://C:\\Users\\swaga\\miniconda3\\lib\\site-packages\\manim\\scene\\scene_file_writer.py\u001b\\\u001b[2mscene_file_writer.py\u001b[0m\u001b]8;;\u001b\\\u001b[2m:\u001b[0m\u001b]8;id=574095;file://C:\\Users\\swaga\\miniconda3\\lib\\site-packages\\manim\\scene\\scene_file_writer.py#504\u001b\\\u001b[2m504\u001b[0m\u001b]8;;\u001b\\\n",
       "\u001b[2;36m                    \u001b[0m         written in \u001b[32m'C:\\Users\\swaga\\Documents\\En\u001b[0m \u001b[2m                        \u001b[0m\n",
       "\u001b[2;36m                    \u001b[0m         \u001b[32mtangledKittens\\media\\videos\\EntangledKi\u001b[0m \u001b[2m                        \u001b[0m\n",
       "\u001b[2;36m                    \u001b[0m         \u001b[32mttens\\1080p60\\partial_movie_files\\TestC\u001b[0m \u001b[2m                        \u001b[0m\n",
       "\u001b[2;36m                    \u001b[0m         \u001b[32montroller\\uncached_00005.mp4'\u001b[0m           \u001b[2m                        \u001b[0m\n"
      ]
     },
     "metadata": {},
     "output_type": "display_data"
    },
    {
     "data": {
      "text/html": [
       "<pre style=\"white-space:pre;overflow-x:auto;line-height:normal;font-family:Menlo,'DejaVu Sans Mono',consolas,'Courier New',monospace\"><span style=\"color: #7fbfbf; text-decoration-color: #7fbfbf\">                    </span><span style=\"color: #008000; text-decoration-color: #008000\">INFO    </span> Combining to Movie file.                <a href=\"file://C:\\Users\\swaga\\miniconda3\\lib\\site-packages\\manim\\scene\\scene_file_writer.py\" target=\"_blank\"><span style=\"color: #7f7f7f; text-decoration-color: #7f7f7f\">scene_file_writer.py</span></a><span style=\"color: #7f7f7f; text-decoration-color: #7f7f7f\">:</span><a href=\"file://C:\\Users\\swaga\\miniconda3\\lib\\site-packages\\manim\\scene\\scene_file_writer.py#597\" target=\"_blank\"><span style=\"color: #7f7f7f; text-decoration-color: #7f7f7f\">597</span></a>\n",
       "</pre>\n"
      ],
      "text/plain": [
       "\u001b[2;36m                   \u001b[0m\u001b[2;36m \u001b[0m\u001b[32mINFO    \u001b[0m Combining to Movie file.                \u001b]8;id=849146;file://C:\\Users\\swaga\\miniconda3\\lib\\site-packages\\manim\\scene\\scene_file_writer.py\u001b\\\u001b[2mscene_file_writer.py\u001b[0m\u001b]8;;\u001b\\\u001b[2m:\u001b[0m\u001b]8;id=743460;file://C:\\Users\\swaga\\miniconda3\\lib\\site-packages\\manim\\scene\\scene_file_writer.py#597\u001b\\\u001b[2m597\u001b[0m\u001b]8;;\u001b\\\n"
      ]
     },
     "metadata": {},
     "output_type": "display_data"
    },
    {
     "data": {
      "text/html": [
       "<pre style=\"white-space:pre;overflow-x:auto;line-height:normal;font-family:Menlo,'DejaVu Sans Mono',consolas,'Courier New',monospace\"><span style=\"color: #7fbfbf; text-decoration-color: #7fbfbf\">                    </span><span style=\"color: #008000; text-decoration-color: #008000\">INFO    </span>                                         <a href=\"file://C:\\Users\\swaga\\miniconda3\\lib\\site-packages\\manim\\scene\\scene_file_writer.py\" target=\"_blank\"><span style=\"color: #7f7f7f; text-decoration-color: #7f7f7f\">scene_file_writer.py</span></a><span style=\"color: #7f7f7f; text-decoration-color: #7f7f7f\">:</span><a href=\"file://C:\\Users\\swaga\\miniconda3\\lib\\site-packages\\manim\\scene\\scene_file_writer.py#718\" target=\"_blank\"><span style=\"color: #7f7f7f; text-decoration-color: #7f7f7f\">718</span></a>\n",
       "<span style=\"color: #7fbfbf; text-decoration-color: #7fbfbf\">                    </span>         <span style=\"color: #808000; text-decoration-color: #808000; font-weight: bold\">File</span> ready at <span style=\"color: #008000; text-decoration-color: #008000\">'C:\\Users\\swaga\\Documents</span> <span style=\"color: #7f7f7f; text-decoration-color: #7f7f7f\">                        </span>\n",
       "<span style=\"color: #7fbfbf; text-decoration-color: #7fbfbf\">                    </span>         <span style=\"color: #008000; text-decoration-color: #008000\">\\EntangledKittens\\media\\videos\\Entangle</span> <span style=\"color: #7f7f7f; text-decoration-color: #7f7f7f\">                        </span>\n",
       "<span style=\"color: #7fbfbf; text-decoration-color: #7fbfbf\">                    </span>         <span style=\"color: #008000; text-decoration-color: #008000\">dKittens\\1080p60\\TestController.mp4'</span>    <span style=\"color: #7f7f7f; text-decoration-color: #7f7f7f\">                        </span>\n",
       "<span style=\"color: #7fbfbf; text-decoration-color: #7fbfbf\">                    </span>                                                 <span style=\"color: #7f7f7f; text-decoration-color: #7f7f7f\">                        </span>\n",
       "</pre>\n"
      ],
      "text/plain": [
       "\u001b[2;36m                   \u001b[0m\u001b[2;36m \u001b[0m\u001b[32mINFO    \u001b[0m                                         \u001b]8;id=154362;file://C:\\Users\\swaga\\miniconda3\\lib\\site-packages\\manim\\scene\\scene_file_writer.py\u001b\\\u001b[2mscene_file_writer.py\u001b[0m\u001b]8;;\u001b\\\u001b[2m:\u001b[0m\u001b]8;id=318933;file://C:\\Users\\swaga\\miniconda3\\lib\\site-packages\\manim\\scene\\scene_file_writer.py#718\u001b\\\u001b[2m718\u001b[0m\u001b]8;;\u001b\\\n",
       "\u001b[2;36m                    \u001b[0m         \u001b[1;33mFile\u001b[0m ready at \u001b[32m'C:\\Users\\swaga\\Documents\u001b[0m \u001b[2m                        \u001b[0m\n",
       "\u001b[2;36m                    \u001b[0m         \u001b[32m\\EntangledKittens\\media\\videos\\Entangle\u001b[0m \u001b[2m                        \u001b[0m\n",
       "\u001b[2;36m                    \u001b[0m         \u001b[32mdKittens\\1080p60\\TestController.mp4'\u001b[0m    \u001b[2m                        \u001b[0m\n",
       "\u001b[2;36m                    \u001b[0m                                                 \u001b[2m                        \u001b[0m\n"
      ]
     },
     "metadata": {},
     "output_type": "display_data"
    },
    {
     "data": {
      "text/html": [
       "<pre style=\"white-space:pre;overflow-x:auto;line-height:normal;font-family:Menlo,'DejaVu Sans Mono',consolas,'Courier New',monospace\"><span style=\"color: #7fbfbf; text-decoration-color: #7fbfbf\">                    </span><span style=\"color: #008000; text-decoration-color: #008000\">INFO    </span> <span style=\"color: #808000; text-decoration-color: #808000; font-weight: bold\">Rendered</span> TestController                             <a href=\"file://C:\\Users\\swaga\\miniconda3\\lib\\site-packages\\manim\\scene\\scene.py\" target=\"_blank\"><span style=\"color: #7f7f7f; text-decoration-color: #7f7f7f\">scene.py</span></a><span style=\"color: #7f7f7f; text-decoration-color: #7f7f7f\">:</span><a href=\"file://C:\\Users\\swaga\\miniconda3\\lib\\site-packages\\manim\\scene\\scene.py#240\" target=\"_blank\"><span style=\"color: #7f7f7f; text-decoration-color: #7f7f7f\">240</span></a>\n",
       "<span style=\"color: #7fbfbf; text-decoration-color: #7fbfbf\">                    </span>         <span style=\"color: #808000; text-decoration-color: #808000; font-weight: bold\">Played</span> <span style=\"color: #008000; text-decoration-color: #008000\">6</span> <span style=\"color: #808000; text-decoration-color: #808000; font-weight: bold\">animations</span>                                 <span style=\"color: #7f7f7f; text-decoration-color: #7f7f7f\">            </span>\n",
       "</pre>\n"
      ],
      "text/plain": [
       "\u001b[2;36m                   \u001b[0m\u001b[2;36m \u001b[0m\u001b[32mINFO    \u001b[0m \u001b[1;33mRendered\u001b[0m TestController                             \u001b]8;id=123553;file://C:\\Users\\swaga\\miniconda3\\lib\\site-packages\\manim\\scene\\scene.py\u001b\\\u001b[2mscene.py\u001b[0m\u001b]8;;\u001b\\\u001b[2m:\u001b[0m\u001b]8;id=802273;file://C:\\Users\\swaga\\miniconda3\\lib\\site-packages\\manim\\scene\\scene.py#240\u001b\\\u001b[2m240\u001b[0m\u001b]8;;\u001b\\\n",
       "\u001b[2;36m                    \u001b[0m         \u001b[1;33mPlayed\u001b[0m \u001b[32m6\u001b[0m \u001b[1;33manimations\u001b[0m                                 \u001b[2m            \u001b[0m\n"
      ]
     },
     "metadata": {},
     "output_type": "display_data"
    },
    {
     "data": {
      "text/html": [
       "<video src=\"media\\jupyter\\TestController@2022-06-25@20-26-44.mp4\" controls autoplay loop style=\"max-width: 60%;\"  >\n",
       "      Your browser does not support the <code>video</code> element.\n",
       "    </video>"
      ],
      "text/plain": [
       "<IPython.core.display.Video object>"
      ]
     },
     "metadata": {},
     "output_type": "display_data"
    }
   ],
   "source": [
    "%%manim --disable_caching TestController\n",
    "class TestController(Scene):\n",
    "    def construct(self):\n",
    "        bounds = [-3, 3, -2, 2]\n",
    "        box = Polygon(*[\n",
    "            [bounds[0], bounds[2], 0],\n",
    "            [bounds[0], bounds[3], 0],\n",
    "            [bounds[1], bounds[3], 0],\n",
    "            [bounds[1], bounds[2], 0]],\n",
    "            color=WHITE)\n",
    "#         sprite = Dot(radius=0.2).move_to([0, bounds[2]+0.2, 0])\n",
    "        sprite = ImageMobject('./images/luigi_sprites/idle-r.png')\n",
    "        sprite.set_resampling_algorithm(RESAMPLING_ALGORITHMS['nearest'])\n",
    "        scale = 5\n",
    "        sprite.scale(scale)\n",
    "        h = sprite.get_top()[1] - sprite.get_bottom()[1]\n",
    "        sprite.move_to([0, bounds[2]+h/2, 0])\n",
    "        \n",
    "        pos_lab = Tex('Position: ', font_size=28).to_corner(UL)\n",
    "        vel_lab = Tex('Velocity: ', font_size=28).next_to(pos_lab, DOWN)\n",
    "        acc_lab = Tex('Acceleration: ', font_size=28).next_to(vel_lab, DOWN)\n",
    "        pos_x = DecimalNumber(include_sign=True).scale(0.5).next_to(pos_lab, RIGHT)\n",
    "        pos_y = DecimalNumber(include_sign=True).scale(0.5).next_to(pos_x, RIGHT)\n",
    "        vel_x = DecimalNumber(include_sign=True).scale(0.5).next_to(vel_lab, RIGHT)\n",
    "        vel_y = DecimalNumber(include_sign=True).scale(0.5).next_to(vel_x, RIGHT)\n",
    "        acc_x = DecimalNumber(include_sign=True).scale(0.5).next_to(acc_lab, RIGHT)\n",
    "        acc_y = DecimalNumber(include_sign=True).scale(0.5).next_to(acc_x, RIGHT)\n",
    "        \n",
    "        pos_x.add_updater(lambda p: p.set_value(controller.pos[0]))\n",
    "        pos_y.add_updater(lambda p: p.set_value(controller.pos[1]))\n",
    "        vel_x.add_updater(lambda p: p.set_value(controller.vel[0]))\n",
    "        vel_y.add_updater(lambda p: p.set_value(controller.vel[1]))\n",
    "        acc_x.add_updater(lambda p: p.set_value(controller.acc[0]))\n",
    "        acc_y.add_updater(lambda p: p.set_value(controller.acc[1]))\n",
    "        \n",
    "        log = Group(pos_lab, vel_lab, acc_lab, pos_x, pos_y, vel_x, vel_y, acc_x, acc_y)\n",
    "        \n",
    "        \n",
    "        mvmt_params = np.array([3.7, 17.36, 33.9])/2\n",
    "        controller = Sprite_Controller('./images/luigi_sprites/', bounds, sprite, \n",
    "                                       v=mvmt_params[0], j=mvmt_params[1], g=mvmt_params[2], scale=scale)\n",
    "        self.clock = 0.0\n",
    "        def update_sprite(sprite, dt):\n",
    "            self.clock = controller.update(sprite, dt, self.clock)\n",
    "        sprite.add_updater(update_sprite)\n",
    "        \n",
    "        self.add(box, sprite, log)\n",
    "        \n",
    "        \n",
    "        controller.move_right()\n",
    "        self.wait(1)\n",
    "        controller.jump()\n",
    "        self.wait(2)\n",
    "        controller.move_left()\n",
    "        self.wait(1)\n",
    "        controller.jump()\n",
    "        self.wait(2.5)\n",
    "        controller.stop()\n",
    "        controller.flip()\n",
    "        self.wait(0.1)\n",
    "        controller.duck_()\n",
    "        self.wait(1)\n",
    "        \n",
    "#         controller.move_left()\n",
    "#         controller.jump()\n",
    "#         self.wait(2)\n",
    "#         controller.stop()\n",
    "#         self.wait(1)\n",
    "        "
   ]
  },
  {
   "cell_type": "markdown",
   "id": "d996120b",
   "metadata": {},
   "source": [
    "# Test how to make the cat kets"
   ]
  },
  {
   "cell_type": "code",
   "execution_count": 4,
   "id": "305fc6c6",
   "metadata": {},
   "outputs": [
    {
     "data": {
      "text/html": [
       "<pre style=\"white-space:pre;overflow-x:auto;line-height:normal;font-family:Menlo,'DejaVu Sans Mono',consolas,'Courier New',monospace\"><span style=\"color: #7fbfbf; text-decoration-color: #7fbfbf\">[06/26/22 11:25:32] </span><span style=\"color: #008000; text-decoration-color: #008000\">INFO    </span> Animation <span style=\"color: #008000; text-decoration-color: #008000\">0</span> : Partial movie file        <a href=\"file://C:\\Users\\swaga\\miniconda3\\lib\\site-packages\\manim\\scene\\scene_file_writer.py\" target=\"_blank\"><span style=\"color: #7f7f7f; text-decoration-color: #7f7f7f\">scene_file_writer.py</span></a><span style=\"color: #7f7f7f; text-decoration-color: #7f7f7f\">:</span><a href=\"file://C:\\Users\\swaga\\miniconda3\\lib\\site-packages\\manim\\scene\\scene_file_writer.py#504\" target=\"_blank\"><span style=\"color: #7f7f7f; text-decoration-color: #7f7f7f\">504</span></a>\n",
       "<span style=\"color: #7fbfbf; text-decoration-color: #7fbfbf\">                    </span>         written in <span style=\"color: #008000; text-decoration-color: #008000\">'C:\\Users\\swaga\\Documents\\En</span> <span style=\"color: #7f7f7f; text-decoration-color: #7f7f7f\">                        </span>\n",
       "<span style=\"color: #7fbfbf; text-decoration-color: #7fbfbf\">                    </span>         <span style=\"color: #008000; text-decoration-color: #008000\">tangledKittens\\media\\videos\\EntangledKi</span> <span style=\"color: #7f7f7f; text-decoration-color: #7f7f7f\">                        </span>\n",
       "<span style=\"color: #7fbfbf; text-decoration-color: #7fbfbf\">                    </span>         <span style=\"color: #008000; text-decoration-color: #008000\">ttens\\1080p60\\partial_movie_files\\CatKe</span> <span style=\"color: #7f7f7f; text-decoration-color: #7f7f7f\">                        </span>\n",
       "<span style=\"color: #7fbfbf; text-decoration-color: #7fbfbf\">                    </span>         <span style=\"color: #008000; text-decoration-color: #008000\">t\\2724823860_603904044_4184344517.mp4'</span>  <span style=\"color: #7f7f7f; text-decoration-color: #7f7f7f\">                        </span>\n",
       "</pre>\n"
      ],
      "text/plain": [
       "\u001b[2;36m[06/26/22 11:25:32]\u001b[0m\u001b[2;36m \u001b[0m\u001b[32mINFO    \u001b[0m Animation \u001b[32m0\u001b[0m : Partial movie file        \u001b]8;id=170180;file://C:\\Users\\swaga\\miniconda3\\lib\\site-packages\\manim\\scene\\scene_file_writer.py\u001b\\\u001b[2mscene_file_writer.py\u001b[0m\u001b]8;;\u001b\\\u001b[2m:\u001b[0m\u001b]8;id=379969;file://C:\\Users\\swaga\\miniconda3\\lib\\site-packages\\manim\\scene\\scene_file_writer.py#504\u001b\\\u001b[2m504\u001b[0m\u001b]8;;\u001b\\\n",
       "\u001b[2;36m                    \u001b[0m         written in \u001b[32m'C:\\Users\\swaga\\Documents\\En\u001b[0m \u001b[2m                        \u001b[0m\n",
       "\u001b[2;36m                    \u001b[0m         \u001b[32mtangledKittens\\media\\videos\\EntangledKi\u001b[0m \u001b[2m                        \u001b[0m\n",
       "\u001b[2;36m                    \u001b[0m         \u001b[32mttens\\1080p60\\partial_movie_files\\CatKe\u001b[0m \u001b[2m                        \u001b[0m\n",
       "\u001b[2;36m                    \u001b[0m         \u001b[32mt\\2724823860_603904044_4184344517.mp4'\u001b[0m  \u001b[2m                        \u001b[0m\n"
      ]
     },
     "metadata": {},
     "output_type": "display_data"
    },
    {
     "data": {
      "text/html": [
       "<pre style=\"white-space:pre;overflow-x:auto;line-height:normal;font-family:Menlo,'DejaVu Sans Mono',consolas,'Courier New',monospace\"><span style=\"color: #7fbfbf; text-decoration-color: #7fbfbf\">                    </span><span style=\"color: #008000; text-decoration-color: #008000\">INFO    </span> Combining to Movie file.                <a href=\"file://C:\\Users\\swaga\\miniconda3\\lib\\site-packages\\manim\\scene\\scene_file_writer.py\" target=\"_blank\"><span style=\"color: #7f7f7f; text-decoration-color: #7f7f7f\">scene_file_writer.py</span></a><span style=\"color: #7f7f7f; text-decoration-color: #7f7f7f\">:</span><a href=\"file://C:\\Users\\swaga\\miniconda3\\lib\\site-packages\\manim\\scene\\scene_file_writer.py#597\" target=\"_blank\"><span style=\"color: #7f7f7f; text-decoration-color: #7f7f7f\">597</span></a>\n",
       "</pre>\n"
      ],
      "text/plain": [
       "\u001b[2;36m                   \u001b[0m\u001b[2;36m \u001b[0m\u001b[32mINFO    \u001b[0m Combining to Movie file.                \u001b]8;id=3100;file://C:\\Users\\swaga\\miniconda3\\lib\\site-packages\\manim\\scene\\scene_file_writer.py\u001b\\\u001b[2mscene_file_writer.py\u001b[0m\u001b]8;;\u001b\\\u001b[2m:\u001b[0m\u001b]8;id=650739;file://C:\\Users\\swaga\\miniconda3\\lib\\site-packages\\manim\\scene\\scene_file_writer.py#597\u001b\\\u001b[2m597\u001b[0m\u001b]8;;\u001b\\\n"
      ]
     },
     "metadata": {},
     "output_type": "display_data"
    },
    {
     "data": {
      "text/html": [
       "<pre style=\"white-space:pre;overflow-x:auto;line-height:normal;font-family:Menlo,'DejaVu Sans Mono',consolas,'Courier New',monospace\"><span style=\"color: #7fbfbf; text-decoration-color: #7fbfbf\">                    </span><span style=\"color: #008000; text-decoration-color: #008000\">INFO    </span>                                         <a href=\"file://C:\\Users\\swaga\\miniconda3\\lib\\site-packages\\manim\\scene\\scene_file_writer.py\" target=\"_blank\"><span style=\"color: #7f7f7f; text-decoration-color: #7f7f7f\">scene_file_writer.py</span></a><span style=\"color: #7f7f7f; text-decoration-color: #7f7f7f\">:</span><a href=\"file://C:\\Users\\swaga\\miniconda3\\lib\\site-packages\\manim\\scene\\scene_file_writer.py#718\" target=\"_blank\"><span style=\"color: #7f7f7f; text-decoration-color: #7f7f7f\">718</span></a>\n",
       "<span style=\"color: #7fbfbf; text-decoration-color: #7fbfbf\">                    </span>         <span style=\"color: #808000; text-decoration-color: #808000; font-weight: bold\">File</span> ready at <span style=\"color: #008000; text-decoration-color: #008000\">'C:\\Users\\swaga\\Documents</span> <span style=\"color: #7f7f7f; text-decoration-color: #7f7f7f\">                        </span>\n",
       "<span style=\"color: #7fbfbf; text-decoration-color: #7fbfbf\">                    </span>         <span style=\"color: #008000; text-decoration-color: #008000\">\\EntangledKittens\\media\\videos\\Entangle</span> <span style=\"color: #7f7f7f; text-decoration-color: #7f7f7f\">                        </span>\n",
       "<span style=\"color: #7fbfbf; text-decoration-color: #7fbfbf\">                    </span>         <span style=\"color: #008000; text-decoration-color: #008000\">dKittens\\1080p60\\CatKet.mp4'</span>            <span style=\"color: #7f7f7f; text-decoration-color: #7f7f7f\">                        </span>\n",
       "<span style=\"color: #7fbfbf; text-decoration-color: #7fbfbf\">                    </span>                                                 <span style=\"color: #7f7f7f; text-decoration-color: #7f7f7f\">                        </span>\n",
       "</pre>\n"
      ],
      "text/plain": [
       "\u001b[2;36m                   \u001b[0m\u001b[2;36m \u001b[0m\u001b[32mINFO    \u001b[0m                                         \u001b]8;id=48191;file://C:\\Users\\swaga\\miniconda3\\lib\\site-packages\\manim\\scene\\scene_file_writer.py\u001b\\\u001b[2mscene_file_writer.py\u001b[0m\u001b]8;;\u001b\\\u001b[2m:\u001b[0m\u001b]8;id=554406;file://C:\\Users\\swaga\\miniconda3\\lib\\site-packages\\manim\\scene\\scene_file_writer.py#718\u001b\\\u001b[2m718\u001b[0m\u001b]8;;\u001b\\\n",
       "\u001b[2;36m                    \u001b[0m         \u001b[1;33mFile\u001b[0m ready at \u001b[32m'C:\\Users\\swaga\\Documents\u001b[0m \u001b[2m                        \u001b[0m\n",
       "\u001b[2;36m                    \u001b[0m         \u001b[32m\\EntangledKittens\\media\\videos\\Entangle\u001b[0m \u001b[2m                        \u001b[0m\n",
       "\u001b[2;36m                    \u001b[0m         \u001b[32mdKittens\\1080p60\\CatKet.mp4'\u001b[0m            \u001b[2m                        \u001b[0m\n",
       "\u001b[2;36m                    \u001b[0m                                                 \u001b[2m                        \u001b[0m\n"
      ]
     },
     "metadata": {},
     "output_type": "display_data"
    },
    {
     "data": {
      "text/html": [
       "<pre style=\"white-space:pre;overflow-x:auto;line-height:normal;font-family:Menlo,'DejaVu Sans Mono',consolas,'Courier New',monospace\"><span style=\"color: #7fbfbf; text-decoration-color: #7fbfbf\">                    </span><span style=\"color: #008000; text-decoration-color: #008000\">INFO    </span> <span style=\"color: #808000; text-decoration-color: #808000; font-weight: bold\">Rendered</span> CatKet                                     <a href=\"file://C:\\Users\\swaga\\miniconda3\\lib\\site-packages\\manim\\scene\\scene.py\" target=\"_blank\"><span style=\"color: #7f7f7f; text-decoration-color: #7f7f7f\">scene.py</span></a><span style=\"color: #7f7f7f; text-decoration-color: #7f7f7f\">:</span><a href=\"file://C:\\Users\\swaga\\miniconda3\\lib\\site-packages\\manim\\scene\\scene.py#240\" target=\"_blank\"><span style=\"color: #7f7f7f; text-decoration-color: #7f7f7f\">240</span></a>\n",
       "<span style=\"color: #7fbfbf; text-decoration-color: #7fbfbf\">                    </span>         <span style=\"color: #808000; text-decoration-color: #808000; font-weight: bold\">Played</span> <span style=\"color: #008000; text-decoration-color: #008000\">1</span> <span style=\"color: #808000; text-decoration-color: #808000; font-weight: bold\">animations</span>                                 <span style=\"color: #7f7f7f; text-decoration-color: #7f7f7f\">            </span>\n",
       "</pre>\n"
      ],
      "text/plain": [
       "\u001b[2;36m                   \u001b[0m\u001b[2;36m \u001b[0m\u001b[32mINFO    \u001b[0m \u001b[1;33mRendered\u001b[0m CatKet                                     \u001b]8;id=289674;file://C:\\Users\\swaga\\miniconda3\\lib\\site-packages\\manim\\scene\\scene.py\u001b\\\u001b[2mscene.py\u001b[0m\u001b]8;;\u001b\\\u001b[2m:\u001b[0m\u001b]8;id=807920;file://C:\\Users\\swaga\\miniconda3\\lib\\site-packages\\manim\\scene\\scene.py#240\u001b\\\u001b[2m240\u001b[0m\u001b]8;;\u001b\\\n",
       "\u001b[2;36m                    \u001b[0m         \u001b[1;33mPlayed\u001b[0m \u001b[32m1\u001b[0m \u001b[1;33manimations\u001b[0m                                 \u001b[2m            \u001b[0m\n"
      ]
     },
     "metadata": {},
     "output_type": "display_data"
    },
    {
     "data": {
      "text/html": [
       "<video src=\"media\\jupyter\\CatKet@2022-06-26@11-25-32.mp4\" controls autoplay loop style=\"max-width: 60%;\"  >\n",
       "      Your browser does not support the <code>video</code> element.\n",
       "    </video>"
      ],
      "text/plain": [
       "<IPython.core.display.Video object>"
      ]
     },
     "metadata": {},
     "output_type": "display_data"
    }
   ],
   "source": [
    "%%manim CatKet\n",
    "\n",
    "def get_cat_ket(state, scale=1.0):\n",
    "    font_size = 350\n",
    "    cat = ImageMobject('./images/cats/{}.png'.format(state))\n",
    "    line = MathTex('|', font_size=font_size).next_to(cat, 0.1*LEFT)\n",
    "    angle = MathTex(r'\\rangle', font_size=font_size).next_to(cat, 0.01*RIGHT)\n",
    "    cat_ket = Group(line, cat, angle)\n",
    "    cat_ket.scale(scale)\n",
    "    return cat_ket\n",
    "\n",
    "class CatKet(Scene):\n",
    "    def construct(self):\n",
    "        dead = get_cat_ket('dead', 0.25).shift(LEFT)\n",
    "        alive = get_cat_ket('alive', 0.25).next_to(dead, 1.5*RIGHT)\n",
    "        self.add(dead, alive)\n",
    "        self.wait(1)"
   ]
  },
  {
   "cell_type": "code",
   "execution_count": 72,
   "id": "4323d5f1",
   "metadata": {},
   "outputs": [
    {
     "data": {
      "text/html": [
       "<pre style=\"white-space:pre;overflow-x:auto;line-height:normal;font-family:Menlo,'DejaVu Sans Mono',consolas,'Courier New',monospace\"><span style=\"color: #7fbfbf; text-decoration-color: #7fbfbf\">[06/26/22 14:55:00] </span><span style=\"color: #008000; text-decoration-color: #008000\">INFO    </span> Animation <span style=\"color: #008000; text-decoration-color: #008000\">0</span> : Using cached data <span style=\"font-weight: bold\">(</span>hash :     <a href=\"file://C:\\Users\\swaga\\miniconda3\\lib\\site-packages\\manim\\renderer\\cairo_renderer.py\" target=\"_blank\"><span style=\"color: #7f7f7f; text-decoration-color: #7f7f7f\">cairo_renderer.py</span></a><span style=\"color: #7f7f7f; text-decoration-color: #7f7f7f\">:</span><a href=\"file://C:\\Users\\swaga\\miniconda3\\lib\\site-packages\\manim\\renderer\\cairo_renderer.py#75\" target=\"_blank\"><span style=\"color: #7f7f7f; text-decoration-color: #7f7f7f\">75</span></a>\n",
       "<span style=\"color: #7fbfbf; text-decoration-color: #7fbfbf\">                    </span>         2724823860_960322132_1070872368<span style=\"font-weight: bold\">)</span>            <span style=\"color: #7f7f7f; text-decoration-color: #7f7f7f\">                    </span>\n",
       "</pre>\n"
      ],
      "text/plain": [
       "\u001b[2;36m[06/26/22 14:55:00]\u001b[0m\u001b[2;36m \u001b[0m\u001b[32mINFO    \u001b[0m Animation \u001b[32m0\u001b[0m : Using cached data \u001b[1m(\u001b[0mhash :     \u001b]8;id=869061;file://C:\\Users\\swaga\\miniconda3\\lib\\site-packages\\manim\\renderer\\cairo_renderer.py\u001b\\\u001b[2mcairo_renderer.py\u001b[0m\u001b]8;;\u001b\\\u001b[2m:\u001b[0m\u001b]8;id=652603;file://C:\\Users\\swaga\\miniconda3\\lib\\site-packages\\manim\\renderer\\cairo_renderer.py#75\u001b\\\u001b[2m75\u001b[0m\u001b]8;;\u001b\\\n",
       "\u001b[2;36m                    \u001b[0m         2724823860_960322132_1070872368\u001b[1m)\u001b[0m            \u001b[2m                    \u001b[0m\n"
      ]
     },
     "metadata": {},
     "output_type": "display_data"
    },
    {
     "name": "stderr",
     "output_type": "stream",
     "text": [
      "                                                                                                                       \r"
     ]
    },
    {
     "data": {
      "text/html": [
       "<pre style=\"white-space:pre;overflow-x:auto;line-height:normal;font-family:Menlo,'DejaVu Sans Mono',consolas,'Courier New',monospace\"><span style=\"color: #7fbfbf; text-decoration-color: #7fbfbf\">[06/26/22 14:55:16] </span><span style=\"color: #008000; text-decoration-color: #008000\">INFO    </span> Animation <span style=\"color: #008000; text-decoration-color: #008000\">1</span> : Partial movie file        <a href=\"file://C:\\Users\\swaga\\miniconda3\\lib\\site-packages\\manim\\scene\\scene_file_writer.py\" target=\"_blank\"><span style=\"color: #7f7f7f; text-decoration-color: #7f7f7f\">scene_file_writer.py</span></a><span style=\"color: #7f7f7f; text-decoration-color: #7f7f7f\">:</span><a href=\"file://C:\\Users\\swaga\\miniconda3\\lib\\site-packages\\manim\\scene\\scene_file_writer.py#504\" target=\"_blank\"><span style=\"color: #7f7f7f; text-decoration-color: #7f7f7f\">504</span></a>\n",
       "<span style=\"color: #7fbfbf; text-decoration-color: #7fbfbf\">                    </span>         written in <span style=\"color: #008000; text-decoration-color: #008000\">'C:\\Users\\swaga\\Documents\\En</span> <span style=\"color: #7f7f7f; text-decoration-color: #7f7f7f\">                        </span>\n",
       "<span style=\"color: #7fbfbf; text-decoration-color: #7fbfbf\">                    </span>         <span style=\"color: #008000; text-decoration-color: #008000\">tangledKittens\\media\\videos\\EntangledKi</span> <span style=\"color: #7f7f7f; text-decoration-color: #7f7f7f\">                        </span>\n",
       "<span style=\"color: #7fbfbf; text-decoration-color: #7fbfbf\">                    </span>         <span style=\"color: #008000; text-decoration-color: #008000\">ttens\\1080p60\\partial_movie_files\\CatSt</span> <span style=\"color: #7f7f7f; text-decoration-color: #7f7f7f\">                        </span>\n",
       "<span style=\"color: #7fbfbf; text-decoration-color: #7fbfbf\">                    </span>         <span style=\"color: #008000; text-decoration-color: #008000\">ateSpace\\1164547788_3048039907_84654957</span> <span style=\"color: #7f7f7f; text-decoration-color: #7f7f7f\">                        </span>\n",
       "<span style=\"color: #7fbfbf; text-decoration-color: #7fbfbf\">                    </span>         <span style=\"color: #008000; text-decoration-color: #008000\">0.mp4'</span>                                  <span style=\"color: #7f7f7f; text-decoration-color: #7f7f7f\">                        </span>\n",
       "</pre>\n"
      ],
      "text/plain": [
       "\u001b[2;36m[06/26/22 14:55:16]\u001b[0m\u001b[2;36m \u001b[0m\u001b[32mINFO    \u001b[0m Animation \u001b[32m1\u001b[0m : Partial movie file        \u001b]8;id=698466;file://C:\\Users\\swaga\\miniconda3\\lib\\site-packages\\manim\\scene\\scene_file_writer.py\u001b\\\u001b[2mscene_file_writer.py\u001b[0m\u001b]8;;\u001b\\\u001b[2m:\u001b[0m\u001b]8;id=181525;file://C:\\Users\\swaga\\miniconda3\\lib\\site-packages\\manim\\scene\\scene_file_writer.py#504\u001b\\\u001b[2m504\u001b[0m\u001b]8;;\u001b\\\n",
       "\u001b[2;36m                    \u001b[0m         written in \u001b[32m'C:\\Users\\swaga\\Documents\\En\u001b[0m \u001b[2m                        \u001b[0m\n",
       "\u001b[2;36m                    \u001b[0m         \u001b[32mtangledKittens\\media\\videos\\EntangledKi\u001b[0m \u001b[2m                        \u001b[0m\n",
       "\u001b[2;36m                    \u001b[0m         \u001b[32mttens\\1080p60\\partial_movie_files\\CatSt\u001b[0m \u001b[2m                        \u001b[0m\n",
       "\u001b[2;36m                    \u001b[0m         \u001b[32mateSpace\\1164547788_3048039907_84654957\u001b[0m \u001b[2m                        \u001b[0m\n",
       "\u001b[2;36m                    \u001b[0m         \u001b[32m0.mp4'\u001b[0m                                  \u001b[2m                        \u001b[0m\n"
      ]
     },
     "metadata": {},
     "output_type": "display_data"
    },
    {
     "data": {
      "text/html": [
       "<pre style=\"white-space:pre;overflow-x:auto;line-height:normal;font-family:Menlo,'DejaVu Sans Mono',consolas,'Courier New',monospace\"><span style=\"color: #7fbfbf; text-decoration-color: #7fbfbf\">[06/26/22 14:55:17] </span><span style=\"color: #008000; text-decoration-color: #008000\">INFO    </span> Animation <span style=\"color: #008000; text-decoration-color: #008000\">2</span> : Partial movie file        <a href=\"file://C:\\Users\\swaga\\miniconda3\\lib\\site-packages\\manim\\scene\\scene_file_writer.py\" target=\"_blank\"><span style=\"color: #7f7f7f; text-decoration-color: #7f7f7f\">scene_file_writer.py</span></a><span style=\"color: #7f7f7f; text-decoration-color: #7f7f7f\">:</span><a href=\"file://C:\\Users\\swaga\\miniconda3\\lib\\site-packages\\manim\\scene\\scene_file_writer.py#504\" target=\"_blank\"><span style=\"color: #7f7f7f; text-decoration-color: #7f7f7f\">504</span></a>\n",
       "<span style=\"color: #7fbfbf; text-decoration-color: #7fbfbf\">                    </span>         written in <span style=\"color: #008000; text-decoration-color: #008000\">'C:\\Users\\swaga\\Documents\\En</span> <span style=\"color: #7f7f7f; text-decoration-color: #7f7f7f\">                        </span>\n",
       "<span style=\"color: #7fbfbf; text-decoration-color: #7fbfbf\">                    </span>         <span style=\"color: #008000; text-decoration-color: #008000\">tangledKittens\\media\\videos\\EntangledKi</span> <span style=\"color: #7f7f7f; text-decoration-color: #7f7f7f\">                        </span>\n",
       "<span style=\"color: #7fbfbf; text-decoration-color: #7fbfbf\">                    </span>         <span style=\"color: #008000; text-decoration-color: #008000\">ttens\\1080p60\\partial_movie_files\\CatSt</span> <span style=\"color: #7f7f7f; text-decoration-color: #7f7f7f\">                        </span>\n",
       "<span style=\"color: #7fbfbf; text-decoration-color: #7fbfbf\">                    </span>         <span style=\"color: #008000; text-decoration-color: #008000\">ateSpace\\1164547788_3503346753_39353997</span> <span style=\"color: #7f7f7f; text-decoration-color: #7f7f7f\">                        </span>\n",
       "<span style=\"color: #7fbfbf; text-decoration-color: #7fbfbf\">                    </span>         <span style=\"color: #008000; text-decoration-color: #008000\">32.mp4'</span>                                 <span style=\"color: #7f7f7f; text-decoration-color: #7f7f7f\">                        </span>\n",
       "</pre>\n"
      ],
      "text/plain": [
       "\u001b[2;36m[06/26/22 14:55:17]\u001b[0m\u001b[2;36m \u001b[0m\u001b[32mINFO    \u001b[0m Animation \u001b[32m2\u001b[0m : Partial movie file        \u001b]8;id=696561;file://C:\\Users\\swaga\\miniconda3\\lib\\site-packages\\manim\\scene\\scene_file_writer.py\u001b\\\u001b[2mscene_file_writer.py\u001b[0m\u001b]8;;\u001b\\\u001b[2m:\u001b[0m\u001b]8;id=481438;file://C:\\Users\\swaga\\miniconda3\\lib\\site-packages\\manim\\scene\\scene_file_writer.py#504\u001b\\\u001b[2m504\u001b[0m\u001b]8;;\u001b\\\n",
       "\u001b[2;36m                    \u001b[0m         written in \u001b[32m'C:\\Users\\swaga\\Documents\\En\u001b[0m \u001b[2m                        \u001b[0m\n",
       "\u001b[2;36m                    \u001b[0m         \u001b[32mtangledKittens\\media\\videos\\EntangledKi\u001b[0m \u001b[2m                        \u001b[0m\n",
       "\u001b[2;36m                    \u001b[0m         \u001b[32mttens\\1080p60\\partial_movie_files\\CatSt\u001b[0m \u001b[2m                        \u001b[0m\n",
       "\u001b[2;36m                    \u001b[0m         \u001b[32mateSpace\\1164547788_3503346753_39353997\u001b[0m \u001b[2m                        \u001b[0m\n",
       "\u001b[2;36m                    \u001b[0m         \u001b[32m32.mp4'\u001b[0m                                 \u001b[2m                        \u001b[0m\n"
      ]
     },
     "metadata": {},
     "output_type": "display_data"
    },
    {
     "data": {
      "text/html": [
       "<pre style=\"white-space:pre;overflow-x:auto;line-height:normal;font-family:Menlo,'DejaVu Sans Mono',consolas,'Courier New',monospace\"><span style=\"color: #7fbfbf; text-decoration-color: #7fbfbf\">                    </span><span style=\"color: #008000; text-decoration-color: #008000\">INFO    </span> Combining to Movie file.                <a href=\"file://C:\\Users\\swaga\\miniconda3\\lib\\site-packages\\manim\\scene\\scene_file_writer.py\" target=\"_blank\"><span style=\"color: #7f7f7f; text-decoration-color: #7f7f7f\">scene_file_writer.py</span></a><span style=\"color: #7f7f7f; text-decoration-color: #7f7f7f\">:</span><a href=\"file://C:\\Users\\swaga\\miniconda3\\lib\\site-packages\\manim\\scene\\scene_file_writer.py#597\" target=\"_blank\"><span style=\"color: #7f7f7f; text-decoration-color: #7f7f7f\">597</span></a>\n",
       "</pre>\n"
      ],
      "text/plain": [
       "\u001b[2;36m                   \u001b[0m\u001b[2;36m \u001b[0m\u001b[32mINFO    \u001b[0m Combining to Movie file.                \u001b]8;id=338789;file://C:\\Users\\swaga\\miniconda3\\lib\\site-packages\\manim\\scene\\scene_file_writer.py\u001b\\\u001b[2mscene_file_writer.py\u001b[0m\u001b]8;;\u001b\\\u001b[2m:\u001b[0m\u001b]8;id=510055;file://C:\\Users\\swaga\\miniconda3\\lib\\site-packages\\manim\\scene\\scene_file_writer.py#597\u001b\\\u001b[2m597\u001b[0m\u001b]8;;\u001b\\\n"
      ]
     },
     "metadata": {},
     "output_type": "display_data"
    },
    {
     "data": {
      "text/html": [
       "<pre style=\"white-space:pre;overflow-x:auto;line-height:normal;font-family:Menlo,'DejaVu Sans Mono',consolas,'Courier New',monospace\"><span style=\"color: #7fbfbf; text-decoration-color: #7fbfbf\">                    </span><span style=\"color: #008000; text-decoration-color: #008000\">INFO    </span>                                         <a href=\"file://C:\\Users\\swaga\\miniconda3\\lib\\site-packages\\manim\\scene\\scene_file_writer.py\" target=\"_blank\"><span style=\"color: #7f7f7f; text-decoration-color: #7f7f7f\">scene_file_writer.py</span></a><span style=\"color: #7f7f7f; text-decoration-color: #7f7f7f\">:</span><a href=\"file://C:\\Users\\swaga\\miniconda3\\lib\\site-packages\\manim\\scene\\scene_file_writer.py#718\" target=\"_blank\"><span style=\"color: #7f7f7f; text-decoration-color: #7f7f7f\">718</span></a>\n",
       "<span style=\"color: #7fbfbf; text-decoration-color: #7fbfbf\">                    </span>         <span style=\"color: #808000; text-decoration-color: #808000; font-weight: bold\">File</span> ready at <span style=\"color: #008000; text-decoration-color: #008000\">'C:\\Users\\swaga\\Documents</span> <span style=\"color: #7f7f7f; text-decoration-color: #7f7f7f\">                        </span>\n",
       "<span style=\"color: #7fbfbf; text-decoration-color: #7fbfbf\">                    </span>         <span style=\"color: #008000; text-decoration-color: #008000\">\\EntangledKittens\\media\\videos\\Entangle</span> <span style=\"color: #7f7f7f; text-decoration-color: #7f7f7f\">                        </span>\n",
       "<span style=\"color: #7fbfbf; text-decoration-color: #7fbfbf\">                    </span>         <span style=\"color: #008000; text-decoration-color: #008000\">dKittens\\1080p60\\CatStateSpace.mp4'</span>     <span style=\"color: #7f7f7f; text-decoration-color: #7f7f7f\">                        </span>\n",
       "<span style=\"color: #7fbfbf; text-decoration-color: #7fbfbf\">                    </span>                                                 <span style=\"color: #7f7f7f; text-decoration-color: #7f7f7f\">                        </span>\n",
       "</pre>\n"
      ],
      "text/plain": [
       "\u001b[2;36m                   \u001b[0m\u001b[2;36m \u001b[0m\u001b[32mINFO    \u001b[0m                                         \u001b]8;id=37037;file://C:\\Users\\swaga\\miniconda3\\lib\\site-packages\\manim\\scene\\scene_file_writer.py\u001b\\\u001b[2mscene_file_writer.py\u001b[0m\u001b]8;;\u001b\\\u001b[2m:\u001b[0m\u001b]8;id=613803;file://C:\\Users\\swaga\\miniconda3\\lib\\site-packages\\manim\\scene\\scene_file_writer.py#718\u001b\\\u001b[2m718\u001b[0m\u001b]8;;\u001b\\\n",
       "\u001b[2;36m                    \u001b[0m         \u001b[1;33mFile\u001b[0m ready at \u001b[32m'C:\\Users\\swaga\\Documents\u001b[0m \u001b[2m                        \u001b[0m\n",
       "\u001b[2;36m                    \u001b[0m         \u001b[32m\\EntangledKittens\\media\\videos\\Entangle\u001b[0m \u001b[2m                        \u001b[0m\n",
       "\u001b[2;36m                    \u001b[0m         \u001b[32mdKittens\\1080p60\\CatStateSpace.mp4'\u001b[0m     \u001b[2m                        \u001b[0m\n",
       "\u001b[2;36m                    \u001b[0m                                                 \u001b[2m                        \u001b[0m\n"
      ]
     },
     "metadata": {},
     "output_type": "display_data"
    },
    {
     "data": {
      "text/html": [
       "<pre style=\"white-space:pre;overflow-x:auto;line-height:normal;font-family:Menlo,'DejaVu Sans Mono',consolas,'Courier New',monospace\"><span style=\"color: #7fbfbf; text-decoration-color: #7fbfbf\">                    </span><span style=\"color: #008000; text-decoration-color: #008000\">INFO    </span> <span style=\"color: #808000; text-decoration-color: #808000; font-weight: bold\">Rendered</span> CatStateSpace                              <a href=\"file://C:\\Users\\swaga\\miniconda3\\lib\\site-packages\\manim\\scene\\scene.py\" target=\"_blank\"><span style=\"color: #7f7f7f; text-decoration-color: #7f7f7f\">scene.py</span></a><span style=\"color: #7f7f7f; text-decoration-color: #7f7f7f\">:</span><a href=\"file://C:\\Users\\swaga\\miniconda3\\lib\\site-packages\\manim\\scene\\scene.py#240\" target=\"_blank\"><span style=\"color: #7f7f7f; text-decoration-color: #7f7f7f\">240</span></a>\n",
       "<span style=\"color: #7fbfbf; text-decoration-color: #7fbfbf\">                    </span>         <span style=\"color: #808000; text-decoration-color: #808000; font-weight: bold\">Played</span> <span style=\"color: #008000; text-decoration-color: #008000\">3</span> <span style=\"color: #808000; text-decoration-color: #808000; font-weight: bold\">animations</span>                                 <span style=\"color: #7f7f7f; text-decoration-color: #7f7f7f\">            </span>\n",
       "</pre>\n"
      ],
      "text/plain": [
       "\u001b[2;36m                   \u001b[0m\u001b[2;36m \u001b[0m\u001b[32mINFO    \u001b[0m \u001b[1;33mRendered\u001b[0m CatStateSpace                              \u001b]8;id=795250;file://C:\\Users\\swaga\\miniconda3\\lib\\site-packages\\manim\\scene\\scene.py\u001b\\\u001b[2mscene.py\u001b[0m\u001b]8;;\u001b\\\u001b[2m:\u001b[0m\u001b]8;id=734031;file://C:\\Users\\swaga\\miniconda3\\lib\\site-packages\\manim\\scene\\scene.py#240\u001b\\\u001b[2m240\u001b[0m\u001b]8;;\u001b\\\n",
       "\u001b[2;36m                    \u001b[0m         \u001b[1;33mPlayed\u001b[0m \u001b[32m3\u001b[0m \u001b[1;33manimations\u001b[0m                                 \u001b[2m            \u001b[0m\n"
      ]
     },
     "metadata": {},
     "output_type": "display_data"
    },
    {
     "data": {
      "text/html": [
       "<video src=\"media\\jupyter\\CatStateSpace@2022-06-26@14-55-17.mp4\" controls autoplay loop style=\"max-width: 60%;\"  >\n",
       "      Your browser does not support the <code>video</code> element.\n",
       "    </video>"
      ],
      "text/plain": [
       "<IPython.core.display.Video object>"
      ]
     },
     "metadata": {},
     "output_type": "display_data"
    }
   ],
   "source": [
    "%%manim CatStateSpace\n",
    "class CatStateSpace(Scene):\n",
    "    def construct(self):\n",
    "        scale = 2\n",
    "        ax_lim = 3.5\n",
    "#         ax = VGroup(\n",
    "#             DoubleArrow(start=[0,-ax_lim,0], end=[0,ax_lim,0], buff=0).set_color(WHITE),\n",
    "#             DoubleArrow(start=[-ax_lim,0,0], end=[ax_lim,0,0], buff=0).set_color(WHITE)\n",
    "#         )\n",
    "        ax = NumberPlane(faded_line_ratio=1/scale)\n",
    "        circle = Circle(radius=scale, stroke_width=1.5).set_color(YELLOW)\n",
    "        \n",
    "        ket_scale=0.1\n",
    "        ket_font = 350 * ket_scale\n",
    "        dead = get_cat_ket('dead', scale=ket_scale).move_to(circle.get_edge_center(UP) + 0.4*UL)\n",
    "        alive = get_cat_ket('alive', scale=ket_scale).move_to(circle.get_edge_center(RIGHT) + 0.4*DR)\n",
    "        \n",
    "        theta = ValueTracker().set_value(0.0)\n",
    "        state = Vector(scale*np.array([np.cos(theta.get_value()), np.sin(theta.get_value())]), buff=0)\n",
    "        state.add_updater(lambda s: s.become(Vector(scale*np.array([np.cos(theta.get_value()), np.sin(theta.get_value())]), buff=0)))\n",
    "        \n",
    "#         self.add(ax, state)\n",
    "#         self.play(Create(circle), theta.animate.increment_value(2*np.pi), run_time=2)\n",
    "#         theta.set_value(0.0)\n",
    "#         self.play(FadeOut(circle), run_time=0.5)\n",
    "#         self.play(theta.animate.set_value(np.pi/2), FadeIn(dead))\n",
    "#         self.play(theta.animate.set_value(0.0), FadeIn(alive))\n",
    "        self.add(ax,state,dead,alive)\n",
    "    \n",
    "\n",
    "        h_color = YELLOW\n",
    "        v_color = GREEN\n",
    "        \n",
    "        psi = MathTex(r'|\\psi\\rangle=', font_size=ket_font)\n",
    "        alive_amp = DecimalNumber(font_size=ket_font).set_value(np.cos(theta.get_value())).set_color(h_color)\n",
    "        dead_amp = DecimalNumber(font_size=ket_font, include_sign=True).set_value(np.sin(theta.get_value())).set_color(v_color)\n",
    "        alive_amp.next_to(psi,RIGHT)\n",
    "        aket = get_cat_ket('alive', scale=ket_scale).next_to(alive_amp, 1.3*RIGHT)\n",
    "        dead_amp.next_to(aket, RIGHT)\n",
    "        dket = get_cat_ket('dead', scale=ket_scale).next_to(dead_amp, RIGHT)\n",
    "        dead_amp.add_updater(lambda n: n.set_value(np.sin(theta.get_value())))\n",
    "        alive_amp.add_updater(lambda n: n.set_value(np.cos(theta.get_value())))\n",
    "        \n",
    "#         dead_amp.add_updater(lambda n: n.next_to(aket, RIGHT))\n",
    "#         alive_amp.add_updater(lambda n: n.next_to(psi, RIGHT))\n",
    "#         dket.add_updater(lambda n: n.next_to(dead_amp, RIGHT))\n",
    "#         aket.add_updater(lambda n: n.next_to(alive_amp,RIGHT))\n",
    "        \n",
    "        \n",
    "        statevec = Group(psi, dead_amp, alive_amp, dket,aket)\n",
    "        statevec.next_to(circle, UR)\n",
    "        \n",
    "        h_vec = Vector([scale*np.cos(theta.get_value()), 0]).set_color(h_color)\n",
    "        v_vec = Vector([0, scale*np.sin(theta.get_value())]).shift(scale*np.cos(theta.get_value())*RIGHT).set_color(v_color)\n",
    "        def update_hvec(v):\n",
    "            if np.abs(np.sin(theta.get_value())) > 1e-5:\n",
    "                v.become(Vector([scale*np.cos(theta.get_value()), 0]).set_color(h_color))\n",
    "            else:\n",
    "                v.become(Vector([0,0]).set_color(h_color))\n",
    "        h_vec.add_updater(update_hvec)\n",
    "        v_vec.add_updater(lambda v: v.become(Vector([0, scale*np.sin(theta.get_value())]).shift(scale*np.cos(theta.get_value())*RIGHT).set_color(v_color)))\n",
    "        \n",
    "        components = VGroup(h_vec,v_vec)\n",
    "        \n",
    "#         self.play(FadeIn(statevec))\n",
    "        self.add(components, statevec)\n",
    "        self.play(theta.animate.set_value(2*np.pi), run_time=2)\n",
    "        \n",
    "        ket0 = MathTex(r'|0\\rangle', font_size=ket_font).move_to(aket.get_center())\n",
    "        ket1 = MathTex(r'|1\\rangle', font_size=ket_font).move_to(dket.get_center())\n",
    "        \n",
    "        self.play(FadeOut(dket), FadeOut(aket), FadeIn(ket0), FadeIn(ket1))\n",
    "\n",
    "        self.wait()"
   ]
  }
 ],
 "metadata": {
  "kernelspec": {
   "display_name": "Python 3 (ipykernel)",
   "language": "python",
   "name": "python3"
  },
  "language_info": {
   "codemirror_mode": {
    "name": "ipython",
    "version": 3
   },
   "file_extension": ".py",
   "mimetype": "text/x-python",
   "name": "python",
   "nbconvert_exporter": "python",
   "pygments_lexer": "ipython3",
   "version": "3.9.7"
  }
 },
 "nbformat": 4,
 "nbformat_minor": 5
}
